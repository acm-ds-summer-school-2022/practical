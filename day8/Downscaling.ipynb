{
  "cells": [
    {
      "cell_type": "markdown",
      "metadata": {
        "id": "olZ5Eh9i6ga7"
      },
      "source": [
        "# Setting Up"
      ]
    },
    {
      "cell_type": "code",
      "execution_count": null,
      "metadata": {
        "colab": {
          "base_uri": "https://localhost:8080/"
        },
        "id": "ldP1dWqY-AYX",
        "outputId": "e5976f24-4a5d-4f13-f5f3-64281eb5196e"
      },
      "outputs": [
        {
          "name": "stdout",
          "output_type": "stream",
          "text": [
            "Get:1 https://developer.download.nvidia.com/compute/cuda/repos/ubuntu1804/x86_64  InRelease [1,581 B]\n",
            "Get:2 http://ppa.launchpad.net/c2d4u.team/c2d4u4.0+/ubuntu bionic InRelease [15.9 kB]\n",
            "Get:3 http://security.ubuntu.com/ubuntu bionic-security InRelease [88.7 kB]\n",
            "Ign:4 https://developer.download.nvidia.com/compute/machine-learning/repos/ubuntu1804/x86_64  InRelease\n",
            "Get:5 https://developer.download.nvidia.com/compute/cuda/repos/ubuntu1804/x86_64  Packages [814 kB]\n",
            "Hit:6 https://developer.download.nvidia.com/compute/machine-learning/repos/ubuntu1804/x86_64  Release\n",
            "Get:8 https://cloud.r-project.org/bin/linux/ubuntu bionic-cran40/ InRelease [3,626 B]\n",
            "Hit:9 http://archive.ubuntu.com/ubuntu bionic InRelease\n",
            "Get:10 http://archive.ubuntu.com/ubuntu bionic-updates InRelease [88.7 kB]\n",
            "Hit:11 http://ppa.launchpad.net/cran/libgit2/ubuntu bionic InRelease\n",
            "Get:12 http://security.ubuntu.com/ubuntu bionic-security/universe amd64 Packages [1,521 kB]\n",
            "Get:13 http://ppa.launchpad.net/deadsnakes/ppa/ubuntu bionic InRelease [15.9 kB]\n",
            "Get:14 http://archive.ubuntu.com/ubuntu bionic-backports InRelease [74.6 kB]\n",
            "Get:15 http://archive.ubuntu.com/ubuntu bionic-updates/restricted amd64 Packages [1,099 kB]\n",
            "Hit:16 http://ppa.launchpad.net/graphics-drivers/ppa/ubuntu bionic InRelease\n",
            "Get:17 http://security.ubuntu.com/ubuntu bionic-security/main amd64 Packages [2,873 kB]\n",
            "Get:18 http://ppa.launchpad.net/c2d4u.team/c2d4u4.0+/ubuntu bionic/main Sources [2,075 kB]\n",
            "Get:19 http://archive.ubuntu.com/ubuntu bionic-updates/universe amd64 Packages [2,298 kB]\n",
            "Get:20 http://archive.ubuntu.com/ubuntu bionic-updates/main amd64 Packages [3,321 kB]\n",
            "Get:21 http://ppa.launchpad.net/c2d4u.team/c2d4u4.0+/ubuntu bionic/main amd64 Packages [1,063 kB]\n",
            "Get:22 http://ppa.launchpad.net/deadsnakes/ppa/ubuntu bionic/main amd64 Packages [45.9 kB]\n",
            "Fetched 15.4 MB in 5s (2,802 kB/s)\n",
            "Reading package lists... Done\n",
            "Reading package lists... Done\n",
            "Building dependency tree       \n",
            "Reading state information... Done\n",
            "The following package was automatically installed and is no longer required:\n",
            "  libnvidia-common-460\n",
            "Use 'apt autoremove' to remove it.\n",
            "The following additional packages will be installed:\n",
            "  libspatialindex-c4v5 libspatialindex4v5\n",
            "The following NEW packages will be installed:\n",
            "  libspatialindex-c4v5 libspatialindex-dev libspatialindex4v5\n",
            "0 upgraded, 3 newly installed, 0 to remove and 67 not upgraded.\n",
            "Need to get 555 kB of archives.\n",
            "After this operation, 3,308 kB of additional disk space will be used.\n",
            "Get:1 http://archive.ubuntu.com/ubuntu bionic/universe amd64 libspatialindex4v5 amd64 1.8.5-5 [219 kB]\n",
            "Get:2 http://archive.ubuntu.com/ubuntu bionic/universe amd64 libspatialindex-c4v5 amd64 1.8.5-5 [51.7 kB]\n",
            "Get:3 http://archive.ubuntu.com/ubuntu bionic/universe amd64 libspatialindex-dev amd64 1.8.5-5 [285 kB]\n",
            "Fetched 555 kB in 2s (362 kB/s)\n",
            "Selecting previously unselected package libspatialindex4v5:amd64.\n",
            "(Reading database ... 155639 files and directories currently installed.)\n",
            "Preparing to unpack .../libspatialindex4v5_1.8.5-5_amd64.deb ...\n",
            "Unpacking libspatialindex4v5:amd64 (1.8.5-5) ...\n",
            "Selecting previously unselected package libspatialindex-c4v5:amd64.\n",
            "Preparing to unpack .../libspatialindex-c4v5_1.8.5-5_amd64.deb ...\n",
            "Unpacking libspatialindex-c4v5:amd64 (1.8.5-5) ...\n",
            "Selecting previously unselected package libspatialindex-dev:amd64.\n",
            "Preparing to unpack .../libspatialindex-dev_1.8.5-5_amd64.deb ...\n",
            "Unpacking libspatialindex-dev:amd64 (1.8.5-5) ...\n",
            "Setting up libspatialindex4v5:amd64 (1.8.5-5) ...\n",
            "Setting up libspatialindex-c4v5:amd64 (1.8.5-5) ...\n",
            "Setting up libspatialindex-dev:amd64 (1.8.5-5) ...\n",
            "Processing triggers for libc-bin (2.27-3ubuntu1.3) ...\n",
            "/sbin/ldconfig.real: /usr/local/lib/python3.7/dist-packages/ideep4py/lib/libmkldnn.so.0 is not a symbolic link\n",
            "\n",
            "Looking in indexes: https://pypi.org/simple, https://us-python.pkg.dev/colab-wheels/public/simple/\n",
            "Collecting rtree\n",
            "  Downloading Rtree-1.0.0-cp37-cp37m-manylinux_2_17_x86_64.manylinux2014_x86_64.whl (1.0 MB)\n",
            "\u001b[K     |████████████████████████████████| 1.0 MB 33.7 MB/s \n",
            "\u001b[?25hRequirement already satisfied: typing-extensions>=3.7 in /usr/local/lib/python3.7/dist-packages (from rtree) (4.1.1)\n",
            "Installing collected packages: rtree\n",
            "Successfully installed rtree-1.0.0\n",
            "Looking in indexes: https://pypi.org/simple, https://us-python.pkg.dev/colab-wheels/public/simple/\n",
            "Collecting geopandas\n",
            "  Downloading geopandas-0.10.2-py2.py3-none-any.whl (1.0 MB)\n",
            "\u001b[K     |████████████████████████████████| 1.0 MB 31.5 MB/s \n",
            "\u001b[?25hRequirement already satisfied: shapely>=1.6 in /usr/local/lib/python3.7/dist-packages (from geopandas) (1.8.2)\n",
            "Requirement already satisfied: pandas>=0.25.0 in /usr/local/lib/python3.7/dist-packages (from geopandas) (1.3.5)\n",
            "Collecting fiona>=1.8\n",
            "  Downloading Fiona-1.8.21-cp37-cp37m-manylinux2014_x86_64.whl (16.7 MB)\n",
            "\u001b[K     |████████████████████████████████| 16.7 MB 44.6 MB/s \n",
            "\u001b[?25hCollecting pyproj>=2.2.0\n",
            "  Downloading pyproj-3.2.1-cp37-cp37m-manylinux2010_x86_64.whl (6.3 MB)\n",
            "\u001b[K     |████████████████████████████████| 6.3 MB 5.2 MB/s \n",
            "\u001b[?25hRequirement already satisfied: setuptools in /usr/local/lib/python3.7/dist-packages (from fiona>=1.8->geopandas) (57.4.0)\n",
            "Collecting munch\n",
            "  Downloading munch-2.5.0-py2.py3-none-any.whl (10 kB)\n",
            "Collecting click-plugins>=1.0\n",
            "  Downloading click_plugins-1.1.1-py2.py3-none-any.whl (7.5 kB)\n",
            "Requirement already satisfied: attrs>=17 in /usr/local/lib/python3.7/dist-packages (from fiona>=1.8->geopandas) (21.4.0)\n",
            "Requirement already satisfied: click>=4.0 in /usr/local/lib/python3.7/dist-packages (from fiona>=1.8->geopandas) (7.1.2)\n",
            "Collecting cligj>=0.5\n",
            "  Downloading cligj-0.7.2-py3-none-any.whl (7.1 kB)\n",
            "Requirement already satisfied: six>=1.7 in /usr/local/lib/python3.7/dist-packages (from fiona>=1.8->geopandas) (1.15.0)\n",
            "Requirement already satisfied: certifi in /usr/local/lib/python3.7/dist-packages (from fiona>=1.8->geopandas) (2022.6.15)\n",
            "Requirement already satisfied: numpy>=1.17.3 in /usr/local/lib/python3.7/dist-packages (from pandas>=0.25.0->geopandas) (1.21.6)\n",
            "Requirement already satisfied: python-dateutil>=2.7.3 in /usr/local/lib/python3.7/dist-packages (from pandas>=0.25.0->geopandas) (2.8.2)\n",
            "Requirement already satisfied: pytz>=2017.3 in /usr/local/lib/python3.7/dist-packages (from pandas>=0.25.0->geopandas) (2022.1)\n",
            "Installing collected packages: munch, cligj, click-plugins, pyproj, fiona, geopandas\n",
            "Successfully installed click-plugins-1.1.1 cligj-0.7.2 fiona-1.8.21 geopandas-0.10.2 munch-2.5.0 pyproj-3.2.1\n",
            "Looking in indexes: https://pypi.org/simple, https://us-python.pkg.dev/colab-wheels/public/simple/\n",
            "Collecting plotly_express\n",
            "  Downloading plotly_express-0.4.1-py2.py3-none-any.whl (2.9 kB)\n",
            "Requirement already satisfied: scipy>=0.18 in /usr/local/lib/python3.7/dist-packages (from plotly_express) (1.4.1)\n",
            "Requirement already satisfied: numpy>=1.11 in /usr/local/lib/python3.7/dist-packages (from plotly_express) (1.21.6)\n",
            "Requirement already satisfied: patsy>=0.5 in /usr/local/lib/python3.7/dist-packages (from plotly_express) (0.5.2)\n",
            "Requirement already satisfied: statsmodels>=0.9.0 in /usr/local/lib/python3.7/dist-packages (from plotly_express) (0.10.2)\n",
            "Requirement already satisfied: pandas>=0.20.0 in /usr/local/lib/python3.7/dist-packages (from plotly_express) (1.3.5)\n",
            "Requirement already satisfied: plotly>=4.1.0 in /usr/local/lib/python3.7/dist-packages (from plotly_express) (5.5.0)\n",
            "Requirement already satisfied: python-dateutil>=2.7.3 in /usr/local/lib/python3.7/dist-packages (from pandas>=0.20.0->plotly_express) (2.8.2)\n",
            "Requirement already satisfied: pytz>=2017.3 in /usr/local/lib/python3.7/dist-packages (from pandas>=0.20.0->plotly_express) (2022.1)\n",
            "Requirement already satisfied: six in /usr/local/lib/python3.7/dist-packages (from patsy>=0.5->plotly_express) (1.15.0)\n",
            "Requirement already satisfied: tenacity>=6.2.0 in /usr/local/lib/python3.7/dist-packages (from plotly>=4.1.0->plotly_express) (8.0.1)\n",
            "Installing collected packages: plotly-express\n",
            "Successfully installed plotly-express-0.4.1\n",
            "CPU times: user 399 ms, sys: 82.8 ms, total: 482 ms\n",
            "Wall time: 38.4 s\n"
          ]
        }
      ],
      "source": [
        "%%time\n",
        "\n",
        "!sudo apt-get update && apt-get install -y libspatialindex-dev\n",
        "!pip install rtree\n",
        "!pip install geopandas\n",
        "!pip install plotly_express"
      ]
    },
    {
      "cell_type": "code",
      "execution_count": null,
      "metadata": {
        "id": "FlZe5VMk961B"
      },
      "outputs": [],
      "source": [
        "import pandas as pd\n",
        "import numpy as np\n",
        "import geopandas as gpd\n",
        "from shapely.geometry import Point\n",
        "import matplotlib\n",
        "import matplotlib.pyplot as plt \n",
        "import folium\n",
        "import plotly_express as px"
      ]
    },
    {
      "cell_type": "code",
      "execution_count": null,
      "metadata": {
        "id": "sVJO7V5blx5b"
      },
      "outputs": [],
      "source": [
        "# %cd ..\n",
        "\n",
        "# %rm -r Lab_Downscaling"
      ]
    },
    {
      "cell_type": "code",
      "execution_count": null,
      "metadata": {},
      "outputs": [],
      "source": [
        "# try:\n",
        "!git init Lab_Downscaling\n",
        "%cd Lab_Downscaling\n",
        "!git remote add -f origin https://github.com/acm-ds-summer-school-2022/practical\n",
        "!git config core.sparseCheckout true\n",
        "!echo \"day8\" >> .git/info/sparse-checkout\n",
        "!git pull origin main"
      ]
    },
    {
      "cell_type": "code",
      "execution_count": null,
      "metadata": {
        "colab": {
          "base_uri": "https://localhost:8080/"
        },
        "id": "mCZKN5rm6kRg",
        "outputId": "7e4ee623-6d02-4b0d-def0-b104552ae73f"
      },
      "outputs": [
        {
          "name": "stdout",
          "output_type": "stream",
          "text": [
            "Cloning into 'Lab_Downscaling'...\n",
            "remote: Enumerating objects: 12399, done.\u001b[K\n",
            "remote: Counting objects: 100% (11/11), done.\u001b[K\n",
            "remote: Compressing objects: 100% (9/9), done.\u001b[K\n",
            "remote: Total 12399 (delta 3), reused 9 (delta 2), pack-reused 12388\u001b[K\n",
            "Receiving objects: 100% (12399/12399), 322.04 MiB | 16.33 MiB/s, done.\n",
            "Resolving deltas: 100% (3744/3744), done.\n",
            "Checking out files: 100% (4410/4410), done.\n",
            "/content/Lab_Downscaling\n"
          ]
        }
      ],
      "source": [
        "#except:\n",
        "# !git clone https://github.com/dubeysarth/Lab_Downscaling\n",
        "# %cd Lab_Downscaling"
      ]
    },
    {
      "cell_type": "code",
      "execution_count": null,
      "metadata": {
        "id": "92BJLrQr6buC"
      },
      "outputs": [],
      "source": [
        "'''\n",
        "Import Libraries\n",
        "'''\n",
        "import xarray as xr\n",
        "import netCDF4 as nc\n",
        "import numpy as np\n",
        "import pandas as pd\n",
        "import matplotlib.pyplot as plt\n",
        "import seaborn as sns\n",
        "import os\n",
        "import glob\n",
        "import random\n",
        "import itertools\n",
        "from tqdm import tqdm"
      ]
    },
    {
      "cell_type": "code",
      "execution_count": null,
      "metadata": {
        "id": "7pSAAQS26_I5"
      },
      "outputs": [],
      "source": [
        "import tensorflow as tf\n",
        "from tensorflow import keras\n",
        "import tensorflow.keras.backend as K\n",
        "import tensorflow.keras.preprocessing as prep\n",
        "from model import AugementedConvLSTM"
      ]
    },
    {
      "cell_type": "code",
      "execution_count": null,
      "metadata": {
        "colab": {
          "base_uri": "https://localhost:8080/",
          "height": 337
        },
        "id": "ooM4jkwq_Dqa",
        "outputId": "822dfa34-c331-4b34-c91c-1d2ec3ff64b5"
      },
      "outputs": [
        {
          "name": "stdout",
          "output_type": "stream",
          "text": [
            "[ 65.  70.  75.  80.  85.  90.  95. 100.]\n"
          ]
        },
        {
          "data": {
            "image/png": "[encoded data removed]",
            "text/plain": [
              "<Figure size 360x360 with 1 Axes>"
            ]
          },
          "metadata": {
            "needs_background": "light"
          },
          "output_type": "display_data"
        }
      ],
      "source": [
        "fp = r\"India Shapefile With Kashmir/India Shape/india_st.shp\"\n",
        "map_df = gpd.read_file(fp)\n",
        "map_df = map_df.set_crs('EPSG:4326')\n",
        "# map_df.crs\n",
        "fig, ax = plt.subplots(1,1, figsize=(5,5))\n",
        "map_df.plot(edgecolor=\"black\", facecolor=\"None\", ax = ax)\n",
        "print(ax.get_xticks())"
      ]
    },
    {
      "cell_type": "markdown",
      "metadata": {
        "id": "woypnFVO7Sv5"
      },
      "source": [
        "# Familiarizing with the Dataset"
      ]
    },
    {
      "cell_type": "markdown",
      "metadata": {
        "id": "2gnLgKNJ7ZLT"
      },
      "source": [
        "## Raw Precipitation Data (.nc format)"
      ]
    },
    {
      "cell_type": "code",
      "execution_count": null,
      "metadata": {
        "colab": {
          "base_uri": "https://localhost:8080/",
          "height": 308
        },
        "id": "A_r8HeH66opA",
        "outputId": "bff374a9-1977-4131-b9b6-f121fc5da6e2"
      },
      "outputs": [
        {
          "data": {
            "text/html": [
              "<div><svg style=\"position: absolute; width: 0; height: 0; overflow: hidden\">\n",
              "<defs>\n",
              "<symbol id=\"icon-database\" viewBox=\"0 0 32 32\">\n",
              "<path d=\"M16 0c-8.837 0-16 2.239-16 5v4c0 2.761 7.163 5 16 5s16-2.239 16-5v-4c0-2.761-7.163-5-16-5z\"></path>\n",
              "<path d=\"M16 17c-8.837 0-16-2.239-16-5v6c0 2.761 7.163 5 16 5s16-2.239 16-5v-6c0 2.761-7.163 5-16 5z\"></path>\n",
              "<path d=\"M16 26c-8.837 0-16-2.239-16-5v6c0 2.761 7.163 5 16 5s16-2.239 16-5v-6c0 2.761-7.163 5-16 5z\"></path>\n",
              "</symbol>\n",
              "<symbol id=\"icon-file-text2\" viewBox=\"0 0 32 32\">\n",
              "<path d=\"M28.681 7.159c-0.694-0.947-1.662-2.053-2.724-3.116s-2.169-2.030-3.116-2.724c-1.612-1.182-2.393-1.319-2.841-1.319h-15.5c-1.378 0-2.5 1.121-2.5 2.5v27c0 1.378 1.122 2.5 2.5 2.5h23c1.378 0 2.5-1.122 2.5-2.5v-19.5c0-0.448-0.137-1.23-1.319-2.841zM24.543 5.457c0.959 0.959 1.712 1.825 2.268 2.543h-4.811v-4.811c0.718 0.556 1.584 1.309 2.543 2.268zM28 29.5c0 0.271-0.229 0.5-0.5 0.5h-23c-0.271 0-0.5-0.229-0.5-0.5v-27c0-0.271 0.229-0.5 0.5-0.5 0 0 15.499-0 15.5 0v7c0 0.552 0.448 1 1 1h7v19.5z\"></path>\n",
              "<path d=\"M23 26h-14c-0.552 0-1-0.448-1-1s0.448-1 1-1h14c0.552 0 1 0.448 1 1s-0.448 1-1 1z\"></path>\n",
              "<path d=\"M23 22h-14c-0.552 0-1-0.448-1-1s0.448-1 1-1h14c0.552 0 1 0.448 1 1s-0.448 1-1 1z\"></path>\n",
              "<path d=\"M23 18h-14c-0.552 0-1-0.448-1-1s0.448-1 1-1h14c0.552 0 1 0.448 1 1s-0.448 1-1 1z\"></path>\n",
              "</symbol>\n",
              "</defs>\n",
              "</svg>\n",
              "<style>/* CSS stylesheet for displaying xarray objects in jupyterlab.\n",
              " *\n",
              " */\n",
              "\n",
              ":root {\n",
              "  --xr-font-color0: var(--jp-content-font-color0, rgba(0, 0, 0, 1));\n",
              "  --xr-font-color2: var(--jp-content-font-color2, rgba(0, 0, 0, 0.54));\n",
              "  --xr-font-color3: var(--jp-content-font-color3, rgba(0, 0, 0, 0.38));\n",
              "  --xr-border-color: var(--jp-border-color2, #e0e0e0);\n",
              "  --xr-disabled-color: var(--jp-layout-color3, #bdbdbd);\n",
              "  --xr-background-color: var(--jp-layout-color0, white);\n",
              "  --xr-background-color-row-even: var(--jp-layout-color1, white);\n",
              "  --xr-background-color-row-odd: var(--jp-layout-color2, #eeeeee);\n",
              "}\n",
              "\n",
              "html[theme=dark],\n",
              "body.vscode-dark {\n",
              "  --xr-font-color0: rgba(255, 255, 255, 1);\n",
              "  --xr-font-color2: rgba(255, 255, 255, 0.54);\n",
              "  --xr-font-color3: rgba(255, 255, 255, 0.38);\n",
              "  --xr-border-color: #1F1F1F;\n",
              "  --xr-disabled-color: #515151;\n",
              "  --xr-background-color: #111111;\n",
              "  --xr-background-color-row-even: #111111;\n",
              "  --xr-background-color-row-odd: #313131;\n",
              "}\n",
              "\n",
              ".xr-wrap {\n",
              "  display: block !important;\n",
              "  min-width: 300px;\n",
              "  max-width: 700px;\n",
              "}\n",
              "\n",
              ".xr-text-repr-fallback {\n",
              "  /* fallback to plain text repr when CSS is not injected (untrusted notebook) */\n",
              "  display: none;\n",
              "}\n",
              "\n",
              ".xr-header {\n",
              "  padding-top: 6px;\n",
              "  padding-bottom: 6px;\n",
              "  margin-bottom: 4px;\n",
              "  border-bottom: solid 1px var(--xr-border-color);\n",
              "}\n",
              "\n",
              ".xr-header > div,\n",
              ".xr-header > ul {\n",
              "  display: inline;\n",
              "  margin-top: 0;\n",
              "  margin-bottom: 0;\n",
              "}\n",
              "\n",
              ".xr-obj-type,\n",
              ".xr-array-name {\n",
              "  margin-left: 2px;\n",
              "  margin-right: 10px;\n",
              "}\n",
              "\n",
              ".xr-obj-type {\n",
              "  color: var(--xr-font-color2);\n",
              "}\n",
              "\n",
              ".xr-sections {\n",
              "  padding-left: 0 !important;\n",
              "  display: grid;\n",
              "  grid-template-columns: 150px auto auto 1fr 20px 20px;\n",
              "}\n",
              "\n",
              ".xr-section-item {\n",
              "  display: contents;\n",
              "}\n",
              "\n",
              ".xr-section-item input {\n",
              "  display: none;\n",
              "}\n",
              "\n",
              ".xr-section-item input + label {\n",
              "  color: var(--xr-disabled-color);\n",
              "}\n",
              "\n",
              ".xr-section-item input:enabled + label {\n",
              "  cursor: pointer;\n",
              "  color: var(--xr-font-color2);\n",
              "}\n",
              "\n",
              ".xr-section-item input:enabled + label:hover {\n",
              "  color: var(--xr-font-color0);\n",
              "}\n",
              "\n",
              ".xr-section-summary {\n",
              "  grid-column: 1;\n",
              "  color: var(--xr-font-color2);\n",
              "  font-weight: 500;\n",
              "}\n",
              "\n",
              ".xr-section-summary > span {\n",
              "  display: inline-block;\n",
              "  padding-left: 0.5em;\n",
              "}\n",
              "\n",
              ".xr-section-summary-in:disabled + label {\n",
              "  color: var(--xr-font-color2);\n",
              "}\n",
              "\n",
              ".xr-section-summary-in + label:before {\n",
              "  display: inline-block;\n",
              "  content: '►';\n",
              "  font-size: 11px;\n",
              "  width: 15px;\n",
              "  text-align: center;\n",
              "}\n",
              "\n",
              ".xr-section-summary-in:disabled + label:before {\n",
              "  color: var(--xr-disabled-color);\n",
              "}\n",
              "\n",
              ".xr-section-summary-in:checked + label:before {\n",
              "  content: '▼';\n",
              "}\n",
              "\n",
              ".xr-section-summary-in:checked + label > span {\n",
              "  display: none;\n",
              "}\n",
              "\n",
              ".xr-section-summary,\n",
              ".xr-section-inline-details {\n",
              "  padding-top: 4px;\n",
              "  padding-bottom: 4px;\n",
              "}\n",
              "\n",
              ".xr-section-inline-details {\n",
              "  grid-column: 2 / -1;\n",
              "}\n",
              "\n",
              ".xr-section-details {\n",
              "  display: none;\n",
              "  grid-column: 1 / -1;\n",
              "  margin-bottom: 5px;\n",
              "}\n",
              "\n",
              ".xr-section-summary-in:checked ~ .xr-section-details {\n",
              "  display: contents;\n",
              "}\n",
              "\n",
              ".xr-array-wrap {\n",
              "  grid-column: 1 / -1;\n",
              "  display: grid;\n",
              "  grid-template-columns: 20px auto;\n",
              "}\n",
              "\n",
              ".xr-array-wrap > label {\n",
              "  grid-column: 1;\n",
              "  vertical-align: top;\n",
              "}\n",
              "\n",
              ".xr-preview {\n",
              "  color: var(--xr-font-color3);\n",
              "}\n",
              "\n",
              ".xr-array-preview,\n",
              ".xr-array-data {\n",
              "  padding: 0 5px !important;\n",
              "  grid-column: 2;\n",
              "}\n",
              "\n",
              ".xr-array-data,\n",
              ".xr-array-in:checked ~ .xr-array-preview {\n",
              "  display: none;\n",
              "}\n",
              "\n",
              ".xr-array-in:checked ~ .xr-array-data,\n",
              ".xr-array-preview {\n",
              "  display: inline-block;\n",
              "}\n",
              "\n",
              ".xr-dim-list {\n",
              "  display: inline-block !important;\n",
              "  list-style: none;\n",
              "  padding: 0 !important;\n",
              "  margin: 0;\n",
              "}\n",
              "\n",
              ".xr-dim-list li {\n",
              "  display: inline-block;\n",
              "  padding: 0;\n",
              "  margin: 0;\n",
              "}\n",
              "\n",
              ".xr-dim-list:before {\n",
              "  content: '(';\n",
              "}\n",
              "\n",
              ".xr-dim-list:after {\n",
              "  content: ')';\n",
              "}\n",
              "\n",
              ".xr-dim-list li:not(:last-child):after {\n",
              "  content: ',';\n",
              "  padding-right: 5px;\n",
              "}\n",
              "\n",
              ".xr-has-index {\n",
              "  font-weight: bold;\n",
              "}\n",
              "\n",
              ".xr-var-list,\n",
              ".xr-var-item {\n",
              "  display: contents;\n",
              "}\n",
              "\n",
              ".xr-var-item > div,\n",
              ".xr-var-item label,\n",
              ".xr-var-item > .xr-var-name span {\n",
              "  background-color: var(--xr-background-color-row-even);\n",
              "  margin-bottom: 0;\n",
              "}\n",
              "\n",
              ".xr-var-item > .xr-var-name:hover span {\n",
              "  padding-right: 5px;\n",
              "}\n",
              "\n",
              ".xr-var-list > li:nth-child(odd) > div,\n",
              ".xr-var-list > li:nth-child(odd) > label,\n",
              ".xr-var-list > li:nth-child(odd) > .xr-var-name span {\n",
              "  background-color: var(--xr-background-color-row-odd);\n",
              "}\n",
              "\n",
              ".xr-var-name {\n",
              "  grid-column: 1;\n",
              "}\n",
              "\n",
              ".xr-var-dims {\n",
              "  grid-column: 2;\n",
              "}\n",
              "\n",
              ".xr-var-dtype {\n",
              "  grid-column: 3;\n",
              "  text-align: right;\n",
              "  color: var(--xr-font-color2);\n",
              "}\n",
              "\n",
              ".xr-var-preview {\n",
              "  grid-column: 4;\n",
              "}\n",
              "\n",
              ".xr-var-name,\n",
              ".xr-var-dims,\n",
              ".xr-var-dtype,\n",
              ".xr-preview,\n",
              ".xr-attrs dt {\n",
              "  white-space: nowrap;\n",
              "  overflow: hidden;\n",
              "  text-overflow: ellipsis;\n",
              "  padding-right: 10px;\n",
              "}\n",
              "\n",
              ".xr-var-name:hover,\n",
              ".xr-var-dims:hover,\n",
              ".xr-var-dtype:hover,\n",
              ".xr-attrs dt:hover {\n",
              "  overflow: visible;\n",
              "  width: auto;\n",
              "  z-index: 1;\n",
              "}\n",
              "\n",
              ".xr-var-attrs,\n",
              ".xr-var-data {\n",
              "  display: none;\n",
              "  background-color: var(--xr-background-color) !important;\n",
              "  padding-bottom: 5px !important;\n",
              "}\n",
              "\n",
              ".xr-var-attrs-in:checked ~ .xr-var-attrs,\n",
              ".xr-var-data-in:checked ~ .xr-var-data {\n",
              "  display: block;\n",
              "}\n",
              "\n",
              ".xr-var-data > table {\n",
              "  float: right;\n",
              "}\n",
              "\n",
              ".xr-var-name span,\n",
              ".xr-var-data,\n",
              ".xr-attrs {\n",
              "  padding-left: 25px !important;\n",
              "}\n",
              "\n",
              ".xr-attrs,\n",
              ".xr-var-attrs,\n",
              ".xr-var-data {\n",
              "  grid-column: 1 / -1;\n",
              "}\n",
              "\n",
              "dl.xr-attrs {\n",
              "  padding: 0;\n",
              "  margin: 0;\n",
              "  display: grid;\n",
              "  grid-template-columns: 125px auto;\n",
              "}\n",
              "\n",
              ".xr-attrs dt,\n",
              ".xr-attrs dd {\n",
              "  padding: 0;\n",
              "  margin: 0;\n",
              "  float: left;\n",
              "  padding-right: 10px;\n",
              "  width: auto;\n",
              "}\n",
              "\n",
              ".xr-attrs dt {\n",
              "  font-weight: normal;\n",
              "  grid-column: 1;\n",
              "}\n",
              "\n",
              ".xr-attrs dt:hover span {\n",
              "  display: inline-block;\n",
              "  background: var(--xr-background-color);\n",
              "  padding-right: 10px;\n",
              "}\n",
              "\n",
              ".xr-attrs dd {\n",
              "  grid-column: 2;\n",
              "  white-space: pre-wrap;\n",
              "  word-break: break-all;\n",
              "}\n",
              "\n",
              ".xr-icon-database,\n",
              ".xr-icon-file-text2 {\n",
              "  display: inline-block;\n",
              "  vertical-align: middle;\n",
              "  width: 1em;\n",
              "  height: 1.5em !important;\n",
              "  stroke-width: 0;\n",
              "  stroke: currentColor;\n",
              "  fill: currentColor;\n",
              "}\n",
              "</style><pre class='xr-text-repr-fallback'>&lt;xarray.Dataset&gt;\n",
              "Dimensions:    (time: 2190, bnds: 2, lat: 12, lon: 12)\n",
              "Coordinates:\n",
              "  * time       (time) datetime64[ns] 2000-01-01T12:00:00 ... 2005-12-31T12:00:00\n",
              "  * lat        (lat) float64 6.977 9.767 12.56 15.35 ... 29.3 32.09 34.88 37.67\n",
              "  * lon        (lon) float64 67.5 70.31 73.12 75.94 ... 90.0 92.81 95.62 98.44\n",
              "Dimensions without coordinates: bnds\n",
              "Data variables:\n",
              "    time_bnds  (time, bnds) datetime64[ns] 2000-01-01 2000-01-02 ... 2006-01-01\n",
              "    lat_bnds   (lat, bnds) float64 5.582 8.373 8.373 11.16 ... 36.28 36.28 39.07\n",
              "    lon_bnds   (lon, bnds) float64 66.09 68.91 68.91 71.72 ... 97.03 97.03 99.84\n",
              "    pr         (time, lat, lon) float32 ...\n",
              "Attributes: (12/27)\n",
              "    institution:            JAMSTEC (Japan Agency for Marine-Earth Science an...\n",
              "    institute_id:           MIROC\n",
              "    experiment_id:          historical\n",
              "    source:                 MIROC-ESM 2010 atmosphere: MIROC-AGCM (MIROC-AGCM...\n",
              "    model_id:               MIROC-ESM\n",
              "    forcing:                GHG, SA, Oz, LU, Sl, Vl, MD, BC, OC\n",
              "    ...                     ...\n",
              "    table_id:               Table day (26 July 2011) f21c16b785432e6bd3f72e80...\n",
              "    title:                  MIROC-ESM model output prepared for CMIP5 historical\n",
              "    parent_experiment:      pre-industrial control\n",
              "    modeling_realm:         atmos\n",
              "    realization:            1\n",
              "    cmor_version:           2.7.1</pre><div class='xr-wrap' style='display:none'><div class='xr-header'><div class='xr-obj-type'>xarray.Dataset</div></div><ul class='xr-sections'><li class='xr-section-item'><input id='section-96b8666a-359b-4a6c-b9fb-7dbaec3e54ff' class='xr-section-summary-in' type='checkbox' disabled ><label for='section-96b8666a-359b-4a6c-b9fb-7dbaec3e54ff' class='xr-section-summary'  title='Expand/collapse section'>Dimensions:</label><div class='xr-section-inline-details'><ul class='xr-dim-list'><li><span class='xr-has-index'>time</span>: 2190</li><li><span>bnds</span>: 2</li><li><span class='xr-has-index'>lat</span>: 12</li><li><span class='xr-has-index'>lon</span>: 12</li></ul></div><div class='xr-section-details'></div></li><li class='xr-section-item'><input id='section-217a593f-3fe0-4eb2-b921-1e504643641e' class='xr-section-summary-in' type='checkbox'  checked><label for='section-217a593f-3fe0-4eb2-b921-1e504643641e' class='xr-section-summary' >Coordinates: <span>(3)</span></label><div class='xr-section-inline-details'></div><div class='xr-section-details'><ul class='xr-var-list'><li class='xr-var-item'><div class='xr-var-name'><span class='xr-has-index'>time</span></div><div class='xr-var-dims'>(time)</div><div class='xr-var-dtype'>datetime64[ns]</div><div class='xr-var-preview xr-preview'>2000-01-01T12:00:00 ... 2005-12-...</div><input id='attrs-005719ff-a4ae-4958-82df-0229c5553b07' class='xr-var-attrs-in' type='checkbox' ><label for='attrs-005719ff-a4ae-4958-82df-0229c5553b07' title='Show/Hide attributes'><svg class='icon xr-icon-file-text2'><use xlink:href='#icon-file-text2'></use></svg></label><input id='data-d117274b-874d-44a2-8247-5e0f81aa0381' class='xr-var-data-in' type='checkbox'><label for='data-d117274b-874d-44a2-8247-5e0f81aa0381' title='Show/Hide data repr'><svg class='icon xr-icon-database'><use xlink:href='#icon-database'></use></svg></label><div class='xr-var-attrs'><dl class='xr-attrs'><dt><span>bounds :</span></dt><dd>time_bnds</dd><dt><span>axis :</span></dt><dd>T</dd><dt><span>long_name :</span></dt><dd>time</dd><dt><span>standard_name :</span></dt><dd>time</dd></dl></div><div class='xr-var-data'><pre>array([&#x27;2000-01-01T12:00:00.000000000&#x27;, &#x27;2000-01-02T12:00:00.000000000&#x27;,\n",
              "       &#x27;2000-01-03T12:00:00.000000000&#x27;, ..., &#x27;2005-12-29T12:00:00.000000000&#x27;,\n",
              "       &#x27;2005-12-30T12:00:00.000000000&#x27;, &#x27;2005-12-31T12:00:00.000000000&#x27;],\n",
              "      dtype=&#x27;datetime64[ns]&#x27;)</pre></div></li><li class='xr-var-item'><div class='xr-var-name'><span class='xr-has-index'>lat</span></div><div class='xr-var-dims'>(lat)</div><div class='xr-var-dtype'>float64</div><div class='xr-var-preview xr-preview'>6.977 9.767 12.56 ... 34.88 37.67</div><input id='attrs-d6ea233e-cb3a-4e7f-bcc1-dcd0da975531' class='xr-var-attrs-in' type='checkbox' ><label for='attrs-d6ea233e-cb3a-4e7f-bcc1-dcd0da975531' title='Show/Hide attributes'><svg class='icon xr-icon-file-text2'><use xlink:href='#icon-file-text2'></use></svg></label><input id='data-6d6a99ec-575e-4f2a-89fb-d0c890c5a23e' class='xr-var-data-in' type='checkbox'><label for='data-6d6a99ec-575e-4f2a-89fb-d0c890c5a23e' title='Show/Hide data repr'><svg class='icon xr-icon-database'><use xlink:href='#icon-database'></use></svg></label><div class='xr-var-attrs'><dl class='xr-attrs'><dt><span>bounds :</span></dt><dd>lat_bnds</dd><dt><span>units :</span></dt><dd>degrees_north</dd><dt><span>axis :</span></dt><dd>Y</dd><dt><span>long_name :</span></dt><dd>latitude</dd><dt><span>standard_name :</span></dt><dd>latitude</dd></dl></div><div class='xr-var-data'><pre>array([ 6.976534,  9.767146, 12.557756, 15.348365, 18.138971, 20.929574,\n",
              "       23.720174, 26.510769, 29.30136 , 32.091944, 34.882521, 37.67309 ])</pre></div></li><li class='xr-var-item'><div class='xr-var-name'><span class='xr-has-index'>lon</span></div><div class='xr-var-dims'>(lon)</div><div class='xr-var-dtype'>float64</div><div class='xr-var-preview xr-preview'>67.5 70.31 73.12 ... 95.62 98.44</div><input id='attrs-61674fe6-79f3-459e-9c6f-093eb0f31a5a' class='xr-var-attrs-in' type='checkbox' ><label for='attrs-61674fe6-79f3-459e-9c6f-093eb0f31a5a' title='Show/Hide attributes'><svg class='icon xr-icon-file-text2'><use xlink:href='#icon-file-text2'></use></svg></label><input id='data-94a08ccb-c083-4e4a-8f38-967bca5c36d3' class='xr-var-data-in' type='checkbox'><label for='data-94a08ccb-c083-4e4a-8f38-967bca5c36d3' title='Show/Hide data repr'><svg class='icon xr-icon-database'><use xlink:href='#icon-database'></use></svg></label><div class='xr-var-attrs'><dl class='xr-attrs'><dt><span>bounds :</span></dt><dd>lon_bnds</dd><dt><span>units :</span></dt><dd>degrees_east</dd><dt><span>axis :</span></dt><dd>X</dd><dt><span>long_name :</span></dt><dd>longitude</dd><dt><span>standard_name :</span></dt><dd>longitude</dd></dl></div><div class='xr-var-data'><pre>array([67.5   , 70.3125, 73.125 , 75.9375, 78.75  , 81.5625, 84.375 , 87.1875,\n",
              "       90.    , 92.8125, 95.625 , 98.4375])</pre></div></li></ul></div></li><li class='xr-section-item'><input id='section-377a8619-6d28-414b-8ac0-a819dfb2c45b' class='xr-section-summary-in' type='checkbox'  checked><label for='section-377a8619-6d28-414b-8ac0-a819dfb2c45b' class='xr-section-summary' >Data variables: <span>(4)</span></label><div class='xr-section-inline-details'></div><div class='xr-section-details'><ul class='xr-var-list'><li class='xr-var-item'><div class='xr-var-name'><span>time_bnds</span></div><div class='xr-var-dims'>(time, bnds)</div><div class='xr-var-dtype'>datetime64[ns]</div><div class='xr-var-preview xr-preview'>...</div><input id='attrs-bb77ba11-91f9-4127-a788-92581b54a5cc' class='xr-var-attrs-in' type='checkbox' disabled><label for='attrs-bb77ba11-91f9-4127-a788-92581b54a5cc' title='Show/Hide attributes'><svg class='icon xr-icon-file-text2'><use xlink:href='#icon-file-text2'></use></svg></label><input id='data-b9ec47ed-c394-4f72-bcdc-0d8c28067efe' class='xr-var-data-in' type='checkbox'><label for='data-b9ec47ed-c394-4f72-bcdc-0d8c28067efe' title='Show/Hide data repr'><svg class='icon xr-icon-database'><use xlink:href='#icon-database'></use></svg></label><div class='xr-var-attrs'><dl class='xr-attrs'></dl></div><div class='xr-var-data'><pre>array([[&#x27;2000-01-01T00:00:00.000000000&#x27;, &#x27;2000-01-02T00:00:00.000000000&#x27;],\n",
              "       [&#x27;2000-01-02T00:00:00.000000000&#x27;, &#x27;2000-01-03T00:00:00.000000000&#x27;],\n",
              "       [&#x27;2000-01-03T00:00:00.000000000&#x27;, &#x27;2000-01-04T00:00:00.000000000&#x27;],\n",
              "       ...,\n",
              "       [&#x27;2005-12-29T00:00:00.000000000&#x27;, &#x27;2005-12-30T00:00:00.000000000&#x27;],\n",
              "       [&#x27;2005-12-30T00:00:00.000000000&#x27;, &#x27;2005-12-31T00:00:00.000000000&#x27;],\n",
              "       [&#x27;2005-12-31T00:00:00.000000000&#x27;, &#x27;2006-01-01T00:00:00.000000000&#x27;]],\n",
              "      dtype=&#x27;datetime64[ns]&#x27;)</pre></div></li><li class='xr-var-item'><div class='xr-var-name'><span>lat_bnds</span></div><div class='xr-var-dims'>(lat, bnds)</div><div class='xr-var-dtype'>float64</div><div class='xr-var-preview xr-preview'>...</div><input id='attrs-0993dfab-ba77-4f26-8877-07c0dab0fe50' class='xr-var-attrs-in' type='checkbox' disabled><label for='attrs-0993dfab-ba77-4f26-8877-07c0dab0fe50' title='Show/Hide attributes'><svg class='icon xr-icon-file-text2'><use xlink:href='#icon-file-text2'></use></svg></label><input id='data-f4ae15e9-b1aa-44bd-b8f3-02e3047724d1' class='xr-var-data-in' type='checkbox'><label for='data-f4ae15e9-b1aa-44bd-b8f3-02e3047724d1' title='Show/Hide data repr'><svg class='icon xr-icon-database'><use xlink:href='#icon-database'></use></svg></label><div class='xr-var-attrs'><dl class='xr-attrs'></dl></div><div class='xr-var-data'><pre>array([[ 5.581781,  8.372673],\n",
              "       [ 8.372673, 11.163569],\n",
              "       [11.163569, 13.954468],\n",
              "       [13.954468, 16.745372],\n",
              "       [16.745372, 19.536283],\n",
              "       [19.536283, 22.3272  ],\n",
              "       [22.3272  , 25.118127],\n",
              "       [25.118127, 27.909065],\n",
              "       [27.909065, 30.700015],\n",
              "       [30.700015, 33.490981],\n",
              "       [33.490981, 36.281964],\n",
              "       [36.281964, 39.072968]])</pre></div></li><li class='xr-var-item'><div class='xr-var-name'><span>lon_bnds</span></div><div class='xr-var-dims'>(lon, bnds)</div><div class='xr-var-dtype'>float64</div><div class='xr-var-preview xr-preview'>...</div><input id='attrs-13ab6a51-1c29-4c4b-bd1d-c5365d460a8d' class='xr-var-attrs-in' type='checkbox' disabled><label for='attrs-13ab6a51-1c29-4c4b-bd1d-c5365d460a8d' title='Show/Hide attributes'><svg class='icon xr-icon-file-text2'><use xlink:href='#icon-file-text2'></use></svg></label><input id='data-8942819f-8950-4cc7-90fc-07336c3d2228' class='xr-var-data-in' type='checkbox'><label for='data-8942819f-8950-4cc7-90fc-07336c3d2228' title='Show/Hide data repr'><svg class='icon xr-icon-database'><use xlink:href='#icon-database'></use></svg></label><div class='xr-var-attrs'><dl class='xr-attrs'></dl></div><div class='xr-var-data'><pre>array([[66.09375, 68.90625],\n",
              "       [68.90625, 71.71875],\n",
              "       [71.71875, 74.53125],\n",
              "       [74.53125, 77.34375],\n",
              "       [77.34375, 80.15625],\n",
              "       [80.15625, 82.96875],\n",
              "       [82.96875, 85.78125],\n",
              "       [85.78125, 88.59375],\n",
              "       [88.59375, 91.40625],\n",
              "       [91.40625, 94.21875],\n",
              "       [94.21875, 97.03125],\n",
              "       [97.03125, 99.84375]])</pre></div></li><li class='xr-var-item'><div class='xr-var-name'><span>pr</span></div><div class='xr-var-dims'>(time, lat, lon)</div><div class='xr-var-dtype'>float32</div><div class='xr-var-preview xr-preview'>...</div><input id='attrs-46f6daaa-f823-422f-9fbf-fa76b1b3fbe3' class='xr-var-attrs-in' type='checkbox' ><label for='attrs-46f6daaa-f823-422f-9fbf-fa76b1b3fbe3' title='Show/Hide attributes'><svg class='icon xr-icon-file-text2'><use xlink:href='#icon-file-text2'></use></svg></label><input id='data-38d9e7e9-1920-44b8-ac9d-76c16fc46256' class='xr-var-data-in' type='checkbox'><label for='data-38d9e7e9-1920-44b8-ac9d-76c16fc46256' title='Show/Hide data repr'><svg class='icon xr-icon-database'><use xlink:href='#icon-database'></use></svg></label><div class='xr-var-attrs'><dl class='xr-attrs'><dt><span>standard_name :</span></dt><dd>precipitation_flux</dd><dt><span>long_name :</span></dt><dd>Precipitation</dd><dt><span>comment :</span></dt><dd>at surface; includes both liquid and solid phases from all types of clouds (both large-scale and convective)</dd><dt><span>units :</span></dt><dd>kg m-2 s-1</dd><dt><span>original_name :</span></dt><dd>PRCP</dd><dt><span>original_units :</span></dt><dd>kg/m**2/s</dd><dt><span>history :</span></dt><dd>2011-10-04T11:32:54Z altered by CMOR: Converted units from &#x27;kg/m**2/s&#x27; to &#x27;kg m-2 s-1&#x27;. 2011-10-04T11:32:54Z altered by CMOR: replaced missing value flag (-999) with standard missing value (1e+20). 2011-10-04T11:32:55Z altered by CMOR: Inverted axis: lat.</dd><dt><span>cell_methods :</span></dt><dd>time: mean</dd><dt><span>cell_measures :</span></dt><dd>area: areacella</dd><dt><span>associated_files :</span></dt><dd>baseURL: http://cmip-pcmdi.llnl.gov/CMIP5/dataLocation gridspecFile: gridspec_atmos_fx_MIROC-ESM_historical_r0i0p0.nc areacella: areacella_fx_MIROC-ESM_historical_r0i0p0.nc</dd></dl></div><div class='xr-var-data'><pre>[315360 values with dtype=float32]</pre></div></li></ul></div></li><li class='xr-section-item'><input id='section-4c1f63fc-d046-44df-ab67-745eda023d09' class='xr-section-summary-in' type='checkbox'  ><label for='section-4c1f63fc-d046-44df-ab67-745eda023d09' class='xr-section-summary' >Attributes: <span>(27)</span></label><div class='xr-section-inline-details'></div><div class='xr-section-details'><dl class='xr-attrs'><dt><span>institution :</span></dt><dd>JAMSTEC (Japan Agency for Marine-Earth Science and Technology, Kanagawa, Japan), AORI (Atmosphere and Ocean Research Institute, The University of Tokyo, Chiba, Japan), and NIES (National Institute for Environmental Studies, Ibaraki, Japan)</dd><dt><span>institute_id :</span></dt><dd>MIROC</dd><dt><span>experiment_id :</span></dt><dd>historical</dd><dt><span>source :</span></dt><dd>MIROC-ESM 2010 atmosphere: MIROC-AGCM (MIROC-AGCM 2010, T42L80); ocean: COCO (COCO3.4, 256x192 L44); sea ice: COCO (COCO3.4); land: MATSIRO (MATSIRO, L6); aerosols: SPRINTARS (SPRINTARS 5.00, T42L80):ocean-biogeochemistry: NPZD ; land-biogeochemistry: SEIB-DGVM (SEIB-DGVM, T42)</dd><dt><span>model_id :</span></dt><dd>MIROC-ESM</dd><dt><span>forcing :</span></dt><dd>GHG, SA, Oz, LU, Sl, Vl, MD, BC, OC</dd><dt><span>parent_experiment_id :</span></dt><dd>piControl</dd><dt><span>parent_experiment_rip :</span></dt><dd>r1i1p1</dd><dt><span>branch_time :</span></dt><dd>29219.0</dd><dt><span>contact :</span></dt><dd>Michio Kawamiya (kawamiya@jamstec.go.jp) and Toru Nozawa (nozawa@nies.go.jp)</dd><dt><span>references :</span></dt><dd>Watanabe et al., : MIROC-ESM: model description and basic results of CMIP5-20c3m experiments, Geosci. Model Dev. Discuss., 4, 1063-1128, doi:10.5194/gmdd-4-1063-2011, 2011.</dd><dt><span>initialization_method :</span></dt><dd>1</dd><dt><span>physics_version :</span></dt><dd>1</dd><dt><span>tracking_id :</span></dt><dd>35ce430e-dfd4-457b-bfc6-421eff466148</dd><dt><span>product :</span></dt><dd>output</dd><dt><span>experiment :</span></dt><dd>historical</dd><dt><span>frequency :</span></dt><dd>day</dd><dt><span>creation_date :</span></dt><dd>2011-10-04T11:32:55Z</dd><dt><span>history :</span></dt><dd>2011-10-04T11:32:55Z CMOR rewrote data to comply with CF standards and CMIP5 requirements.</dd><dt><span>Conventions :</span></dt><dd>CF-1.4</dd><dt><span>project_id :</span></dt><dd>CMIP5</dd><dt><span>table_id :</span></dt><dd>Table day (26 July 2011) f21c16b785432e6bd3f72e80f2cade49</dd><dt><span>title :</span></dt><dd>MIROC-ESM model output prepared for CMIP5 historical</dd><dt><span>parent_experiment :</span></dt><dd>pre-industrial control</dd><dt><span>modeling_realm :</span></dt><dd>atmos</dd><dt><span>realization :</span></dt><dd>1</dd><dt><span>cmor_version :</span></dt><dd>2.7.1</dd></dl></div></li></ul></div></div>"
            ],
            "text/plain": [
              "<xarray.Dataset>\n",
              "Dimensions:    (time: 2190, bnds: 2, lat: 12, lon: 12)\n",
              "Coordinates:\n",
              "  * time       (time) datetime64[ns] 2000-01-01T12:00:00 ... 2005-12-31T12:00:00\n",
              "  * lat        (lat) float64 6.977 9.767 12.56 15.35 ... 29.3 32.09 34.88 37.67\n",
              "  * lon        (lon) float64 67.5 70.31 73.12 75.94 ... 90.0 92.81 95.62 98.44\n",
              "Dimensions without coordinates: bnds\n",
              "Data variables:\n",
              "    time_bnds  (time, bnds) datetime64[ns] ...\n",
              "    lat_bnds   (lat, bnds) float64 ...\n",
              "    lon_bnds   (lon, bnds) float64 ...\n",
              "    pr         (time, lat, lon) float32 ...\n",
              "Attributes: (12/27)\n",
              "    institution:            JAMSTEC (Japan Agency for Marine-Earth Science an...\n",
              "    institute_id:           MIROC\n",
              "    experiment_id:          historical\n",
              "    source:                 MIROC-ESM 2010 atmosphere: MIROC-AGCM (MIROC-AGCM...\n",
              "    model_id:               MIROC-ESM\n",
              "    forcing:                GHG, SA, Oz, LU, Sl, Vl, MD, BC, OC\n",
              "    ...                     ...\n",
              "    table_id:               Table day (26 July 2011) f21c16b785432e6bd3f72e80...\n",
              "    title:                  MIROC-ESM model output prepared for CMIP5 historical\n",
              "    parent_experiment:      pre-industrial control\n",
              "    modeling_realm:         atmos\n",
              "    realization:            1\n",
              "    cmor_version:           2.7.1"
            ]
          },
          "execution_count": 9,
          "metadata": {},
          "output_type": "execute_result"
        }
      ],
      "source": [
        "filepath = r'Data/01/MIROC-ESM.nc'\n",
        "ds = xr.open_dataset(filepath)\n",
        "ds"
      ]
    },
    {
      "cell_type": "code",
      "execution_count": null,
      "metadata": {
        "colab": {
          "base_uri": "https://localhost:8080/",
          "height": 245
        },
        "id": "e0o_1CPv7hLj",
        "outputId": "92378fa4-5b20-4de7-eeae-0b3ccd23abfd"
      },
      "outputs": [
        {
          "data": {
            "text/html": [
              "<div><svg style=\"position: absolute; width: 0; height: 0; overflow: hidden\">\n",
              "<defs>\n",
              "<symbol id=\"icon-database\" viewBox=\"0 0 32 32\">\n",
              "<path d=\"M16 0c-8.837 0-16 2.239-16 5v4c0 2.761 7.163 5 16 5s16-2.239 16-5v-4c0-2.761-7.163-5-16-5z\"></path>\n",
              "<path d=\"M16 17c-8.837 0-16-2.239-16-5v6c0 2.761 7.163 5 16 5s16-2.239 16-5v-6c0 2.761-7.163 5-16 5z\"></path>\n",
              "<path d=\"M16 26c-8.837 0-16-2.239-16-5v6c0 2.761 7.163 5 16 5s16-2.239 16-5v-6c0 2.761-7.163 5-16 5z\"></path>\n",
              "</symbol>\n",
              "<symbol id=\"icon-file-text2\" viewBox=\"0 0 32 32\">\n",
              "<path d=\"M28.681 7.159c-0.694-0.947-1.662-2.053-2.724-3.116s-2.169-2.030-3.116-2.724c-1.612-1.182-2.393-1.319-2.841-1.319h-15.5c-1.378 0-2.5 1.121-2.5 2.5v27c0 1.378 1.122 2.5 2.5 2.5h23c1.378 0 2.5-1.122 2.5-2.5v-19.5c0-0.448-0.137-1.23-1.319-2.841zM24.543 5.457c0.959 0.959 1.712 1.825 2.268 2.543h-4.811v-4.811c0.718 0.556 1.584 1.309 2.543 2.268zM28 29.5c0 0.271-0.229 0.5-0.5 0.5h-23c-0.271 0-0.5-0.229-0.5-0.5v-27c0-0.271 0.229-0.5 0.5-0.5 0 0 15.499-0 15.5 0v7c0 0.552 0.448 1 1 1h7v19.5z\"></path>\n",
              "<path d=\"M23 26h-14c-0.552 0-1-0.448-1-1s0.448-1 1-1h14c0.552 0 1 0.448 1 1s-0.448 1-1 1z\"></path>\n",
              "<path d=\"M23 22h-14c-0.552 0-1-0.448-1-1s0.448-1 1-1h14c0.552 0 1 0.448 1 1s-0.448 1-1 1z\"></path>\n",
              "<path d=\"M23 18h-14c-0.552 0-1-0.448-1-1s0.448-1 1-1h14c0.552 0 1 0.448 1 1s-0.448 1-1 1z\"></path>\n",
              "</symbol>\n",
              "</defs>\n",
              "</svg>\n",
              "<style>/* CSS stylesheet for displaying xarray objects in jupyterlab.\n",
              " *\n",
              " */\n",
              "\n",
              ":root {\n",
              "  --xr-font-color0: var(--jp-content-font-color0, rgba(0, 0, 0, 1));\n",
              "  --xr-font-color2: var(--jp-content-font-color2, rgba(0, 0, 0, 0.54));\n",
              "  --xr-font-color3: var(--jp-content-font-color3, rgba(0, 0, 0, 0.38));\n",
              "  --xr-border-color: var(--jp-border-color2, #e0e0e0);\n",
              "  --xr-disabled-color: var(--jp-layout-color3, #bdbdbd);\n",
              "  --xr-background-color: var(--jp-layout-color0, white);\n",
              "  --xr-background-color-row-even: var(--jp-layout-color1, white);\n",
              "  --xr-background-color-row-odd: var(--jp-layout-color2, #eeeeee);\n",
              "}\n",
              "\n",
              "html[theme=dark],\n",
              "body.vscode-dark {\n",
              "  --xr-font-color0: rgba(255, 255, 255, 1);\n",
              "  --xr-font-color2: rgba(255, 255, 255, 0.54);\n",
              "  --xr-font-color3: rgba(255, 255, 255, 0.38);\n",
              "  --xr-border-color: #1F1F1F;\n",
              "  --xr-disabled-color: #515151;\n",
              "  --xr-background-color: #111111;\n",
              "  --xr-background-color-row-even: #111111;\n",
              "  --xr-background-color-row-odd: #313131;\n",
              "}\n",
              "\n",
              ".xr-wrap {\n",
              "  display: block !important;\n",
              "  min-width: 300px;\n",
              "  max-width: 700px;\n",
              "}\n",
              "\n",
              ".xr-text-repr-fallback {\n",
              "  /* fallback to plain text repr when CSS is not injected (untrusted notebook) */\n",
              "  display: none;\n",
              "}\n",
              "\n",
              ".xr-header {\n",
              "  padding-top: 6px;\n",
              "  padding-bottom: 6px;\n",
              "  margin-bottom: 4px;\n",
              "  border-bottom: solid 1px var(--xr-border-color);\n",
              "}\n",
              "\n",
              ".xr-header > div,\n",
              ".xr-header > ul {\n",
              "  display: inline;\n",
              "  margin-top: 0;\n",
              "  margin-bottom: 0;\n",
              "}\n",
              "\n",
              ".xr-obj-type,\n",
              ".xr-array-name {\n",
              "  margin-left: 2px;\n",
              "  margin-right: 10px;\n",
              "}\n",
              "\n",
              ".xr-obj-type {\n",
              "  color: var(--xr-font-color2);\n",
              "}\n",
              "\n",
              ".xr-sections {\n",
              "  padding-left: 0 !important;\n",
              "  display: grid;\n",
              "  grid-template-columns: 150px auto auto 1fr 20px 20px;\n",
              "}\n",
              "\n",
              ".xr-section-item {\n",
              "  display: contents;\n",
              "}\n",
              "\n",
              ".xr-section-item input {\n",
              "  display: none;\n",
              "}\n",
              "\n",
              ".xr-section-item input + label {\n",
              "  color: var(--xr-disabled-color);\n",
              "}\n",
              "\n",
              ".xr-section-item input:enabled + label {\n",
              "  cursor: pointer;\n",
              "  color: var(--xr-font-color2);\n",
              "}\n",
              "\n",
              ".xr-section-item input:enabled + label:hover {\n",
              "  color: var(--xr-font-color0);\n",
              "}\n",
              "\n",
              ".xr-section-summary {\n",
              "  grid-column: 1;\n",
              "  color: var(--xr-font-color2);\n",
              "  font-weight: 500;\n",
              "}\n",
              "\n",
              ".xr-section-summary > span {\n",
              "  display: inline-block;\n",
              "  padding-left: 0.5em;\n",
              "}\n",
              "\n",
              ".xr-section-summary-in:disabled + label {\n",
              "  color: var(--xr-font-color2);\n",
              "}\n",
              "\n",
              ".xr-section-summary-in + label:before {\n",
              "  display: inline-block;\n",
              "  content: '►';\n",
              "  font-size: 11px;\n",
              "  width: 15px;\n",
              "  text-align: center;\n",
              "}\n",
              "\n",
              ".xr-section-summary-in:disabled + label:before {\n",
              "  color: var(--xr-disabled-color);\n",
              "}\n",
              "\n",
              ".xr-section-summary-in:checked + label:before {\n",
              "  content: '▼';\n",
              "}\n",
              "\n",
              ".xr-section-summary-in:checked + label > span {\n",
              "  display: none;\n",
              "}\n",
              "\n",
              ".xr-section-summary,\n",
              ".xr-section-inline-details {\n",
              "  padding-top: 4px;\n",
              "  padding-bottom: 4px;\n",
              "}\n",
              "\n",
              ".xr-section-inline-details {\n",
              "  grid-column: 2 / -1;\n",
              "}\n",
              "\n",
              ".xr-section-details {\n",
              "  display: none;\n",
              "  grid-column: 1 / -1;\n",
              "  margin-bottom: 5px;\n",
              "}\n",
              "\n",
              ".xr-section-summary-in:checked ~ .xr-section-details {\n",
              "  display: contents;\n",
              "}\n",
              "\n",
              ".xr-array-wrap {\n",
              "  grid-column: 1 / -1;\n",
              "  display: grid;\n",
              "  grid-template-columns: 20px auto;\n",
              "}\n",
              "\n",
              ".xr-array-wrap > label {\n",
              "  grid-column: 1;\n",
              "  vertical-align: top;\n",
              "}\n",
              "\n",
              ".xr-preview {\n",
              "  color: var(--xr-font-color3);\n",
              "}\n",
              "\n",
              ".xr-array-preview,\n",
              ".xr-array-data {\n",
              "  padding: 0 5px !important;\n",
              "  grid-column: 2;\n",
              "}\n",
              "\n",
              ".xr-array-data,\n",
              ".xr-array-in:checked ~ .xr-array-preview {\n",
              "  display: none;\n",
              "}\n",
              "\n",
              ".xr-array-in:checked ~ .xr-array-data,\n",
              ".xr-array-preview {\n",
              "  display: inline-block;\n",
              "}\n",
              "\n",
              ".xr-dim-list {\n",
              "  display: inline-block !important;\n",
              "  list-style: none;\n",
              "  padding: 0 !important;\n",
              "  margin: 0;\n",
              "}\n",
              "\n",
              ".xr-dim-list li {\n",
              "  display: inline-block;\n",
              "  padding: 0;\n",
              "  margin: 0;\n",
              "}\n",
              "\n",
              ".xr-dim-list:before {\n",
              "  content: '(';\n",
              "}\n",
              "\n",
              ".xr-dim-list:after {\n",
              "  content: ')';\n",
              "}\n",
              "\n",
              ".xr-dim-list li:not(:last-child):after {\n",
              "  content: ',';\n",
              "  padding-right: 5px;\n",
              "}\n",
              "\n",
              ".xr-has-index {\n",
              "  font-weight: bold;\n",
              "}\n",
              "\n",
              ".xr-var-list,\n",
              ".xr-var-item {\n",
              "  display: contents;\n",
              "}\n",
              "\n",
              ".xr-var-item > div,\n",
              ".xr-var-item label,\n",
              ".xr-var-item > .xr-var-name span {\n",
              "  background-color: var(--xr-background-color-row-even);\n",
              "  margin-bottom: 0;\n",
              "}\n",
              "\n",
              ".xr-var-item > .xr-var-name:hover span {\n",
              "  padding-right: 5px;\n",
              "}\n",
              "\n",
              ".xr-var-list > li:nth-child(odd) > div,\n",
              ".xr-var-list > li:nth-child(odd) > label,\n",
              ".xr-var-list > li:nth-child(odd) > .xr-var-name span {\n",
              "  background-color: var(--xr-background-color-row-odd);\n",
              "}\n",
              "\n",
              ".xr-var-name {\n",
              "  grid-column: 1;\n",
              "}\n",
              "\n",
              ".xr-var-dims {\n",
              "  grid-column: 2;\n",
              "}\n",
              "\n",
              ".xr-var-dtype {\n",
              "  grid-column: 3;\n",
              "  text-align: right;\n",
              "  color: var(--xr-font-color2);\n",
              "}\n",
              "\n",
              ".xr-var-preview {\n",
              "  grid-column: 4;\n",
              "}\n",
              "\n",
              ".xr-var-name,\n",
              ".xr-var-dims,\n",
              ".xr-var-dtype,\n",
              ".xr-preview,\n",
              ".xr-attrs dt {\n",
              "  white-space: nowrap;\n",
              "  overflow: hidden;\n",
              "  text-overflow: ellipsis;\n",
              "  padding-right: 10px;\n",
              "}\n",
              "\n",
              ".xr-var-name:hover,\n",
              ".xr-var-dims:hover,\n",
              ".xr-var-dtype:hover,\n",
              ".xr-attrs dt:hover {\n",
              "  overflow: visible;\n",
              "  width: auto;\n",
              "  z-index: 1;\n",
              "}\n",
              "\n",
              ".xr-var-attrs,\n",
              ".xr-var-data {\n",
              "  display: none;\n",
              "  background-color: var(--xr-background-color) !important;\n",
              "  padding-bottom: 5px !important;\n",
              "}\n",
              "\n",
              ".xr-var-attrs-in:checked ~ .xr-var-attrs,\n",
              ".xr-var-data-in:checked ~ .xr-var-data {\n",
              "  display: block;\n",
              "}\n",
              "\n",
              ".xr-var-data > table {\n",
              "  float: right;\n",
              "}\n",
              "\n",
              ".xr-var-name span,\n",
              ".xr-var-data,\n",
              ".xr-attrs {\n",
              "  padding-left: 25px !important;\n",
              "}\n",
              "\n",
              ".xr-attrs,\n",
              ".xr-var-attrs,\n",
              ".xr-var-data {\n",
              "  grid-column: 1 / -1;\n",
              "}\n",
              "\n",
              "dl.xr-attrs {\n",
              "  padding: 0;\n",
              "  margin: 0;\n",
              "  display: grid;\n",
              "  grid-template-columns: 125px auto;\n",
              "}\n",
              "\n",
              ".xr-attrs dt,\n",
              ".xr-attrs dd {\n",
              "  padding: 0;\n",
              "  margin: 0;\n",
              "  float: left;\n",
              "  padding-right: 10px;\n",
              "  width: auto;\n",
              "}\n",
              "\n",
              ".xr-attrs dt {\n",
              "  font-weight: normal;\n",
              "  grid-column: 1;\n",
              "}\n",
              "\n",
              ".xr-attrs dt:hover span {\n",
              "  display: inline-block;\n",
              "  background: var(--xr-background-color);\n",
              "  padding-right: 10px;\n",
              "}\n",
              "\n",
              ".xr-attrs dd {\n",
              "  grid-column: 2;\n",
              "  white-space: pre-wrap;\n",
              "  word-break: break-all;\n",
              "}\n",
              "\n",
              ".xr-icon-database,\n",
              ".xr-icon-file-text2 {\n",
              "  display: inline-block;\n",
              "  vertical-align: middle;\n",
              "  width: 1em;\n",
              "  height: 1.5em !important;\n",
              "  stroke-width: 0;\n",
              "  stroke: currentColor;\n",
              "  fill: currentColor;\n",
              "}\n",
              "</style><pre class='xr-text-repr-fallback'>&lt;xarray.Dataset&gt;\n",
              "Dimensions:  (time: 12, lat: 129, lon: 135)\n",
              "Coordinates:\n",
              "  * time     (time) datetime64[ns] 2000-01-01 2000-02-01 ... 2000-12-01\n",
              "  * lat      (lat) float64 6.5 6.75 7.0 7.25 7.5 ... 37.5 37.75 38.0 38.25 38.5\n",
              "  * lon      (lon) float64 66.5 66.75 67.0 67.25 67.5 ... 99.25 99.5 99.75 100.0\n",
              "Data variables:\n",
              "    rain     (time, lat, lon) float64 ...</pre><div class='xr-wrap' style='display:none'><div class='xr-header'><div class='xr-obj-type'>xarray.Dataset</div></div><ul class='xr-sections'><li class='xr-section-item'><input id='section-e737d10b-f6c8-45f3-8372-3f6904a93baf' class='xr-section-summary-in' type='checkbox' disabled ><label for='section-e737d10b-f6c8-45f3-8372-3f6904a93baf' class='xr-section-summary'  title='Expand/collapse section'>Dimensions:</label><div class='xr-section-inline-details'><ul class='xr-dim-list'><li><span class='xr-has-index'>time</span>: 12</li><li><span class='xr-has-index'>lat</span>: 129</li><li><span class='xr-has-index'>lon</span>: 135</li></ul></div><div class='xr-section-details'></div></li><li class='xr-section-item'><input id='section-656c7959-2437-4648-a541-acf089fb6e33' class='xr-section-summary-in' type='checkbox'  checked><label for='section-656c7959-2437-4648-a541-acf089fb6e33' class='xr-section-summary' >Coordinates: <span>(3)</span></label><div class='xr-section-inline-details'></div><div class='xr-section-details'><ul class='xr-var-list'><li class='xr-var-item'><div class='xr-var-name'><span class='xr-has-index'>time</span></div><div class='xr-var-dims'>(time)</div><div class='xr-var-dtype'>datetime64[ns]</div><div class='xr-var-preview xr-preview'>2000-01-01 ... 2000-12-01</div><input id='attrs-33008a6a-a30b-4110-b0e6-53fd092ea9c2' class='xr-var-attrs-in' type='checkbox' disabled><label for='attrs-33008a6a-a30b-4110-b0e6-53fd092ea9c2' title='Show/Hide attributes'><svg class='icon xr-icon-file-text2'><use xlink:href='#icon-file-text2'></use></svg></label><input id='data-703c4537-5642-4c85-a33b-16b70659bc27' class='xr-var-data-in' type='checkbox'><label for='data-703c4537-5642-4c85-a33b-16b70659bc27' title='Show/Hide data repr'><svg class='icon xr-icon-database'><use xlink:href='#icon-database'></use></svg></label><div class='xr-var-attrs'><dl class='xr-attrs'></dl></div><div class='xr-var-data'><pre>array([&#x27;2000-01-01T00:00:00.000000000&#x27;, &#x27;2000-02-01T00:00:00.000000000&#x27;,\n",
              "       &#x27;2000-03-01T00:00:00.000000000&#x27;, &#x27;2000-04-01T00:00:00.000000000&#x27;,\n",
              "       &#x27;2000-05-01T00:00:00.000000000&#x27;, &#x27;2000-06-01T00:00:00.000000000&#x27;,\n",
              "       &#x27;2000-07-01T00:00:00.000000000&#x27;, &#x27;2000-08-01T00:00:00.000000000&#x27;,\n",
              "       &#x27;2000-09-01T00:00:00.000000000&#x27;, &#x27;2000-10-01T00:00:00.000000000&#x27;,\n",
              "       &#x27;2000-11-01T00:00:00.000000000&#x27;, &#x27;2000-12-01T00:00:00.000000000&#x27;],\n",
              "      dtype=&#x27;datetime64[ns]&#x27;)</pre></div></li><li class='xr-var-item'><div class='xr-var-name'><span class='xr-has-index'>lat</span></div><div class='xr-var-dims'>(lat)</div><div class='xr-var-dtype'>float64</div><div class='xr-var-preview xr-preview'>6.5 6.75 7.0 ... 38.0 38.25 38.5</div><input id='attrs-8e294482-979e-4ec6-9771-feeacecd24f7' class='xr-var-attrs-in' type='checkbox' ><label for='attrs-8e294482-979e-4ec6-9771-feeacecd24f7' title='Show/Hide attributes'><svg class='icon xr-icon-file-text2'><use xlink:href='#icon-file-text2'></use></svg></label><input id='data-a3d49c59-8fd9-473a-bd0c-1ec8bb391e3c' class='xr-var-data-in' type='checkbox'><label for='data-a3d49c59-8fd9-473a-bd0c-1ec8bb391e3c' title='Show/Hide data repr'><svg class='icon xr-icon-database'><use xlink:href='#icon-database'></use></svg></label><div class='xr-var-attrs'><dl class='xr-attrs'><dt><span>axis :</span></dt><dd>Y</dd><dt><span>standard_name :</span></dt><dd>latitude</dd><dt><span>long_name :</span></dt><dd>latitude</dd><dt><span>units :</span></dt><dd>degrees_north</dd></dl></div><div class='xr-var-data'><pre>array([ 6.5 ,  6.75,  7.  ,  7.25,  7.5 ,  7.75,  8.  ,  8.25,  8.5 ,  8.75,\n",
              "        9.  ,  9.25,  9.5 ,  9.75, 10.  , 10.25, 10.5 , 10.75, 11.  , 11.25,\n",
              "       11.5 , 11.75, 12.  , 12.25, 12.5 , 12.75, 13.  , 13.25, 13.5 , 13.75,\n",
              "       14.  , 14.25, 14.5 , 14.75, 15.  , 15.25, 15.5 , 15.75, 16.  , 16.25,\n",
              "       16.5 , 16.75, 17.  , 17.25, 17.5 , 17.75, 18.  , 18.25, 18.5 , 18.75,\n",
              "       19.  , 19.25, 19.5 , 19.75, 20.  , 20.25, 20.5 , 20.75, 21.  , 21.25,\n",
              "       21.5 , 21.75, 22.  , 22.25, 22.5 , 22.75, 23.  , 23.25, 23.5 , 23.75,\n",
              "       24.  , 24.25, 24.5 , 24.75, 25.  , 25.25, 25.5 , 25.75, 26.  , 26.25,\n",
              "       26.5 , 26.75, 27.  , 27.25, 27.5 , 27.75, 28.  , 28.25, 28.5 , 28.75,\n",
              "       29.  , 29.25, 29.5 , 29.75, 30.  , 30.25, 30.5 , 30.75, 31.  , 31.25,\n",
              "       31.5 , 31.75, 32.  , 32.25, 32.5 , 32.75, 33.  , 33.25, 33.5 , 33.75,\n",
              "       34.  , 34.25, 34.5 , 34.75, 35.  , 35.25, 35.5 , 35.75, 36.  , 36.25,\n",
              "       36.5 , 36.75, 37.  , 37.25, 37.5 , 37.75, 38.  , 38.25, 38.5 ])</pre></div></li><li class='xr-var-item'><div class='xr-var-name'><span class='xr-has-index'>lon</span></div><div class='xr-var-dims'>(lon)</div><div class='xr-var-dtype'>float64</div><div class='xr-var-preview xr-preview'>66.5 66.75 67.0 ... 99.75 100.0</div><input id='attrs-00e38689-5e6c-4479-bb1b-91df6191a10c' class='xr-var-attrs-in' type='checkbox' ><label for='attrs-00e38689-5e6c-4479-bb1b-91df6191a10c' title='Show/Hide attributes'><svg class='icon xr-icon-file-text2'><use xlink:href='#icon-file-text2'></use></svg></label><input id='data-6dd90737-d6a5-47f8-ad42-3b2d1b4cfd68' class='xr-var-data-in' type='checkbox'><label for='data-6dd90737-d6a5-47f8-ad42-3b2d1b4cfd68' title='Show/Hide data repr'><svg class='icon xr-icon-database'><use xlink:href='#icon-database'></use></svg></label><div class='xr-var-attrs'><dl class='xr-attrs'><dt><span>axis :</span></dt><dd>X</dd><dt><span>long_name :</span></dt><dd>longitude</dd><dt><span>units :</span></dt><dd>degrees_east</dd></dl></div><div class='xr-var-data'><pre>array([ 66.5 ,  66.75,  67.  ,  67.25,  67.5 ,  67.75,  68.  ,  68.25,  68.5 ,\n",
              "        68.75,  69.  ,  69.25,  69.5 ,  69.75,  70.  ,  70.25,  70.5 ,  70.75,\n",
              "        71.  ,  71.25,  71.5 ,  71.75,  72.  ,  72.25,  72.5 ,  72.75,  73.  ,\n",
              "        73.25,  73.5 ,  73.75,  74.  ,  74.25,  74.5 ,  74.75,  75.  ,  75.25,\n",
              "        75.5 ,  75.75,  76.  ,  76.25,  76.5 ,  76.75,  77.  ,  77.25,  77.5 ,\n",
              "        77.75,  78.  ,  78.25,  78.5 ,  78.75,  79.  ,  79.25,  79.5 ,  79.75,\n",
              "        80.  ,  80.25,  80.5 ,  80.75,  81.  ,  81.25,  81.5 ,  81.75,  82.  ,\n",
              "        82.25,  82.5 ,  82.75,  83.  ,  83.25,  83.5 ,  83.75,  84.  ,  84.25,\n",
              "        84.5 ,  84.75,  85.  ,  85.25,  85.5 ,  85.75,  86.  ,  86.25,  86.5 ,\n",
              "        86.75,  87.  ,  87.25,  87.5 ,  87.75,  88.  ,  88.25,  88.5 ,  88.75,\n",
              "        89.  ,  89.25,  89.5 ,  89.75,  90.  ,  90.25,  90.5 ,  90.75,  91.  ,\n",
              "        91.25,  91.5 ,  91.75,  92.  ,  92.25,  92.5 ,  92.75,  93.  ,  93.25,\n",
              "        93.5 ,  93.75,  94.  ,  94.25,  94.5 ,  94.75,  95.  ,  95.25,  95.5 ,\n",
              "        95.75,  96.  ,  96.25,  96.5 ,  96.75,  97.  ,  97.25,  97.5 ,  97.75,\n",
              "        98.  ,  98.25,  98.5 ,  98.75,  99.  ,  99.25,  99.5 ,  99.75, 100.  ])</pre></div></li></ul></div></li><li class='xr-section-item'><input id='section-db00f838-4d41-4c4a-a59a-77201416c52c' class='xr-section-summary-in' type='checkbox'  checked><label for='section-db00f838-4d41-4c4a-a59a-77201416c52c' class='xr-section-summary' >Data variables: <span>(1)</span></label><div class='xr-section-inline-details'></div><div class='xr-section-details'><ul class='xr-var-list'><li class='xr-var-item'><div class='xr-var-name'><span>rain</span></div><div class='xr-var-dims'>(time, lat, lon)</div><div class='xr-var-dtype'>float64</div><div class='xr-var-preview xr-preview'>...</div><input id='attrs-b2e49e26-3dc8-4c7b-9395-197549d765f1' class='xr-var-attrs-in' type='checkbox' disabled><label for='attrs-b2e49e26-3dc8-4c7b-9395-197549d765f1' title='Show/Hide attributes'><svg class='icon xr-icon-file-text2'><use xlink:href='#icon-file-text2'></use></svg></label><input id='data-9bf5bbb7-1c9f-46c3-9598-c377b1710148' class='xr-var-data-in' type='checkbox'><label for='data-9bf5bbb7-1c9f-46c3-9598-c377b1710148' title='Show/Hide data repr'><svg class='icon xr-icon-database'><use xlink:href='#icon-database'></use></svg></label><div class='xr-var-attrs'><dl class='xr-attrs'></dl></div><div class='xr-var-data'><pre>[208980 values with dtype=float64]</pre></div></li></ul></div></li><li class='xr-section-item'><input id='section-71a944f7-bd26-4412-9c37-4c7a2796e159' class='xr-section-summary-in' type='checkbox' disabled ><label for='section-71a944f7-bd26-4412-9c37-4c7a2796e159' class='xr-section-summary'  title='Expand/collapse section'>Attributes: <span>(0)</span></label><div class='xr-section-inline-details'></div><div class='xr-section-details'><dl class='xr-attrs'></dl></div></li></ul></div></div>"
            ],
            "text/plain": [
              "<xarray.Dataset>\n",
              "Dimensions:  (time: 12, lat: 129, lon: 135)\n",
              "Coordinates:\n",
              "  * time     (time) datetime64[ns] 2000-01-01 2000-02-01 ... 2000-12-01\n",
              "  * lat      (lat) float64 6.5 6.75 7.0 7.25 7.5 ... 37.5 37.75 38.0 38.25 38.5\n",
              "  * lon      (lon) float64 66.5 66.75 67.0 67.25 67.5 ... 99.25 99.5 99.75 100.0\n",
              "Data variables:\n",
              "    rain     (time, lat, lon) float64 ..."
            ]
          },
          "execution_count": 10,
          "metadata": {},
          "output_type": "execute_result"
        }
      ],
      "source": [
        "filepath = r'Data/01/IMD_2000.nc'\n",
        "ds1 = xr.open_dataset(filepath)\n",
        "ds1"
      ]
    },
    {
      "cell_type": "code",
      "execution_count": null,
      "metadata": {
        "colab": {
          "base_uri": "https://localhost:8080/",
          "height": 331
        },
        "id": "BDsrcvmh7jjI",
        "outputId": "8bacc372-d2e4-4759-a31a-7099888db3b8"
      },
      "outputs": [
        {
          "data": {
            "text/plain": [
              "<matplotlib.axes._subplots.AxesSubplot at 0x7fde750f51d0>"
            ]
          },
          "execution_count": 11,
          "metadata": {},
          "output_type": "execute_result"
        },
        {
          "data": {
            "image/png": "[encoded data removed]",
            "text/plain": [
              "<Figure size 360x360 with 2 Axes>"
            ]
          },
          "metadata": {
            "needs_background": "light"
          },
          "output_type": "display_data"
        }
      ],
      "source": [
        "fig, ax = plt.subplots(1,1, figsize=(5,5))\n",
        "ds1['rain'][0,:,:].plot(cmap = 'rainbow', ax = ax)\n",
        "map_df.plot(edgecolor=\"black\", facecolor=\"None\", ax = ax, linewidth = 0.1)"
      ]
    },
    {
      "cell_type": "code",
      "execution_count": null,
      "metadata": {
        "colab": {
          "base_uri": "https://localhost:8080/",
          "height": 335
        },
        "id": "9caPDFrw7mwK",
        "outputId": "ada73cbb-e182-4bdb-db5d-689d7317ba9d"
      },
      "outputs": [
        {
          "data": {
            "text/plain": [
              "<matplotlib.axes._subplots.AxesSubplot at 0x7fde7238fd90>"
            ]
          },
          "execution_count": 12,
          "metadata": {},
          "output_type": "execute_result"
        },
        {
          "data": {
            "image/png": "[encoded data removed]",
            "text/plain": [
              "<Figure size 360x360 with 2 Axes>"
            ]
          },
          "metadata": {
            "needs_background": "light"
          },
          "output_type": "display_data"
        }
      ],
      "source": [
        "'''\n",
        "You have to consider that:\n",
        "- 1 kg of rain water spread over 1 square meter of surface is 1 mm in thickness;\n",
        "- there are 60X60X24=86400 seconds in one day.\n",
        "Therefore, 1 kg/m2/s = 86400 mm/day.\n",
        "'''\n",
        "fig, ax = plt.subplots(1,1, figsize=(5,5))\n",
        "ds['pr'][0,:,:].plot(cmap = 'rainbow', ax = ax)\n",
        "map_df.plot(edgecolor=\"black\", facecolor=\"None\", ax = ax, linewidth = 0.1)"
      ]
    },
    {
      "cell_type": "code",
      "execution_count": null,
      "metadata": {
        "colab": {
          "base_uri": "https://localhost:8080/",
          "height": 335
        },
        "id": "ymKnbuBXDuCX",
        "outputId": "f94ddbe0-cff1-4168-b1ed-9590c81dae0d"
      },
      "outputs": [
        {
          "data": {
            "text/plain": [
              "<matplotlib.axes._subplots.AxesSubplot at 0x7fde7229bb90>"
            ]
          },
          "execution_count": 13,
          "metadata": {},
          "output_type": "execute_result"
        },
        {
          "data": {
            "image/png": "[encoded data removed]",
            "text/plain": [
              "<Figure size 360x360 with 2 Axes>"
            ]
          },
          "metadata": {
            "needs_background": "light"
          },
          "output_type": "display_data"
        }
      ],
      "source": [
        "ds2 = ds.copy(deep = True)\n",
        "ds2['pr'] = ds2['pr'] * 86400\n",
        "ds2.pr.attrs['units'] = 'mm/day'\n",
        "ds2.pr.attrs['long_name'] = 'Precipitation'\n",
        "fig, ax = plt.subplots(1,1, figsize=(5,5))\n",
        "ds2['pr'][0,:,:].plot(cmap = 'rainbow', ax = ax)\n",
        "map_df.plot(edgecolor=\"black\", facecolor=\"None\", ax = ax, linewidth = 0.1)"
      ]
    },
    {
      "cell_type": "code",
      "execution_count": null,
      "metadata": {
        "colab": {
          "base_uri": "https://localhost:8080/",
          "height": 245
        },
        "id": "cs9SNuqnvzR1",
        "outputId": "41c86ab5-91cf-41e1-f84f-530bf2dd0f58"
      },
      "outputs": [
        {
          "data": {
            "text/html": [
              "<div><svg style=\"position: absolute; width: 0; height: 0; overflow: hidden\">\n",
              "<defs>\n",
              "<symbol id=\"icon-database\" viewBox=\"0 0 32 32\">\n",
              "<path d=\"M16 0c-8.837 0-16 2.239-16 5v4c0 2.761 7.163 5 16 5s16-2.239 16-5v-4c0-2.761-7.163-5-16-5z\"></path>\n",
              "<path d=\"M16 17c-8.837 0-16-2.239-16-5v6c0 2.761 7.163 5 16 5s16-2.239 16-5v-6c0 2.761-7.163 5-16 5z\"></path>\n",
              "<path d=\"M16 26c-8.837 0-16-2.239-16-5v6c0 2.761 7.163 5 16 5s16-2.239 16-5v-6c0 2.761-7.163 5-16 5z\"></path>\n",
              "</symbol>\n",
              "<symbol id=\"icon-file-text2\" viewBox=\"0 0 32 32\">\n",
              "<path d=\"M28.681 7.159c-0.694-0.947-1.662-2.053-2.724-3.116s-2.169-2.030-3.116-2.724c-1.612-1.182-2.393-1.319-2.841-1.319h-15.5c-1.378 0-2.5 1.121-2.5 2.5v27c0 1.378 1.122 2.5 2.5 2.5h23c1.378 0 2.5-1.122 2.5-2.5v-19.5c0-0.448-0.137-1.23-1.319-2.841zM24.543 5.457c0.959 0.959 1.712 1.825 2.268 2.543h-4.811v-4.811c0.718 0.556 1.584 1.309 2.543 2.268zM28 29.5c0 0.271-0.229 0.5-0.5 0.5h-23c-0.271 0-0.5-0.229-0.5-0.5v-27c0-0.271 0.229-0.5 0.5-0.5 0 0 15.499-0 15.5 0v7c0 0.552 0.448 1 1 1h7v19.5z\"></path>\n",
              "<path d=\"M23 26h-14c-0.552 0-1-0.448-1-1s0.448-1 1-1h14c0.552 0 1 0.448 1 1s-0.448 1-1 1z\"></path>\n",
              "<path d=\"M23 22h-14c-0.552 0-1-0.448-1-1s0.448-1 1-1h14c0.552 0 1 0.448 1 1s-0.448 1-1 1z\"></path>\n",
              "<path d=\"M23 18h-14c-0.552 0-1-0.448-1-1s0.448-1 1-1h14c0.552 0 1 0.448 1 1s-0.448 1-1 1z\"></path>\n",
              "</symbol>\n",
              "</defs>\n",
              "</svg>\n",
              "<style>/* CSS stylesheet for displaying xarray objects in jupyterlab.\n",
              " *\n",
              " */\n",
              "\n",
              ":root {\n",
              "  --xr-font-color0: var(--jp-content-font-color0, rgba(0, 0, 0, 1));\n",
              "  --xr-font-color2: var(--jp-content-font-color2, rgba(0, 0, 0, 0.54));\n",
              "  --xr-font-color3: var(--jp-content-font-color3, rgba(0, 0, 0, 0.38));\n",
              "  --xr-border-color: var(--jp-border-color2, #e0e0e0);\n",
              "  --xr-disabled-color: var(--jp-layout-color3, #bdbdbd);\n",
              "  --xr-background-color: var(--jp-layout-color0, white);\n",
              "  --xr-background-color-row-even: var(--jp-layout-color1, white);\n",
              "  --xr-background-color-row-odd: var(--jp-layout-color2, #eeeeee);\n",
              "}\n",
              "\n",
              "html[theme=dark],\n",
              "body.vscode-dark {\n",
              "  --xr-font-color0: rgba(255, 255, 255, 1);\n",
              "  --xr-font-color2: rgba(255, 255, 255, 0.54);\n",
              "  --xr-font-color3: rgba(255, 255, 255, 0.38);\n",
              "  --xr-border-color: #1F1F1F;\n",
              "  --xr-disabled-color: #515151;\n",
              "  --xr-background-color: #111111;\n",
              "  --xr-background-color-row-even: #111111;\n",
              "  --xr-background-color-row-odd: #313131;\n",
              "}\n",
              "\n",
              ".xr-wrap {\n",
              "  display: block !important;\n",
              "  min-width: 300px;\n",
              "  max-width: 700px;\n",
              "}\n",
              "\n",
              ".xr-text-repr-fallback {\n",
              "  /* fallback to plain text repr when CSS is not injected (untrusted notebook) */\n",
              "  display: none;\n",
              "}\n",
              "\n",
              ".xr-header {\n",
              "  padding-top: 6px;\n",
              "  padding-bottom: 6px;\n",
              "  margin-bottom: 4px;\n",
              "  border-bottom: solid 1px var(--xr-border-color);\n",
              "}\n",
              "\n",
              ".xr-header > div,\n",
              ".xr-header > ul {\n",
              "  display: inline;\n",
              "  margin-top: 0;\n",
              "  margin-bottom: 0;\n",
              "}\n",
              "\n",
              ".xr-obj-type,\n",
              ".xr-array-name {\n",
              "  margin-left: 2px;\n",
              "  margin-right: 10px;\n",
              "}\n",
              "\n",
              ".xr-obj-type {\n",
              "  color: var(--xr-font-color2);\n",
              "}\n",
              "\n",
              ".xr-sections {\n",
              "  padding-left: 0 !important;\n",
              "  display: grid;\n",
              "  grid-template-columns: 150px auto auto 1fr 20px 20px;\n",
              "}\n",
              "\n",
              ".xr-section-item {\n",
              "  display: contents;\n",
              "}\n",
              "\n",
              ".xr-section-item input {\n",
              "  display: none;\n",
              "}\n",
              "\n",
              ".xr-section-item input + label {\n",
              "  color: var(--xr-disabled-color);\n",
              "}\n",
              "\n",
              ".xr-section-item input:enabled + label {\n",
              "  cursor: pointer;\n",
              "  color: var(--xr-font-color2);\n",
              "}\n",
              "\n",
              ".xr-section-item input:enabled + label:hover {\n",
              "  color: var(--xr-font-color0);\n",
              "}\n",
              "\n",
              ".xr-section-summary {\n",
              "  grid-column: 1;\n",
              "  color: var(--xr-font-color2);\n",
              "  font-weight: 500;\n",
              "}\n",
              "\n",
              ".xr-section-summary > span {\n",
              "  display: inline-block;\n",
              "  padding-left: 0.5em;\n",
              "}\n",
              "\n",
              ".xr-section-summary-in:disabled + label {\n",
              "  color: var(--xr-font-color2);\n",
              "}\n",
              "\n",
              ".xr-section-summary-in + label:before {\n",
              "  display: inline-block;\n",
              "  content: '►';\n",
              "  font-size: 11px;\n",
              "  width: 15px;\n",
              "  text-align: center;\n",
              "}\n",
              "\n",
              ".xr-section-summary-in:disabled + label:before {\n",
              "  color: var(--xr-disabled-color);\n",
              "}\n",
              "\n",
              ".xr-section-summary-in:checked + label:before {\n",
              "  content: '▼';\n",
              "}\n",
              "\n",
              ".xr-section-summary-in:checked + label > span {\n",
              "  display: none;\n",
              "}\n",
              "\n",
              ".xr-section-summary,\n",
              ".xr-section-inline-details {\n",
              "  padding-top: 4px;\n",
              "  padding-bottom: 4px;\n",
              "}\n",
              "\n",
              ".xr-section-inline-details {\n",
              "  grid-column: 2 / -1;\n",
              "}\n",
              "\n",
              ".xr-section-details {\n",
              "  display: none;\n",
              "  grid-column: 1 / -1;\n",
              "  margin-bottom: 5px;\n",
              "}\n",
              "\n",
              ".xr-section-summary-in:checked ~ .xr-section-details {\n",
              "  display: contents;\n",
              "}\n",
              "\n",
              ".xr-array-wrap {\n",
              "  grid-column: 1 / -1;\n",
              "  display: grid;\n",
              "  grid-template-columns: 20px auto;\n",
              "}\n",
              "\n",
              ".xr-array-wrap > label {\n",
              "  grid-column: 1;\n",
              "  vertical-align: top;\n",
              "}\n",
              "\n",
              ".xr-preview {\n",
              "  color: var(--xr-font-color3);\n",
              "}\n",
              "\n",
              ".xr-array-preview,\n",
              ".xr-array-data {\n",
              "  padding: 0 5px !important;\n",
              "  grid-column: 2;\n",
              "}\n",
              "\n",
              ".xr-array-data,\n",
              ".xr-array-in:checked ~ .xr-array-preview {\n",
              "  display: none;\n",
              "}\n",
              "\n",
              ".xr-array-in:checked ~ .xr-array-data,\n",
              ".xr-array-preview {\n",
              "  display: inline-block;\n",
              "}\n",
              "\n",
              ".xr-dim-list {\n",
              "  display: inline-block !important;\n",
              "  list-style: none;\n",
              "  padding: 0 !important;\n",
              "  margin: 0;\n",
              "}\n",
              "\n",
              ".xr-dim-list li {\n",
              "  display: inline-block;\n",
              "  padding: 0;\n",
              "  margin: 0;\n",
              "}\n",
              "\n",
              ".xr-dim-list:before {\n",
              "  content: '(';\n",
              "}\n",
              "\n",
              ".xr-dim-list:after {\n",
              "  content: ')';\n",
              "}\n",
              "\n",
              ".xr-dim-list li:not(:last-child):after {\n",
              "  content: ',';\n",
              "  padding-right: 5px;\n",
              "}\n",
              "\n",
              ".xr-has-index {\n",
              "  font-weight: bold;\n",
              "}\n",
              "\n",
              ".xr-var-list,\n",
              ".xr-var-item {\n",
              "  display: contents;\n",
              "}\n",
              "\n",
              ".xr-var-item > div,\n",
              ".xr-var-item label,\n",
              ".xr-var-item > .xr-var-name span {\n",
              "  background-color: var(--xr-background-color-row-even);\n",
              "  margin-bottom: 0;\n",
              "}\n",
              "\n",
              ".xr-var-item > .xr-var-name:hover span {\n",
              "  padding-right: 5px;\n",
              "}\n",
              "\n",
              ".xr-var-list > li:nth-child(odd) > div,\n",
              ".xr-var-list > li:nth-child(odd) > label,\n",
              ".xr-var-list > li:nth-child(odd) > .xr-var-name span {\n",
              "  background-color: var(--xr-background-color-row-odd);\n",
              "}\n",
              "\n",
              ".xr-var-name {\n",
              "  grid-column: 1;\n",
              "}\n",
              "\n",
              ".xr-var-dims {\n",
              "  grid-column: 2;\n",
              "}\n",
              "\n",
              ".xr-var-dtype {\n",
              "  grid-column: 3;\n",
              "  text-align: right;\n",
              "  color: var(--xr-font-color2);\n",
              "}\n",
              "\n",
              ".xr-var-preview {\n",
              "  grid-column: 4;\n",
              "}\n",
              "\n",
              ".xr-var-name,\n",
              ".xr-var-dims,\n",
              ".xr-var-dtype,\n",
              ".xr-preview,\n",
              ".xr-attrs dt {\n",
              "  white-space: nowrap;\n",
              "  overflow: hidden;\n",
              "  text-overflow: ellipsis;\n",
              "  padding-right: 10px;\n",
              "}\n",
              "\n",
              ".xr-var-name:hover,\n",
              ".xr-var-dims:hover,\n",
              ".xr-var-dtype:hover,\n",
              ".xr-attrs dt:hover {\n",
              "  overflow: visible;\n",
              "  width: auto;\n",
              "  z-index: 1;\n",
              "}\n",
              "\n",
              ".xr-var-attrs,\n",
              ".xr-var-data {\n",
              "  display: none;\n",
              "  background-color: var(--xr-background-color) !important;\n",
              "  padding-bottom: 5px !important;\n",
              "}\n",
              "\n",
              ".xr-var-attrs-in:checked ~ .xr-var-attrs,\n",
              ".xr-var-data-in:checked ~ .xr-var-data {\n",
              "  display: block;\n",
              "}\n",
              "\n",
              ".xr-var-data > table {\n",
              "  float: right;\n",
              "}\n",
              "\n",
              ".xr-var-name span,\n",
              ".xr-var-data,\n",
              ".xr-attrs {\n",
              "  padding-left: 25px !important;\n",
              "}\n",
              "\n",
              ".xr-attrs,\n",
              ".xr-var-attrs,\n",
              ".xr-var-data {\n",
              "  grid-column: 1 / -1;\n",
              "}\n",
              "\n",
              "dl.xr-attrs {\n",
              "  padding: 0;\n",
              "  margin: 0;\n",
              "  display: grid;\n",
              "  grid-template-columns: 125px auto;\n",
              "}\n",
              "\n",
              ".xr-attrs dt,\n",
              ".xr-attrs dd {\n",
              "  padding: 0;\n",
              "  margin: 0;\n",
              "  float: left;\n",
              "  padding-right: 10px;\n",
              "  width: auto;\n",
              "}\n",
              "\n",
              ".xr-attrs dt {\n",
              "  font-weight: normal;\n",
              "  grid-column: 1;\n",
              "}\n",
              "\n",
              ".xr-attrs dt:hover span {\n",
              "  display: inline-block;\n",
              "  background: var(--xr-background-color);\n",
              "  padding-right: 10px;\n",
              "}\n",
              "\n",
              ".xr-attrs dd {\n",
              "  grid-column: 2;\n",
              "  white-space: pre-wrap;\n",
              "  word-break: break-all;\n",
              "}\n",
              "\n",
              ".xr-icon-database,\n",
              ".xr-icon-file-text2 {\n",
              "  display: inline-block;\n",
              "  vertical-align: middle;\n",
              "  width: 1em;\n",
              "  height: 1.5em !important;\n",
              "  stroke-width: 0;\n",
              "  stroke: currentColor;\n",
              "  fill: currentColor;\n",
              "}\n",
              "</style><pre class='xr-text-repr-fallback'>&lt;xarray.Dataset&gt;\n",
              "Dimensions:  (time: 365, lat: 12, lon: 12)\n",
              "Coordinates:\n",
              "  * time     (time) datetime64[ns] 2000-01-01T12:00:00 ... 2000-12-31T12:00:00\n",
              "  * lat      (lat) float64 6.977 9.767 12.56 15.35 ... 29.3 32.09 34.88 37.67\n",
              "  * lon      (lon) float64 67.5 70.31 73.12 75.94 ... 90.0 92.81 95.62 98.44\n",
              "Data variables:\n",
              "    pr       (time, lat, lon) float64 0.0 0.0 0.0 0.0 0.0 ... 0.0 0.0 0.0 0.0</pre><div class='xr-wrap' style='display:none'><div class='xr-header'><div class='xr-obj-type'>xarray.Dataset</div></div><ul class='xr-sections'><li class='xr-section-item'><input id='section-c229a6f1-4761-4c8b-9cbb-1e7756328b94' class='xr-section-summary-in' type='checkbox' disabled ><label for='section-c229a6f1-4761-4c8b-9cbb-1e7756328b94' class='xr-section-summary'  title='Expand/collapse section'>Dimensions:</label><div class='xr-section-inline-details'><ul class='xr-dim-list'><li><span class='xr-has-index'>time</span>: 365</li><li><span class='xr-has-index'>lat</span>: 12</li><li><span class='xr-has-index'>lon</span>: 12</li></ul></div><div class='xr-section-details'></div></li><li class='xr-section-item'><input id='section-7470d159-422d-46b5-8e11-864c5e47ed4f' class='xr-section-summary-in' type='checkbox'  checked><label for='section-7470d159-422d-46b5-8e11-864c5e47ed4f' class='xr-section-summary' >Coordinates: <span>(3)</span></label><div class='xr-section-inline-details'></div><div class='xr-section-details'><ul class='xr-var-list'><li class='xr-var-item'><div class='xr-var-name'><span class='xr-has-index'>time</span></div><div class='xr-var-dims'>(time)</div><div class='xr-var-dtype'>datetime64[ns]</div><div class='xr-var-preview xr-preview'>2000-01-01T12:00:00 ... 2000-12-...</div><input id='attrs-52ec150e-ce12-449c-8a52-f6115c3fe48b' class='xr-var-attrs-in' type='checkbox' disabled><label for='attrs-52ec150e-ce12-449c-8a52-f6115c3fe48b' title='Show/Hide attributes'><svg class='icon xr-icon-file-text2'><use xlink:href='#icon-file-text2'></use></svg></label><input id='data-b3e40a24-45a0-4785-b1f4-1a703c3fba82' class='xr-var-data-in' type='checkbox'><label for='data-b3e40a24-45a0-4785-b1f4-1a703c3fba82' title='Show/Hide data repr'><svg class='icon xr-icon-database'><use xlink:href='#icon-database'></use></svg></label><div class='xr-var-attrs'><dl class='xr-attrs'></dl></div><div class='xr-var-data'><pre>array([&#x27;2000-01-01T12:00:00.000000000&#x27;, &#x27;2000-01-02T12:00:00.000000000&#x27;,\n",
              "       &#x27;2000-01-03T12:00:00.000000000&#x27;, ..., &#x27;2000-12-29T12:00:00.000000000&#x27;,\n",
              "       &#x27;2000-12-30T12:00:00.000000000&#x27;, &#x27;2000-12-31T12:00:00.000000000&#x27;],\n",
              "      dtype=&#x27;datetime64[ns]&#x27;)</pre></div></li><li class='xr-var-item'><div class='xr-var-name'><span class='xr-has-index'>lat</span></div><div class='xr-var-dims'>(lat)</div><div class='xr-var-dtype'>float64</div><div class='xr-var-preview xr-preview'>6.977 9.767 12.56 ... 34.88 37.67</div><input id='attrs-0c946279-3f7a-4552-b0ad-4feb920933ba' class='xr-var-attrs-in' type='checkbox' ><label for='attrs-0c946279-3f7a-4552-b0ad-4feb920933ba' title='Show/Hide attributes'><svg class='icon xr-icon-file-text2'><use xlink:href='#icon-file-text2'></use></svg></label><input id='data-e76927d8-ce09-4f45-86d2-bdaa8cee39a6' class='xr-var-data-in' type='checkbox'><label for='data-e76927d8-ce09-4f45-86d2-bdaa8cee39a6' title='Show/Hide data repr'><svg class='icon xr-icon-database'><use xlink:href='#icon-database'></use></svg></label><div class='xr-var-attrs'><dl class='xr-attrs'><dt><span>bounds :</span></dt><dd>lat_bnds</dd><dt><span>units :</span></dt><dd>degrees_north</dd><dt><span>axis :</span></dt><dd>Y</dd><dt><span>long_name :</span></dt><dd>latitude</dd><dt><span>standard_name :</span></dt><dd>latitude</dd></dl></div><div class='xr-var-data'><pre>array([ 6.976534,  9.767146, 12.557756, 15.348365, 18.138971, 20.929574,\n",
              "       23.720174, 26.510769, 29.30136 , 32.091944, 34.882521, 37.67309 ])</pre></div></li><li class='xr-var-item'><div class='xr-var-name'><span class='xr-has-index'>lon</span></div><div class='xr-var-dims'>(lon)</div><div class='xr-var-dtype'>float64</div><div class='xr-var-preview xr-preview'>67.5 70.31 73.12 ... 95.62 98.44</div><input id='attrs-82098dde-39c5-43f8-830a-38fda6f0c5d6' class='xr-var-attrs-in' type='checkbox' ><label for='attrs-82098dde-39c5-43f8-830a-38fda6f0c5d6' title='Show/Hide attributes'><svg class='icon xr-icon-file-text2'><use xlink:href='#icon-file-text2'></use></svg></label><input id='data-9a05492e-5df1-4e34-b088-4cdcc6644e01' class='xr-var-data-in' type='checkbox'><label for='data-9a05492e-5df1-4e34-b088-4cdcc6644e01' title='Show/Hide data repr'><svg class='icon xr-icon-database'><use xlink:href='#icon-database'></use></svg></label><div class='xr-var-attrs'><dl class='xr-attrs'><dt><span>bounds :</span></dt><dd>lon_bnds</dd><dt><span>units :</span></dt><dd>degrees_east</dd><dt><span>axis :</span></dt><dd>X</dd><dt><span>long_name :</span></dt><dd>longitude</dd><dt><span>standard_name :</span></dt><dd>longitude</dd></dl></div><div class='xr-var-data'><pre>array([67.5   , 70.3125, 73.125 , 75.9375, 78.75  , 81.5625, 84.375 , 87.1875,\n",
              "       90.    , 92.8125, 95.625 , 98.4375])</pre></div></li></ul></div></li><li class='xr-section-item'><input id='section-c1245a76-4a53-4771-abf2-7be2328dd50f' class='xr-section-summary-in' type='checkbox'  checked><label for='section-c1245a76-4a53-4771-abf2-7be2328dd50f' class='xr-section-summary' >Data variables: <span>(1)</span></label><div class='xr-section-inline-details'></div><div class='xr-section-details'><ul class='xr-var-list'><li class='xr-var-item'><div class='xr-var-name'><span>pr</span></div><div class='xr-var-dims'>(time, lat, lon)</div><div class='xr-var-dtype'>float64</div><div class='xr-var-preview xr-preview'>0.0 0.0 0.0 0.0 ... 0.0 0.0 0.0 0.0</div><input id='attrs-0c4e786f-7f89-44e7-81ad-742d8c1ced71' class='xr-var-attrs-in' type='checkbox' ><label for='attrs-0c4e786f-7f89-44e7-81ad-742d8c1ced71' title='Show/Hide attributes'><svg class='icon xr-icon-file-text2'><use xlink:href='#icon-file-text2'></use></svg></label><input id='data-6879d50f-9db5-47fa-a0f0-976832d1030d' class='xr-var-data-in' type='checkbox'><label for='data-6879d50f-9db5-47fa-a0f0-976832d1030d' title='Show/Hide data repr'><svg class='icon xr-icon-database'><use xlink:href='#icon-database'></use></svg></label><div class='xr-var-attrs'><dl class='xr-attrs'><dt><span>units :</span></dt><dd>kg m-2 s-1</dd></dl></div><div class='xr-var-data'><pre>array([[[0., 0., 0., ..., 0., 0., 0.],\n",
              "        [0., 0., 0., ..., 0., 0., 0.],\n",
              "        [0., 0., 0., ..., 0., 0., 0.],\n",
              "        ...,\n",
              "        [0., 0., 0., ..., 0., 0., 0.],\n",
              "        [0., 0., 0., ..., 0., 0., 0.],\n",
              "        [0., 0., 0., ..., 0., 0., 0.]],\n",
              "\n",
              "       [[0., 0., 0., ..., 0., 0., 0.],\n",
              "        [0., 0., 0., ..., 0., 0., 0.],\n",
              "        [0., 0., 0., ..., 0., 0., 0.],\n",
              "        ...,\n",
              "        [0., 0., 0., ..., 0., 0., 0.],\n",
              "        [0., 0., 0., ..., 0., 0., 0.],\n",
              "        [0., 0., 0., ..., 0., 0., 0.]],\n",
              "\n",
              "       [[0., 0., 0., ..., 0., 0., 0.],\n",
              "        [0., 0., 0., ..., 0., 0., 0.],\n",
              "        [0., 0., 0., ..., 0., 0., 0.],\n",
              "        ...,\n",
              "...\n",
              "        ...,\n",
              "        [0., 0., 0., ..., 0., 0., 0.],\n",
              "        [0., 0., 0., ..., 0., 0., 0.],\n",
              "        [0., 0., 0., ..., 0., 0., 0.]],\n",
              "\n",
              "       [[0., 0., 0., ..., 0., 0., 0.],\n",
              "        [0., 0., 0., ..., 0., 0., 0.],\n",
              "        [0., 0., 0., ..., 0., 0., 0.],\n",
              "        ...,\n",
              "        [0., 0., 0., ..., 0., 0., 0.],\n",
              "        [0., 0., 0., ..., 0., 0., 0.],\n",
              "        [0., 0., 0., ..., 0., 0., 0.]],\n",
              "\n",
              "       [[0., 0., 0., ..., 0., 0., 0.],\n",
              "        [0., 0., 0., ..., 0., 0., 0.],\n",
              "        [0., 0., 0., ..., 0., 0., 0.],\n",
              "        ...,\n",
              "        [0., 0., 0., ..., 0., 0., 0.],\n",
              "        [0., 0., 0., ..., 0., 0., 0.],\n",
              "        [0., 0., 0., ..., 0., 0., 0.]]])</pre></div></li></ul></div></li><li class='xr-section-item'><input id='section-2c0ca73d-537c-4e2b-a364-9ed6dbe4f643' class='xr-section-summary-in' type='checkbox' disabled ><label for='section-2c0ca73d-537c-4e2b-a364-9ed6dbe4f643' class='xr-section-summary'  title='Expand/collapse section'>Attributes: <span>(0)</span></label><div class='xr-section-inline-details'></div><div class='xr-section-details'><dl class='xr-attrs'></dl></div></li></ul></div></div>"
            ],
            "text/plain": [
              "<xarray.Dataset>\n",
              "Dimensions:  (time: 365, lat: 12, lon: 12)\n",
              "Coordinates:\n",
              "  * time     (time) datetime64[ns] 2000-01-01T12:00:00 ... 2000-12-31T12:00:00\n",
              "  * lat      (lat) float64 6.977 9.767 12.56 15.35 ... 29.3 32.09 34.88 37.67\n",
              "  * lon      (lon) float64 67.5 70.31 73.12 75.94 ... 90.0 92.81 95.62 98.44\n",
              "Data variables:\n",
              "    pr       (time, lat, lon) float64 0.0 0.0 0.0 0.0 0.0 ... 0.0 0.0 0.0 0.0"
            ]
          },
          "execution_count": 15,
          "metadata": {},
          "output_type": "execute_result"
        }
      ],
      "source": [
        "model_name = 'MIROC-ESM'\n",
        "pr_values = np.zeros((365, 12, 12))\n",
        "dates_MIROC_ESM = ds.coords['time'].to_numpy()[:365]\n",
        "lon_lst = ds.variables['lon'][:]\n",
        "lat_lst = ds.variables['lat'][:]\n",
        "ds3 = xr.Dataset({\n",
        "        'pr': xr.DataArray(\n",
        "            data = pr_values.reshape(len(dates_MIROC_ESM), len(lat_lst), len(lon_lst)),\n",
        "            dims = ['time', 'lat', 'lon'],\n",
        "            coords = {\n",
        "                'time': dates_MIROC_ESM,\n",
        "                'lat': lat_lst,\n",
        "                'lon': lon_lst\n",
        "            },\n",
        "            attrs = {'units':ds.pr.units}\n",
        "        )\n",
        "    }\n",
        ")\n",
        "# ds3.to_netcdf(rf\"{model_name}_New.nc\")\n",
        "ds3"
      ]
    },
    {
      "cell_type": "code",
      "execution_count": null,
      "metadata": {
        "id": "4YWOmjk87rxZ"
      },
      "outputs": [],
      "source": [
        "ds.close()\n",
        "ds1.close()\n",
        "ds2.close()\n",
        "ds3.close()"
      ]
    },
    {
      "cell_type": "markdown",
      "metadata": {
        "id": "5NOmep1cHWqE"
      },
      "source": [
        "## GCM (MIROC-ESM) for a random day"
      ]
    },
    {
      "cell_type": "markdown",
      "metadata": {
        "id": "MrfdubUcHe0B"
      },
      "source": [
        "![](https://raw.githubusercontent.com/dubeysarth/Lab_Downscaling/main/Data/02/GCM_MIROC-ESM_RandomDay.png)"
      ]
    },
    {
      "cell_type": "markdown",
      "metadata": {
        "id": "XE1FjOu0Hqt9"
      },
      "source": [
        "## IMD for a random day"
      ]
    },
    {
      "cell_type": "markdown",
      "metadata": {
        "id": "bAtoNnjUHuu6"
      },
      "source": [
        "![](https://raw.githubusercontent.com/dubeysarth/Lab_Downscaling/main/Data/02/IMD_RandomDay.png)"
      ]
    },
    {
      "cell_type": "markdown",
      "metadata": {
        "id": "2ak1fcqkH7eJ"
      },
      "source": [
        "## Monthly GCM (MIROC-ESM) precipitation (2000 - 2005) "
      ]
    },
    {
      "cell_type": "markdown",
      "metadata": {
        "id": "vp_v50r4H8bQ"
      },
      "source": [
        "![](https://raw.githubusercontent.com/dubeysarth/Lab_Downscaling/main/Data/02/GCM_MIROC-ESM_monthly.gif)"
      ]
    },
    {
      "cell_type": "markdown",
      "metadata": {
        "id": "cW72FEqtIHiu"
      },
      "source": [
        "# Image Transformation: Resizing vs Upsampling/Super-resolution/Downscaling"
      ]
    },
    {
      "cell_type": "markdown",
      "metadata": {
        "id": "d3ueg1UeKS6N"
      },
      "source": [
        "## Image Resizing using OpenCV"
      ]
    },
    {
      "cell_type": "code",
      "execution_count": null,
      "metadata": {
        "colab": {
          "base_uri": "https://localhost:8080/",
          "height": 252
        },
        "id": "oUWS5-79CpEW",
        "outputId": "46b62796-6b41-4446-d927-ac176dc9d41b"
      },
      "outputs": [
        {
          "name": "stdout",
          "output_type": "stream",
          "text": [
            "Original Dimensions :  (80, 227, 4)\n"
          ]
        },
        {
          "data": {
            "image/png": "[encoded data removed]",
            "text/plain": [
              "<PIL.Image.Image image mode=RGBA size=227x80 at 0x7FDE723E5710>"
            ]
          },
          "metadata": {},
          "output_type": "display_data"
        },
        {
          "name": "stdout",
          "output_type": "stream",
          "text": [
            "Resized Dimensions :  (120, 340, 4)\n"
          ]
        },
        {
          "data": {
            "image/png": "[encoded data removed]",
            "text/plain": [
              "<PIL.Image.Image image mode=RGBA size=340x120 at 0x7FDE68965A90>"
            ]
          },
          "metadata": {},
          "output_type": "display_data"
        }
      ],
      "source": [
        "import cv2\n",
        "import urllib\n",
        "from google.colab.patches import cv2_imshow\n",
        "\n",
        "# filepath = r'Data/02/GCM_MIROC-ESM_RandomDay.png'\n",
        "# img = cv2.imread(filepath, cv2.IMREAD_UNCHANGED)\n",
        "\n",
        "filepath = r'https://www.acm.org/binaries/content/gallery/global/top-menu/acm_logo_tablet.svg'\n",
        "req = urllib.request.urlopen(filepath)\n",
        "arr = np.asarray(bytearray(req.read()), dtype=np.uint8)\n",
        "img = cv2.imdecode(arr, -1) # 'Load it as it is'\n",
        "\n",
        "print('Original Dimensions : ',img.shape)\n",
        "cv2_imshow(img)\n",
        "\n",
        "# percent of original size\n",
        "scale_percent = 150\n",
        "width = int(img.shape[1] * scale_percent / 100)\n",
        "height = int(img.shape[0] * scale_percent / 100)\n",
        "dim = (width, height)\n",
        "  \n",
        "# resize image\n",
        "resized = cv2.resize(img, dim, interpolation = cv2.INTER_AREA)\n",
        " \n",
        "print('Resized Dimensions : ',resized.shape)\n",
        " \n",
        "cv2_imshow(resized)"
      ]
    },
    {
      "cell_type": "markdown",
      "metadata": {
        "id": "2slUkMD9LYWL"
      },
      "source": [
        "## Resizing vs Regridding"
      ]
    },
    {
      "cell_type": "markdown",
      "metadata": {
        "id": "nw2BaxbXLbxU"
      },
      "source": [
        "![](https://www.researchgate.net/publication/326818209/figure/fig2/AS:655719716110336@1533347171910/Regridding-original-values-are-available-for-the-grid-indicated-by-grey-lines-new.png)\n",
        "\n",
        "**Figure:** \n",
        "\n",
        "* Regridding: original values are available for the grid indicated by grey lines, new values are required for the black lined grid (e.g., the red cell), or vice versa (e.g., the green cell). \n",
        "* New cell values can be calculated from the intersecting grid areas (lower left), intersecting grid cell centre points (lower right), or using interpolation (e.g., from black cells or cell center points to the green cell)."
      ]
    },
    {
      "cell_type": "markdown",
      "metadata": {
        "id": "rP_ZIJceMASP"
      },
      "source": [
        "## Regridding using xarray.interp()"
      ]
    },
    {
      "cell_type": "code",
      "execution_count": null,
      "metadata": {
        "colab": {
          "base_uri": "https://localhost:8080/",
          "height": 245
        },
        "id": "R5xzxIPwMfKR",
        "outputId": "fe367c81-a5fd-44b1-c9a0-70f65f7deafe"
      },
      "outputs": [
        {
          "data": {
            "text/html": [
              "<div><svg style=\"position: absolute; width: 0; height: 0; overflow: hidden\">\n",
              "<defs>\n",
              "<symbol id=\"icon-database\" viewBox=\"0 0 32 32\">\n",
              "<path d=\"M16 0c-8.837 0-16 2.239-16 5v4c0 2.761 7.163 5 16 5s16-2.239 16-5v-4c0-2.761-7.163-5-16-5z\"></path>\n",
              "<path d=\"M16 17c-8.837 0-16-2.239-16-5v6c0 2.761 7.163 5 16 5s16-2.239 16-5v-6c0 2.761-7.163 5-16 5z\"></path>\n",
              "<path d=\"M16 26c-8.837 0-16-2.239-16-5v6c0 2.761 7.163 5 16 5s16-2.239 16-5v-6c0 2.761-7.163 5-16 5z\"></path>\n",
              "</symbol>\n",
              "<symbol id=\"icon-file-text2\" viewBox=\"0 0 32 32\">\n",
              "<path d=\"M28.681 7.159c-0.694-0.947-1.662-2.053-2.724-3.116s-2.169-2.030-3.116-2.724c-1.612-1.182-2.393-1.319-2.841-1.319h-15.5c-1.378 0-2.5 1.121-2.5 2.5v27c0 1.378 1.122 2.5 2.5 2.5h23c1.378 0 2.5-1.122 2.5-2.5v-19.5c0-0.448-0.137-1.23-1.319-2.841zM24.543 5.457c0.959 0.959 1.712 1.825 2.268 2.543h-4.811v-4.811c0.718 0.556 1.584 1.309 2.543 2.268zM28 29.5c0 0.271-0.229 0.5-0.5 0.5h-23c-0.271 0-0.5-0.229-0.5-0.5v-27c0-0.271 0.229-0.5 0.5-0.5 0 0 15.499-0 15.5 0v7c0 0.552 0.448 1 1 1h7v19.5z\"></path>\n",
              "<path d=\"M23 26h-14c-0.552 0-1-0.448-1-1s0.448-1 1-1h14c0.552 0 1 0.448 1 1s-0.448 1-1 1z\"></path>\n",
              "<path d=\"M23 22h-14c-0.552 0-1-0.448-1-1s0.448-1 1-1h14c0.552 0 1 0.448 1 1s-0.448 1-1 1z\"></path>\n",
              "<path d=\"M23 18h-14c-0.552 0-1-0.448-1-1s0.448-1 1-1h14c0.552 0 1 0.448 1 1s-0.448 1-1 1z\"></path>\n",
              "</symbol>\n",
              "</defs>\n",
              "</svg>\n",
              "<style>/* CSS stylesheet for displaying xarray objects in jupyterlab.\n",
              " *\n",
              " */\n",
              "\n",
              ":root {\n",
              "  --xr-font-color0: var(--jp-content-font-color0, rgba(0, 0, 0, 1));\n",
              "  --xr-font-color2: var(--jp-content-font-color2, rgba(0, 0, 0, 0.54));\n",
              "  --xr-font-color3: var(--jp-content-font-color3, rgba(0, 0, 0, 0.38));\n",
              "  --xr-border-color: var(--jp-border-color2, #e0e0e0);\n",
              "  --xr-disabled-color: var(--jp-layout-color3, #bdbdbd);\n",
              "  --xr-background-color: var(--jp-layout-color0, white);\n",
              "  --xr-background-color-row-even: var(--jp-layout-color1, white);\n",
              "  --xr-background-color-row-odd: var(--jp-layout-color2, #eeeeee);\n",
              "}\n",
              "\n",
              "html[theme=dark],\n",
              "body.vscode-dark {\n",
              "  --xr-font-color0: rgba(255, 255, 255, 1);\n",
              "  --xr-font-color2: rgba(255, 255, 255, 0.54);\n",
              "  --xr-font-color3: rgba(255, 255, 255, 0.38);\n",
              "  --xr-border-color: #1F1F1F;\n",
              "  --xr-disabled-color: #515151;\n",
              "  --xr-background-color: #111111;\n",
              "  --xr-background-color-row-even: #111111;\n",
              "  --xr-background-color-row-odd: #313131;\n",
              "}\n",
              "\n",
              ".xr-wrap {\n",
              "  display: block !important;\n",
              "  min-width: 300px;\n",
              "  max-width: 700px;\n",
              "}\n",
              "\n",
              ".xr-text-repr-fallback {\n",
              "  /* fallback to plain text repr when CSS is not injected (untrusted notebook) */\n",
              "  display: none;\n",
              "}\n",
              "\n",
              ".xr-header {\n",
              "  padding-top: 6px;\n",
              "  padding-bottom: 6px;\n",
              "  margin-bottom: 4px;\n",
              "  border-bottom: solid 1px var(--xr-border-color);\n",
              "}\n",
              "\n",
              ".xr-header > div,\n",
              ".xr-header > ul {\n",
              "  display: inline;\n",
              "  margin-top: 0;\n",
              "  margin-bottom: 0;\n",
              "}\n",
              "\n",
              ".xr-obj-type,\n",
              ".xr-array-name {\n",
              "  margin-left: 2px;\n",
              "  margin-right: 10px;\n",
              "}\n",
              "\n",
              ".xr-obj-type {\n",
              "  color: var(--xr-font-color2);\n",
              "}\n",
              "\n",
              ".xr-sections {\n",
              "  padding-left: 0 !important;\n",
              "  display: grid;\n",
              "  grid-template-columns: 150px auto auto 1fr 20px 20px;\n",
              "}\n",
              "\n",
              ".xr-section-item {\n",
              "  display: contents;\n",
              "}\n",
              "\n",
              ".xr-section-item input {\n",
              "  display: none;\n",
              "}\n",
              "\n",
              ".xr-section-item input + label {\n",
              "  color: var(--xr-disabled-color);\n",
              "}\n",
              "\n",
              ".xr-section-item input:enabled + label {\n",
              "  cursor: pointer;\n",
              "  color: var(--xr-font-color2);\n",
              "}\n",
              "\n",
              ".xr-section-item input:enabled + label:hover {\n",
              "  color: var(--xr-font-color0);\n",
              "}\n",
              "\n",
              ".xr-section-summary {\n",
              "  grid-column: 1;\n",
              "  color: var(--xr-font-color2);\n",
              "  font-weight: 500;\n",
              "}\n",
              "\n",
              ".xr-section-summary > span {\n",
              "  display: inline-block;\n",
              "  padding-left: 0.5em;\n",
              "}\n",
              "\n",
              ".xr-section-summary-in:disabled + label {\n",
              "  color: var(--xr-font-color2);\n",
              "}\n",
              "\n",
              ".xr-section-summary-in + label:before {\n",
              "  display: inline-block;\n",
              "  content: '►';\n",
              "  font-size: 11px;\n",
              "  width: 15px;\n",
              "  text-align: center;\n",
              "}\n",
              "\n",
              ".xr-section-summary-in:disabled + label:before {\n",
              "  color: var(--xr-disabled-color);\n",
              "}\n",
              "\n",
              ".xr-section-summary-in:checked + label:before {\n",
              "  content: '▼';\n",
              "}\n",
              "\n",
              ".xr-section-summary-in:checked + label > span {\n",
              "  display: none;\n",
              "}\n",
              "\n",
              ".xr-section-summary,\n",
              ".xr-section-inline-details {\n",
              "  padding-top: 4px;\n",
              "  padding-bottom: 4px;\n",
              "}\n",
              "\n",
              ".xr-section-inline-details {\n",
              "  grid-column: 2 / -1;\n",
              "}\n",
              "\n",
              ".xr-section-details {\n",
              "  display: none;\n",
              "  grid-column: 1 / -1;\n",
              "  margin-bottom: 5px;\n",
              "}\n",
              "\n",
              ".xr-section-summary-in:checked ~ .xr-section-details {\n",
              "  display: contents;\n",
              "}\n",
              "\n",
              ".xr-array-wrap {\n",
              "  grid-column: 1 / -1;\n",
              "  display: grid;\n",
              "  grid-template-columns: 20px auto;\n",
              "}\n",
              "\n",
              ".xr-array-wrap > label {\n",
              "  grid-column: 1;\n",
              "  vertical-align: top;\n",
              "}\n",
              "\n",
              ".xr-preview {\n",
              "  color: var(--xr-font-color3);\n",
              "}\n",
              "\n",
              ".xr-array-preview,\n",
              ".xr-array-data {\n",
              "  padding: 0 5px !important;\n",
              "  grid-column: 2;\n",
              "}\n",
              "\n",
              ".xr-array-data,\n",
              ".xr-array-in:checked ~ .xr-array-preview {\n",
              "  display: none;\n",
              "}\n",
              "\n",
              ".xr-array-in:checked ~ .xr-array-data,\n",
              ".xr-array-preview {\n",
              "  display: inline-block;\n",
              "}\n",
              "\n",
              ".xr-dim-list {\n",
              "  display: inline-block !important;\n",
              "  list-style: none;\n",
              "  padding: 0 !important;\n",
              "  margin: 0;\n",
              "}\n",
              "\n",
              ".xr-dim-list li {\n",
              "  display: inline-block;\n",
              "  padding: 0;\n",
              "  margin: 0;\n",
              "}\n",
              "\n",
              ".xr-dim-list:before {\n",
              "  content: '(';\n",
              "}\n",
              "\n",
              ".xr-dim-list:after {\n",
              "  content: ')';\n",
              "}\n",
              "\n",
              ".xr-dim-list li:not(:last-child):after {\n",
              "  content: ',';\n",
              "  padding-right: 5px;\n",
              "}\n",
              "\n",
              ".xr-has-index {\n",
              "  font-weight: bold;\n",
              "}\n",
              "\n",
              ".xr-var-list,\n",
              ".xr-var-item {\n",
              "  display: contents;\n",
              "}\n",
              "\n",
              ".xr-var-item > div,\n",
              ".xr-var-item label,\n",
              ".xr-var-item > .xr-var-name span {\n",
              "  background-color: var(--xr-background-color-row-even);\n",
              "  margin-bottom: 0;\n",
              "}\n",
              "\n",
              ".xr-var-item > .xr-var-name:hover span {\n",
              "  padding-right: 5px;\n",
              "}\n",
              "\n",
              ".xr-var-list > li:nth-child(odd) > div,\n",
              ".xr-var-list > li:nth-child(odd) > label,\n",
              ".xr-var-list > li:nth-child(odd) > .xr-var-name span {\n",
              "  background-color: var(--xr-background-color-row-odd);\n",
              "}\n",
              "\n",
              ".xr-var-name {\n",
              "  grid-column: 1;\n",
              "}\n",
              "\n",
              ".xr-var-dims {\n",
              "  grid-column: 2;\n",
              "}\n",
              "\n",
              ".xr-var-dtype {\n",
              "  grid-column: 3;\n",
              "  text-align: right;\n",
              "  color: var(--xr-font-color2);\n",
              "}\n",
              "\n",
              ".xr-var-preview {\n",
              "  grid-column: 4;\n",
              "}\n",
              "\n",
              ".xr-var-name,\n",
              ".xr-var-dims,\n",
              ".xr-var-dtype,\n",
              ".xr-preview,\n",
              ".xr-attrs dt {\n",
              "  white-space: nowrap;\n",
              "  overflow: hidden;\n",
              "  text-overflow: ellipsis;\n",
              "  padding-right: 10px;\n",
              "}\n",
              "\n",
              ".xr-var-name:hover,\n",
              ".xr-var-dims:hover,\n",
              ".xr-var-dtype:hover,\n",
              ".xr-attrs dt:hover {\n",
              "  overflow: visible;\n",
              "  width: auto;\n",
              "  z-index: 1;\n",
              "}\n",
              "\n",
              ".xr-var-attrs,\n",
              ".xr-var-data {\n",
              "  display: none;\n",
              "  background-color: var(--xr-background-color) !important;\n",
              "  padding-bottom: 5px !important;\n",
              "}\n",
              "\n",
              ".xr-var-attrs-in:checked ~ .xr-var-attrs,\n",
              ".xr-var-data-in:checked ~ .xr-var-data {\n",
              "  display: block;\n",
              "}\n",
              "\n",
              ".xr-var-data > table {\n",
              "  float: right;\n",
              "}\n",
              "\n",
              ".xr-var-name span,\n",
              ".xr-var-data,\n",
              ".xr-attrs {\n",
              "  padding-left: 25px !important;\n",
              "}\n",
              "\n",
              ".xr-attrs,\n",
              ".xr-var-attrs,\n",
              ".xr-var-data {\n",
              "  grid-column: 1 / -1;\n",
              "}\n",
              "\n",
              "dl.xr-attrs {\n",
              "  padding: 0;\n",
              "  margin: 0;\n",
              "  display: grid;\n",
              "  grid-template-columns: 125px auto;\n",
              "}\n",
              "\n",
              ".xr-attrs dt,\n",
              ".xr-attrs dd {\n",
              "  padding: 0;\n",
              "  margin: 0;\n",
              "  float: left;\n",
              "  padding-right: 10px;\n",
              "  width: auto;\n",
              "}\n",
              "\n",
              ".xr-attrs dt {\n",
              "  font-weight: normal;\n",
              "  grid-column: 1;\n",
              "}\n",
              "\n",
              ".xr-attrs dt:hover span {\n",
              "  display: inline-block;\n",
              "  background: var(--xr-background-color);\n",
              "  padding-right: 10px;\n",
              "}\n",
              "\n",
              ".xr-attrs dd {\n",
              "  grid-column: 2;\n",
              "  white-space: pre-wrap;\n",
              "  word-break: break-all;\n",
              "}\n",
              "\n",
              ".xr-icon-database,\n",
              ".xr-icon-file-text2 {\n",
              "  display: inline-block;\n",
              "  vertical-align: middle;\n",
              "  width: 1em;\n",
              "  height: 1.5em !important;\n",
              "  stroke-width: 0;\n",
              "  stroke: currentColor;\n",
              "  fill: currentColor;\n",
              "}\n",
              "</style><pre class='xr-text-repr-fallback'>&lt;xarray.Dataset&gt;\n",
              "Dimensions:  (time: 12, lat: 129, lon: 135)\n",
              "Coordinates:\n",
              "  * time     (time) datetime64[ns] 2000-01-01 2000-02-01 ... 2000-12-01\n",
              "  * lat      (lat) float64 6.5 6.75 7.0 7.25 7.5 ... 37.5 37.75 38.0 38.25 38.5\n",
              "  * lon      (lon) float64 66.5 66.75 67.0 67.25 67.5 ... 99.25 99.5 99.75 100.0\n",
              "Data variables:\n",
              "    rain     (time, lat, lon) float64 ...</pre><div class='xr-wrap' style='display:none'><div class='xr-header'><div class='xr-obj-type'>xarray.Dataset</div></div><ul class='xr-sections'><li class='xr-section-item'><input id='section-9cc1b88f-98a4-48d2-ab72-cdbf2ed8270a' class='xr-section-summary-in' type='checkbox' disabled ><label for='section-9cc1b88f-98a4-48d2-ab72-cdbf2ed8270a' class='xr-section-summary'  title='Expand/collapse section'>Dimensions:</label><div class='xr-section-inline-details'><ul class='xr-dim-list'><li><span class='xr-has-index'>time</span>: 12</li><li><span class='xr-has-index'>lat</span>: 129</li><li><span class='xr-has-index'>lon</span>: 135</li></ul></div><div class='xr-section-details'></div></li><li class='xr-section-item'><input id='section-849b7530-3cea-4496-857d-bd723ad68646' class='xr-section-summary-in' type='checkbox'  checked><label for='section-849b7530-3cea-4496-857d-bd723ad68646' class='xr-section-summary' >Coordinates: <span>(3)</span></label><div class='xr-section-inline-details'></div><div class='xr-section-details'><ul class='xr-var-list'><li class='xr-var-item'><div class='xr-var-name'><span class='xr-has-index'>time</span></div><div class='xr-var-dims'>(time)</div><div class='xr-var-dtype'>datetime64[ns]</div><div class='xr-var-preview xr-preview'>2000-01-01 ... 2000-12-01</div><input id='attrs-d4592027-e02b-4694-b137-2856b6d4d33d' class='xr-var-attrs-in' type='checkbox' disabled><label for='attrs-d4592027-e02b-4694-b137-2856b6d4d33d' title='Show/Hide attributes'><svg class='icon xr-icon-file-text2'><use xlink:href='#icon-file-text2'></use></svg></label><input id='data-73d8eb23-1c81-4ff3-9480-02980eabbcb4' class='xr-var-data-in' type='checkbox'><label for='data-73d8eb23-1c81-4ff3-9480-02980eabbcb4' title='Show/Hide data repr'><svg class='icon xr-icon-database'><use xlink:href='#icon-database'></use></svg></label><div class='xr-var-attrs'><dl class='xr-attrs'></dl></div><div class='xr-var-data'><pre>array([&#x27;2000-01-01T00:00:00.000000000&#x27;, &#x27;2000-02-01T00:00:00.000000000&#x27;,\n",
              "       &#x27;2000-03-01T00:00:00.000000000&#x27;, &#x27;2000-04-01T00:00:00.000000000&#x27;,\n",
              "       &#x27;2000-05-01T00:00:00.000000000&#x27;, &#x27;2000-06-01T00:00:00.000000000&#x27;,\n",
              "       &#x27;2000-07-01T00:00:00.000000000&#x27;, &#x27;2000-08-01T00:00:00.000000000&#x27;,\n",
              "       &#x27;2000-09-01T00:00:00.000000000&#x27;, &#x27;2000-10-01T00:00:00.000000000&#x27;,\n",
              "       &#x27;2000-11-01T00:00:00.000000000&#x27;, &#x27;2000-12-01T00:00:00.000000000&#x27;],\n",
              "      dtype=&#x27;datetime64[ns]&#x27;)</pre></div></li><li class='xr-var-item'><div class='xr-var-name'><span class='xr-has-index'>lat</span></div><div class='xr-var-dims'>(lat)</div><div class='xr-var-dtype'>float64</div><div class='xr-var-preview xr-preview'>6.5 6.75 7.0 ... 38.0 38.25 38.5</div><input id='attrs-51a30548-fc04-4a6e-8fa3-045aec3a2f51' class='xr-var-attrs-in' type='checkbox' ><label for='attrs-51a30548-fc04-4a6e-8fa3-045aec3a2f51' title='Show/Hide attributes'><svg class='icon xr-icon-file-text2'><use xlink:href='#icon-file-text2'></use></svg></label><input id='data-94c14586-df29-4289-acbc-b6673089821b' class='xr-var-data-in' type='checkbox'><label for='data-94c14586-df29-4289-acbc-b6673089821b' title='Show/Hide data repr'><svg class='icon xr-icon-database'><use xlink:href='#icon-database'></use></svg></label><div class='xr-var-attrs'><dl class='xr-attrs'><dt><span>axis :</span></dt><dd>Y</dd><dt><span>standard_name :</span></dt><dd>latitude</dd><dt><span>long_name :</span></dt><dd>latitude</dd><dt><span>units :</span></dt><dd>degrees_north</dd></dl></div><div class='xr-var-data'><pre>array([ 6.5 ,  6.75,  7.  ,  7.25,  7.5 ,  7.75,  8.  ,  8.25,  8.5 ,  8.75,\n",
              "        9.  ,  9.25,  9.5 ,  9.75, 10.  , 10.25, 10.5 , 10.75, 11.  , 11.25,\n",
              "       11.5 , 11.75, 12.  , 12.25, 12.5 , 12.75, 13.  , 13.25, 13.5 , 13.75,\n",
              "       14.  , 14.25, 14.5 , 14.75, 15.  , 15.25, 15.5 , 15.75, 16.  , 16.25,\n",
              "       16.5 , 16.75, 17.  , 17.25, 17.5 , 17.75, 18.  , 18.25, 18.5 , 18.75,\n",
              "       19.  , 19.25, 19.5 , 19.75, 20.  , 20.25, 20.5 , 20.75, 21.  , 21.25,\n",
              "       21.5 , 21.75, 22.  , 22.25, 22.5 , 22.75, 23.  , 23.25, 23.5 , 23.75,\n",
              "       24.  , 24.25, 24.5 , 24.75, 25.  , 25.25, 25.5 , 25.75, 26.  , 26.25,\n",
              "       26.5 , 26.75, 27.  , 27.25, 27.5 , 27.75, 28.  , 28.25, 28.5 , 28.75,\n",
              "       29.  , 29.25, 29.5 , 29.75, 30.  , 30.25, 30.5 , 30.75, 31.  , 31.25,\n",
              "       31.5 , 31.75, 32.  , 32.25, 32.5 , 32.75, 33.  , 33.25, 33.5 , 33.75,\n",
              "       34.  , 34.25, 34.5 , 34.75, 35.  , 35.25, 35.5 , 35.75, 36.  , 36.25,\n",
              "       36.5 , 36.75, 37.  , 37.25, 37.5 , 37.75, 38.  , 38.25, 38.5 ])</pre></div></li><li class='xr-var-item'><div class='xr-var-name'><span class='xr-has-index'>lon</span></div><div class='xr-var-dims'>(lon)</div><div class='xr-var-dtype'>float64</div><div class='xr-var-preview xr-preview'>66.5 66.75 67.0 ... 99.75 100.0</div><input id='attrs-a7f0cba5-bbae-4dc9-85d4-a5436bdb74b3' class='xr-var-attrs-in' type='checkbox' ><label for='attrs-a7f0cba5-bbae-4dc9-85d4-a5436bdb74b3' title='Show/Hide attributes'><svg class='icon xr-icon-file-text2'><use xlink:href='#icon-file-text2'></use></svg></label><input id='data-9c684940-e48d-40a8-91a1-f6afc947cc3a' class='xr-var-data-in' type='checkbox'><label for='data-9c684940-e48d-40a8-91a1-f6afc947cc3a' title='Show/Hide data repr'><svg class='icon xr-icon-database'><use xlink:href='#icon-database'></use></svg></label><div class='xr-var-attrs'><dl class='xr-attrs'><dt><span>axis :</span></dt><dd>X</dd><dt><span>long_name :</span></dt><dd>longitude</dd><dt><span>units :</span></dt><dd>degrees_east</dd></dl></div><div class='xr-var-data'><pre>array([ 66.5 ,  66.75,  67.  ,  67.25,  67.5 ,  67.75,  68.  ,  68.25,  68.5 ,\n",
              "        68.75,  69.  ,  69.25,  69.5 ,  69.75,  70.  ,  70.25,  70.5 ,  70.75,\n",
              "        71.  ,  71.25,  71.5 ,  71.75,  72.  ,  72.25,  72.5 ,  72.75,  73.  ,\n",
              "        73.25,  73.5 ,  73.75,  74.  ,  74.25,  74.5 ,  74.75,  75.  ,  75.25,\n",
              "        75.5 ,  75.75,  76.  ,  76.25,  76.5 ,  76.75,  77.  ,  77.25,  77.5 ,\n",
              "        77.75,  78.  ,  78.25,  78.5 ,  78.75,  79.  ,  79.25,  79.5 ,  79.75,\n",
              "        80.  ,  80.25,  80.5 ,  80.75,  81.  ,  81.25,  81.5 ,  81.75,  82.  ,\n",
              "        82.25,  82.5 ,  82.75,  83.  ,  83.25,  83.5 ,  83.75,  84.  ,  84.25,\n",
              "        84.5 ,  84.75,  85.  ,  85.25,  85.5 ,  85.75,  86.  ,  86.25,  86.5 ,\n",
              "        86.75,  87.  ,  87.25,  87.5 ,  87.75,  88.  ,  88.25,  88.5 ,  88.75,\n",
              "        89.  ,  89.25,  89.5 ,  89.75,  90.  ,  90.25,  90.5 ,  90.75,  91.  ,\n",
              "        91.25,  91.5 ,  91.75,  92.  ,  92.25,  92.5 ,  92.75,  93.  ,  93.25,\n",
              "        93.5 ,  93.75,  94.  ,  94.25,  94.5 ,  94.75,  95.  ,  95.25,  95.5 ,\n",
              "        95.75,  96.  ,  96.25,  96.5 ,  96.75,  97.  ,  97.25,  97.5 ,  97.75,\n",
              "        98.  ,  98.25,  98.5 ,  98.75,  99.  ,  99.25,  99.5 ,  99.75, 100.  ])</pre></div></li></ul></div></li><li class='xr-section-item'><input id='section-24ee53f4-50f8-45a4-9479-6134ce20fe99' class='xr-section-summary-in' type='checkbox'  checked><label for='section-24ee53f4-50f8-45a4-9479-6134ce20fe99' class='xr-section-summary' >Data variables: <span>(1)</span></label><div class='xr-section-inline-details'></div><div class='xr-section-details'><ul class='xr-var-list'><li class='xr-var-item'><div class='xr-var-name'><span>rain</span></div><div class='xr-var-dims'>(time, lat, lon)</div><div class='xr-var-dtype'>float64</div><div class='xr-var-preview xr-preview'>...</div><input id='attrs-83a424e6-fcb5-485a-9bc1-8590fd2cbc27' class='xr-var-attrs-in' type='checkbox' disabled><label for='attrs-83a424e6-fcb5-485a-9bc1-8590fd2cbc27' title='Show/Hide attributes'><svg class='icon xr-icon-file-text2'><use xlink:href='#icon-file-text2'></use></svg></label><input id='data-e9b86ece-9c26-4e1b-9d2e-239776e5e547' class='xr-var-data-in' type='checkbox'><label for='data-e9b86ece-9c26-4e1b-9d2e-239776e5e547' title='Show/Hide data repr'><svg class='icon xr-icon-database'><use xlink:href='#icon-database'></use></svg></label><div class='xr-var-attrs'><dl class='xr-attrs'></dl></div><div class='xr-var-data'><pre>[208980 values with dtype=float64]</pre></div></li></ul></div></li><li class='xr-section-item'><input id='section-7a157ed2-bba8-451e-94cd-d42a2f0d3ecd' class='xr-section-summary-in' type='checkbox' disabled ><label for='section-7a157ed2-bba8-451e-94cd-d42a2f0d3ecd' class='xr-section-summary'  title='Expand/collapse section'>Attributes: <span>(0)</span></label><div class='xr-section-inline-details'></div><div class='xr-section-details'><dl class='xr-attrs'></dl></div></li></ul></div></div>"
            ],
            "text/plain": [
              "<xarray.Dataset>\n",
              "Dimensions:  (time: 12, lat: 129, lon: 135)\n",
              "Coordinates:\n",
              "  * time     (time) datetime64[ns] 2000-01-01 2000-02-01 ... 2000-12-01\n",
              "  * lat      (lat) float64 6.5 6.75 7.0 7.25 7.5 ... 37.5 37.75 38.0 38.25 38.5\n",
              "  * lon      (lon) float64 66.5 66.75 67.0 67.25 67.5 ... 99.25 99.5 99.75 100.0\n",
              "Data variables:\n",
              "    rain     (time, lat, lon) float64 ..."
            ]
          },
          "execution_count": 18,
          "metadata": {},
          "output_type": "execute_result"
        }
      ],
      "source": [
        "filepath = r'Data/01/IMD_2000.nc'\n",
        "ds = xr.open_dataset(filepath)\n",
        "ds"
      ]
    },
    {
      "cell_type": "code",
      "execution_count": null,
      "metadata": {
        "id": "a2iZ6i0iMkB0"
      },
      "outputs": [],
      "source": [
        "ds.close()"
      ]
    },
    {
      "cell_type": "code",
      "execution_count": null,
      "metadata": {
        "colab": {
          "base_uri": "https://localhost:8080/",
          "height": 308
        },
        "id": "BDbT9pTyMaw5",
        "outputId": "9a63e25b-3044-48ee-edde-b41196c945e4"
      },
      "outputs": [
        {
          "data": {
            "text/html": [
              "<div><svg style=\"position: absolute; width: 0; height: 0; overflow: hidden\">\n",
              "<defs>\n",
              "<symbol id=\"icon-database\" viewBox=\"0 0 32 32\">\n",
              "<path d=\"M16 0c-8.837 0-16 2.239-16 5v4c0 2.761 7.163 5 16 5s16-2.239 16-5v-4c0-2.761-7.163-5-16-5z\"></path>\n",
              "<path d=\"M16 17c-8.837 0-16-2.239-16-5v6c0 2.761 7.163 5 16 5s16-2.239 16-5v-6c0 2.761-7.163 5-16 5z\"></path>\n",
              "<path d=\"M16 26c-8.837 0-16-2.239-16-5v6c0 2.761 7.163 5 16 5s16-2.239 16-5v-6c0 2.761-7.163 5-16 5z\"></path>\n",
              "</symbol>\n",
              "<symbol id=\"icon-file-text2\" viewBox=\"0 0 32 32\">\n",
              "<path d=\"M28.681 7.159c-0.694-0.947-1.662-2.053-2.724-3.116s-2.169-2.030-3.116-2.724c-1.612-1.182-2.393-1.319-2.841-1.319h-15.5c-1.378 0-2.5 1.121-2.5 2.5v27c0 1.378 1.122 2.5 2.5 2.5h23c1.378 0 2.5-1.122 2.5-2.5v-19.5c0-0.448-0.137-1.23-1.319-2.841zM24.543 5.457c0.959 0.959 1.712 1.825 2.268 2.543h-4.811v-4.811c0.718 0.556 1.584 1.309 2.543 2.268zM28 29.5c0 0.271-0.229 0.5-0.5 0.5h-23c-0.271 0-0.5-0.229-0.5-0.5v-27c0-0.271 0.229-0.5 0.5-0.5 0 0 15.499-0 15.5 0v7c0 0.552 0.448 1 1 1h7v19.5z\"></path>\n",
              "<path d=\"M23 26h-14c-0.552 0-1-0.448-1-1s0.448-1 1-1h14c0.552 0 1 0.448 1 1s-0.448 1-1 1z\"></path>\n",
              "<path d=\"M23 22h-14c-0.552 0-1-0.448-1-1s0.448-1 1-1h14c0.552 0 1 0.448 1 1s-0.448 1-1 1z\"></path>\n",
              "<path d=\"M23 18h-14c-0.552 0-1-0.448-1-1s0.448-1 1-1h14c0.552 0 1 0.448 1 1s-0.448 1-1 1z\"></path>\n",
              "</symbol>\n",
              "</defs>\n",
              "</svg>\n",
              "<style>/* CSS stylesheet for displaying xarray objects in jupyterlab.\n",
              " *\n",
              " */\n",
              "\n",
              ":root {\n",
              "  --xr-font-color0: var(--jp-content-font-color0, rgba(0, 0, 0, 1));\n",
              "  --xr-font-color2: var(--jp-content-font-color2, rgba(0, 0, 0, 0.54));\n",
              "  --xr-font-color3: var(--jp-content-font-color3, rgba(0, 0, 0, 0.38));\n",
              "  --xr-border-color: var(--jp-border-color2, #e0e0e0);\n",
              "  --xr-disabled-color: var(--jp-layout-color3, #bdbdbd);\n",
              "  --xr-background-color: var(--jp-layout-color0, white);\n",
              "  --xr-background-color-row-even: var(--jp-layout-color1, white);\n",
              "  --xr-background-color-row-odd: var(--jp-layout-color2, #eeeeee);\n",
              "}\n",
              "\n",
              "html[theme=dark],\n",
              "body.vscode-dark {\n",
              "  --xr-font-color0: rgba(255, 255, 255, 1);\n",
              "  --xr-font-color2: rgba(255, 255, 255, 0.54);\n",
              "  --xr-font-color3: rgba(255, 255, 255, 0.38);\n",
              "  --xr-border-color: #1F1F1F;\n",
              "  --xr-disabled-color: #515151;\n",
              "  --xr-background-color: #111111;\n",
              "  --xr-background-color-row-even: #111111;\n",
              "  --xr-background-color-row-odd: #313131;\n",
              "}\n",
              "\n",
              ".xr-wrap {\n",
              "  display: block !important;\n",
              "  min-width: 300px;\n",
              "  max-width: 700px;\n",
              "}\n",
              "\n",
              ".xr-text-repr-fallback {\n",
              "  /* fallback to plain text repr when CSS is not injected (untrusted notebook) */\n",
              "  display: none;\n",
              "}\n",
              "\n",
              ".xr-header {\n",
              "  padding-top: 6px;\n",
              "  padding-bottom: 6px;\n",
              "  margin-bottom: 4px;\n",
              "  border-bottom: solid 1px var(--xr-border-color);\n",
              "}\n",
              "\n",
              ".xr-header > div,\n",
              ".xr-header > ul {\n",
              "  display: inline;\n",
              "  margin-top: 0;\n",
              "  margin-bottom: 0;\n",
              "}\n",
              "\n",
              ".xr-obj-type,\n",
              ".xr-array-name {\n",
              "  margin-left: 2px;\n",
              "  margin-right: 10px;\n",
              "}\n",
              "\n",
              ".xr-obj-type {\n",
              "  color: var(--xr-font-color2);\n",
              "}\n",
              "\n",
              ".xr-sections {\n",
              "  padding-left: 0 !important;\n",
              "  display: grid;\n",
              "  grid-template-columns: 150px auto auto 1fr 20px 20px;\n",
              "}\n",
              "\n",
              ".xr-section-item {\n",
              "  display: contents;\n",
              "}\n",
              "\n",
              ".xr-section-item input {\n",
              "  display: none;\n",
              "}\n",
              "\n",
              ".xr-section-item input + label {\n",
              "  color: var(--xr-disabled-color);\n",
              "}\n",
              "\n",
              ".xr-section-item input:enabled + label {\n",
              "  cursor: pointer;\n",
              "  color: var(--xr-font-color2);\n",
              "}\n",
              "\n",
              ".xr-section-item input:enabled + label:hover {\n",
              "  color: var(--xr-font-color0);\n",
              "}\n",
              "\n",
              ".xr-section-summary {\n",
              "  grid-column: 1;\n",
              "  color: var(--xr-font-color2);\n",
              "  font-weight: 500;\n",
              "}\n",
              "\n",
              ".xr-section-summary > span {\n",
              "  display: inline-block;\n",
              "  padding-left: 0.5em;\n",
              "}\n",
              "\n",
              ".xr-section-summary-in:disabled + label {\n",
              "  color: var(--xr-font-color2);\n",
              "}\n",
              "\n",
              ".xr-section-summary-in + label:before {\n",
              "  display: inline-block;\n",
              "  content: '►';\n",
              "  font-size: 11px;\n",
              "  width: 15px;\n",
              "  text-align: center;\n",
              "}\n",
              "\n",
              ".xr-section-summary-in:disabled + label:before {\n",
              "  color: var(--xr-disabled-color);\n",
              "}\n",
              "\n",
              ".xr-section-summary-in:checked + label:before {\n",
              "  content: '▼';\n",
              "}\n",
              "\n",
              ".xr-section-summary-in:checked + label > span {\n",
              "  display: none;\n",
              "}\n",
              "\n",
              ".xr-section-summary,\n",
              ".xr-section-inline-details {\n",
              "  padding-top: 4px;\n",
              "  padding-bottom: 4px;\n",
              "}\n",
              "\n",
              ".xr-section-inline-details {\n",
              "  grid-column: 2 / -1;\n",
              "}\n",
              "\n",
              ".xr-section-details {\n",
              "  display: none;\n",
              "  grid-column: 1 / -1;\n",
              "  margin-bottom: 5px;\n",
              "}\n",
              "\n",
              ".xr-section-summary-in:checked ~ .xr-section-details {\n",
              "  display: contents;\n",
              "}\n",
              "\n",
              ".xr-array-wrap {\n",
              "  grid-column: 1 / -1;\n",
              "  display: grid;\n",
              "  grid-template-columns: 20px auto;\n",
              "}\n",
              "\n",
              ".xr-array-wrap > label {\n",
              "  grid-column: 1;\n",
              "  vertical-align: top;\n",
              "}\n",
              "\n",
              ".xr-preview {\n",
              "  color: var(--xr-font-color3);\n",
              "}\n",
              "\n",
              ".xr-array-preview,\n",
              ".xr-array-data {\n",
              "  padding: 0 5px !important;\n",
              "  grid-column: 2;\n",
              "}\n",
              "\n",
              ".xr-array-data,\n",
              ".xr-array-in:checked ~ .xr-array-preview {\n",
              "  display: none;\n",
              "}\n",
              "\n",
              ".xr-array-in:checked ~ .xr-array-data,\n",
              ".xr-array-preview {\n",
              "  display: inline-block;\n",
              "}\n",
              "\n",
              ".xr-dim-list {\n",
              "  display: inline-block !important;\n",
              "  list-style: none;\n",
              "  padding: 0 !important;\n",
              "  margin: 0;\n",
              "}\n",
              "\n",
              ".xr-dim-list li {\n",
              "  display: inline-block;\n",
              "  padding: 0;\n",
              "  margin: 0;\n",
              "}\n",
              "\n",
              ".xr-dim-list:before {\n",
              "  content: '(';\n",
              "}\n",
              "\n",
              ".xr-dim-list:after {\n",
              "  content: ')';\n",
              "}\n",
              "\n",
              ".xr-dim-list li:not(:last-child):after {\n",
              "  content: ',';\n",
              "  padding-right: 5px;\n",
              "}\n",
              "\n",
              ".xr-has-index {\n",
              "  font-weight: bold;\n",
              "}\n",
              "\n",
              ".xr-var-list,\n",
              ".xr-var-item {\n",
              "  display: contents;\n",
              "}\n",
              "\n",
              ".xr-var-item > div,\n",
              ".xr-var-item label,\n",
              ".xr-var-item > .xr-var-name span {\n",
              "  background-color: var(--xr-background-color-row-even);\n",
              "  margin-bottom: 0;\n",
              "}\n",
              "\n",
              ".xr-var-item > .xr-var-name:hover span {\n",
              "  padding-right: 5px;\n",
              "}\n",
              "\n",
              ".xr-var-list > li:nth-child(odd) > div,\n",
              ".xr-var-list > li:nth-child(odd) > label,\n",
              ".xr-var-list > li:nth-child(odd) > .xr-var-name span {\n",
              "  background-color: var(--xr-background-color-row-odd);\n",
              "}\n",
              "\n",
              ".xr-var-name {\n",
              "  grid-column: 1;\n",
              "}\n",
              "\n",
              ".xr-var-dims {\n",
              "  grid-column: 2;\n",
              "}\n",
              "\n",
              ".xr-var-dtype {\n",
              "  grid-column: 3;\n",
              "  text-align: right;\n",
              "  color: var(--xr-font-color2);\n",
              "}\n",
              "\n",
              ".xr-var-preview {\n",
              "  grid-column: 4;\n",
              "}\n",
              "\n",
              ".xr-var-name,\n",
              ".xr-var-dims,\n",
              ".xr-var-dtype,\n",
              ".xr-preview,\n",
              ".xr-attrs dt {\n",
              "  white-space: nowrap;\n",
              "  overflow: hidden;\n",
              "  text-overflow: ellipsis;\n",
              "  padding-right: 10px;\n",
              "}\n",
              "\n",
              ".xr-var-name:hover,\n",
              ".xr-var-dims:hover,\n",
              ".xr-var-dtype:hover,\n",
              ".xr-attrs dt:hover {\n",
              "  overflow: visible;\n",
              "  width: auto;\n",
              "  z-index: 1;\n",
              "}\n",
              "\n",
              ".xr-var-attrs,\n",
              ".xr-var-data {\n",
              "  display: none;\n",
              "  background-color: var(--xr-background-color) !important;\n",
              "  padding-bottom: 5px !important;\n",
              "}\n",
              "\n",
              ".xr-var-attrs-in:checked ~ .xr-var-attrs,\n",
              ".xr-var-data-in:checked ~ .xr-var-data {\n",
              "  display: block;\n",
              "}\n",
              "\n",
              ".xr-var-data > table {\n",
              "  float: right;\n",
              "}\n",
              "\n",
              ".xr-var-name span,\n",
              ".xr-var-data,\n",
              ".xr-attrs {\n",
              "  padding-left: 25px !important;\n",
              "}\n",
              "\n",
              ".xr-attrs,\n",
              ".xr-var-attrs,\n",
              ".xr-var-data {\n",
              "  grid-column: 1 / -1;\n",
              "}\n",
              "\n",
              "dl.xr-attrs {\n",
              "  padding: 0;\n",
              "  margin: 0;\n",
              "  display: grid;\n",
              "  grid-template-columns: 125px auto;\n",
              "}\n",
              "\n",
              ".xr-attrs dt,\n",
              ".xr-attrs dd {\n",
              "  padding: 0;\n",
              "  margin: 0;\n",
              "  float: left;\n",
              "  padding-right: 10px;\n",
              "  width: auto;\n",
              "}\n",
              "\n",
              ".xr-attrs dt {\n",
              "  font-weight: normal;\n",
              "  grid-column: 1;\n",
              "}\n",
              "\n",
              ".xr-attrs dt:hover span {\n",
              "  display: inline-block;\n",
              "  background: var(--xr-background-color);\n",
              "  padding-right: 10px;\n",
              "}\n",
              "\n",
              ".xr-attrs dd {\n",
              "  grid-column: 2;\n",
              "  white-space: pre-wrap;\n",
              "  word-break: break-all;\n",
              "}\n",
              "\n",
              ".xr-icon-database,\n",
              ".xr-icon-file-text2 {\n",
              "  display: inline-block;\n",
              "  vertical-align: middle;\n",
              "  width: 1em;\n",
              "  height: 1.5em !important;\n",
              "  stroke-width: 0;\n",
              "  stroke: currentColor;\n",
              "  fill: currentColor;\n",
              "}\n",
              "</style><pre class='xr-text-repr-fallback'>&lt;xarray.Dataset&gt;\n",
              "Dimensions:    (time: 2190, bnds: 2, lat: 12, lon: 12)\n",
              "Coordinates:\n",
              "  * time       (time) datetime64[ns] 2000-01-01T12:00:00 ... 2005-12-31T12:00:00\n",
              "  * lat        (lat) float64 6.977 9.767 12.56 15.35 ... 29.3 32.09 34.88 37.67\n",
              "  * lon        (lon) float64 67.5 70.31 73.12 75.94 ... 90.0 92.81 95.62 98.44\n",
              "Dimensions without coordinates: bnds\n",
              "Data variables:\n",
              "    time_bnds  (time, bnds) datetime64[ns] 2000-01-01 2000-01-02 ... 2006-01-01\n",
              "    lat_bnds   (lat, bnds) float64 5.582 8.373 8.373 11.16 ... 36.28 36.28 39.07\n",
              "    lon_bnds   (lon, bnds) float64 66.09 68.91 68.91 71.72 ... 97.03 97.03 99.84\n",
              "    pr         (time, lat, lon) float32 ...\n",
              "Attributes: (12/27)\n",
              "    institution:            JAMSTEC (Japan Agency for Marine-Earth Science an...\n",
              "    institute_id:           MIROC\n",
              "    experiment_id:          historical\n",
              "    source:                 MIROC-ESM 2010 atmosphere: MIROC-AGCM (MIROC-AGCM...\n",
              "    model_id:               MIROC-ESM\n",
              "    forcing:                GHG, SA, Oz, LU, Sl, Vl, MD, BC, OC\n",
              "    ...                     ...\n",
              "    table_id:               Table day (26 July 2011) f21c16b785432e6bd3f72e80...\n",
              "    title:                  MIROC-ESM model output prepared for CMIP5 historical\n",
              "    parent_experiment:      pre-industrial control\n",
              "    modeling_realm:         atmos\n",
              "    realization:            1\n",
              "    cmor_version:           2.7.1</pre><div class='xr-wrap' style='display:none'><div class='xr-header'><div class='xr-obj-type'>xarray.Dataset</div></div><ul class='xr-sections'><li class='xr-section-item'><input id='section-64686a7a-68db-4ae0-ab42-8246f4997d61' class='xr-section-summary-in' type='checkbox' disabled ><label for='section-64686a7a-68db-4ae0-ab42-8246f4997d61' class='xr-section-summary'  title='Expand/collapse section'>Dimensions:</label><div class='xr-section-inline-details'><ul class='xr-dim-list'><li><span class='xr-has-index'>time</span>: 2190</li><li><span>bnds</span>: 2</li><li><span class='xr-has-index'>lat</span>: 12</li><li><span class='xr-has-index'>lon</span>: 12</li></ul></div><div class='xr-section-details'></div></li><li class='xr-section-item'><input id='section-52c52a6e-f94e-4a04-af8c-e82208a419a7' class='xr-section-summary-in' type='checkbox'  checked><label for='section-52c52a6e-f94e-4a04-af8c-e82208a419a7' class='xr-section-summary' >Coordinates: <span>(3)</span></label><div class='xr-section-inline-details'></div><div class='xr-section-details'><ul class='xr-var-list'><li class='xr-var-item'><div class='xr-var-name'><span class='xr-has-index'>time</span></div><div class='xr-var-dims'>(time)</div><div class='xr-var-dtype'>datetime64[ns]</div><div class='xr-var-preview xr-preview'>2000-01-01T12:00:00 ... 2005-12-...</div><input id='attrs-b0acce48-437f-4d9f-8b1b-ad48b00b7605' class='xr-var-attrs-in' type='checkbox' ><label for='attrs-b0acce48-437f-4d9f-8b1b-ad48b00b7605' title='Show/Hide attributes'><svg class='icon xr-icon-file-text2'><use xlink:href='#icon-file-text2'></use></svg></label><input id='data-f57c63bc-eef2-4319-8873-b9e58fdf4e11' class='xr-var-data-in' type='checkbox'><label for='data-f57c63bc-eef2-4319-8873-b9e58fdf4e11' title='Show/Hide data repr'><svg class='icon xr-icon-database'><use xlink:href='#icon-database'></use></svg></label><div class='xr-var-attrs'><dl class='xr-attrs'><dt><span>bounds :</span></dt><dd>time_bnds</dd><dt><span>axis :</span></dt><dd>T</dd><dt><span>long_name :</span></dt><dd>time</dd><dt><span>standard_name :</span></dt><dd>time</dd></dl></div><div class='xr-var-data'><pre>array([&#x27;2000-01-01T12:00:00.000000000&#x27;, &#x27;2000-01-02T12:00:00.000000000&#x27;,\n",
              "       &#x27;2000-01-03T12:00:00.000000000&#x27;, ..., &#x27;2005-12-29T12:00:00.000000000&#x27;,\n",
              "       &#x27;2005-12-30T12:00:00.000000000&#x27;, &#x27;2005-12-31T12:00:00.000000000&#x27;],\n",
              "      dtype=&#x27;datetime64[ns]&#x27;)</pre></div></li><li class='xr-var-item'><div class='xr-var-name'><span class='xr-has-index'>lat</span></div><div class='xr-var-dims'>(lat)</div><div class='xr-var-dtype'>float64</div><div class='xr-var-preview xr-preview'>6.977 9.767 12.56 ... 34.88 37.67</div><input id='attrs-dcc6a5ab-48a7-44b6-b906-a706054fc150' class='xr-var-attrs-in' type='checkbox' ><label for='attrs-dcc6a5ab-48a7-44b6-b906-a706054fc150' title='Show/Hide attributes'><svg class='icon xr-icon-file-text2'><use xlink:href='#icon-file-text2'></use></svg></label><input id='data-7cb3c36f-f976-4305-883c-910736e56072' class='xr-var-data-in' type='checkbox'><label for='data-7cb3c36f-f976-4305-883c-910736e56072' title='Show/Hide data repr'><svg class='icon xr-icon-database'><use xlink:href='#icon-database'></use></svg></label><div class='xr-var-attrs'><dl class='xr-attrs'><dt><span>bounds :</span></dt><dd>lat_bnds</dd><dt><span>units :</span></dt><dd>degrees_north</dd><dt><span>axis :</span></dt><dd>Y</dd><dt><span>long_name :</span></dt><dd>latitude</dd><dt><span>standard_name :</span></dt><dd>latitude</dd></dl></div><div class='xr-var-data'><pre>array([ 6.976534,  9.767146, 12.557756, 15.348365, 18.138971, 20.929574,\n",
              "       23.720174, 26.510769, 29.30136 , 32.091944, 34.882521, 37.67309 ])</pre></div></li><li class='xr-var-item'><div class='xr-var-name'><span class='xr-has-index'>lon</span></div><div class='xr-var-dims'>(lon)</div><div class='xr-var-dtype'>float64</div><div class='xr-var-preview xr-preview'>67.5 70.31 73.12 ... 95.62 98.44</div><input id='attrs-1fb3bf20-1499-4fe1-921d-3f73057f1afe' class='xr-var-attrs-in' type='checkbox' ><label for='attrs-1fb3bf20-1499-4fe1-921d-3f73057f1afe' title='Show/Hide attributes'><svg class='icon xr-icon-file-text2'><use xlink:href='#icon-file-text2'></use></svg></label><input id='data-bc79a08e-bd07-424f-9395-d28c97b04f66' class='xr-var-data-in' type='checkbox'><label for='data-bc79a08e-bd07-424f-9395-d28c97b04f66' title='Show/Hide data repr'><svg class='icon xr-icon-database'><use xlink:href='#icon-database'></use></svg></label><div class='xr-var-attrs'><dl class='xr-attrs'><dt><span>bounds :</span></dt><dd>lon_bnds</dd><dt><span>units :</span></dt><dd>degrees_east</dd><dt><span>axis :</span></dt><dd>X</dd><dt><span>long_name :</span></dt><dd>longitude</dd><dt><span>standard_name :</span></dt><dd>longitude</dd></dl></div><div class='xr-var-data'><pre>array([67.5   , 70.3125, 73.125 , 75.9375, 78.75  , 81.5625, 84.375 , 87.1875,\n",
              "       90.    , 92.8125, 95.625 , 98.4375])</pre></div></li></ul></div></li><li class='xr-section-item'><input id='section-160d602c-c79f-44eb-a005-fd0dc162006c' class='xr-section-summary-in' type='checkbox'  checked><label for='section-160d602c-c79f-44eb-a005-fd0dc162006c' class='xr-section-summary' >Data variables: <span>(4)</span></label><div class='xr-section-inline-details'></div><div class='xr-section-details'><ul class='xr-var-list'><li class='xr-var-item'><div class='xr-var-name'><span>time_bnds</span></div><div class='xr-var-dims'>(time, bnds)</div><div class='xr-var-dtype'>datetime64[ns]</div><div class='xr-var-preview xr-preview'>...</div><input id='attrs-25f47238-fb81-4e39-9896-019c86d283b6' class='xr-var-attrs-in' type='checkbox' disabled><label for='attrs-25f47238-fb81-4e39-9896-019c86d283b6' title='Show/Hide attributes'><svg class='icon xr-icon-file-text2'><use xlink:href='#icon-file-text2'></use></svg></label><input id='data-f4d286d2-6561-4db9-a3d3-6696ab107e3e' class='xr-var-data-in' type='checkbox'><label for='data-f4d286d2-6561-4db9-a3d3-6696ab107e3e' title='Show/Hide data repr'><svg class='icon xr-icon-database'><use xlink:href='#icon-database'></use></svg></label><div class='xr-var-attrs'><dl class='xr-attrs'></dl></div><div class='xr-var-data'><pre>array([[&#x27;2000-01-01T00:00:00.000000000&#x27;, &#x27;2000-01-02T00:00:00.000000000&#x27;],\n",
              "       [&#x27;2000-01-02T00:00:00.000000000&#x27;, &#x27;2000-01-03T00:00:00.000000000&#x27;],\n",
              "       [&#x27;2000-01-03T00:00:00.000000000&#x27;, &#x27;2000-01-04T00:00:00.000000000&#x27;],\n",
              "       ...,\n",
              "       [&#x27;2005-12-29T00:00:00.000000000&#x27;, &#x27;2005-12-30T00:00:00.000000000&#x27;],\n",
              "       [&#x27;2005-12-30T00:00:00.000000000&#x27;, &#x27;2005-12-31T00:00:00.000000000&#x27;],\n",
              "       [&#x27;2005-12-31T00:00:00.000000000&#x27;, &#x27;2006-01-01T00:00:00.000000000&#x27;]],\n",
              "      dtype=&#x27;datetime64[ns]&#x27;)</pre></div></li><li class='xr-var-item'><div class='xr-var-name'><span>lat_bnds</span></div><div class='xr-var-dims'>(lat, bnds)</div><div class='xr-var-dtype'>float64</div><div class='xr-var-preview xr-preview'>...</div><input id='attrs-0fc30d8a-577d-4c64-840a-ef5dd44ca853' class='xr-var-attrs-in' type='checkbox' disabled><label for='attrs-0fc30d8a-577d-4c64-840a-ef5dd44ca853' title='Show/Hide attributes'><svg class='icon xr-icon-file-text2'><use xlink:href='#icon-file-text2'></use></svg></label><input id='data-94b67fb1-161a-45af-b5cc-5c1dc336b037' class='xr-var-data-in' type='checkbox'><label for='data-94b67fb1-161a-45af-b5cc-5c1dc336b037' title='Show/Hide data repr'><svg class='icon xr-icon-database'><use xlink:href='#icon-database'></use></svg></label><div class='xr-var-attrs'><dl class='xr-attrs'></dl></div><div class='xr-var-data'><pre>array([[ 5.581781,  8.372673],\n",
              "       [ 8.372673, 11.163569],\n",
              "       [11.163569, 13.954468],\n",
              "       [13.954468, 16.745372],\n",
              "       [16.745372, 19.536283],\n",
              "       [19.536283, 22.3272  ],\n",
              "       [22.3272  , 25.118127],\n",
              "       [25.118127, 27.909065],\n",
              "       [27.909065, 30.700015],\n",
              "       [30.700015, 33.490981],\n",
              "       [33.490981, 36.281964],\n",
              "       [36.281964, 39.072968]])</pre></div></li><li class='xr-var-item'><div class='xr-var-name'><span>lon_bnds</span></div><div class='xr-var-dims'>(lon, bnds)</div><div class='xr-var-dtype'>float64</div><div class='xr-var-preview xr-preview'>...</div><input id='attrs-0c1aa6a3-49c7-4ae9-9c40-4904e9784163' class='xr-var-attrs-in' type='checkbox' disabled><label for='attrs-0c1aa6a3-49c7-4ae9-9c40-4904e9784163' title='Show/Hide attributes'><svg class='icon xr-icon-file-text2'><use xlink:href='#icon-file-text2'></use></svg></label><input id='data-eb079694-f6d4-47b9-9f6f-58ce474d6ef0' class='xr-var-data-in' type='checkbox'><label for='data-eb079694-f6d4-47b9-9f6f-58ce474d6ef0' title='Show/Hide data repr'><svg class='icon xr-icon-database'><use xlink:href='#icon-database'></use></svg></label><div class='xr-var-attrs'><dl class='xr-attrs'></dl></div><div class='xr-var-data'><pre>array([[66.09375, 68.90625],\n",
              "       [68.90625, 71.71875],\n",
              "       [71.71875, 74.53125],\n",
              "       [74.53125, 77.34375],\n",
              "       [77.34375, 80.15625],\n",
              "       [80.15625, 82.96875],\n",
              "       [82.96875, 85.78125],\n",
              "       [85.78125, 88.59375],\n",
              "       [88.59375, 91.40625],\n",
              "       [91.40625, 94.21875],\n",
              "       [94.21875, 97.03125],\n",
              "       [97.03125, 99.84375]])</pre></div></li><li class='xr-var-item'><div class='xr-var-name'><span>pr</span></div><div class='xr-var-dims'>(time, lat, lon)</div><div class='xr-var-dtype'>float32</div><div class='xr-var-preview xr-preview'>...</div><input id='attrs-5a3cfaff-be92-41d9-9f5d-0cd3a003b33c' class='xr-var-attrs-in' type='checkbox' ><label for='attrs-5a3cfaff-be92-41d9-9f5d-0cd3a003b33c' title='Show/Hide attributes'><svg class='icon xr-icon-file-text2'><use xlink:href='#icon-file-text2'></use></svg></label><input id='data-7ad55e13-0ebc-4b9d-bed7-94cd032355aa' class='xr-var-data-in' type='checkbox'><label for='data-7ad55e13-0ebc-4b9d-bed7-94cd032355aa' title='Show/Hide data repr'><svg class='icon xr-icon-database'><use xlink:href='#icon-database'></use></svg></label><div class='xr-var-attrs'><dl class='xr-attrs'><dt><span>standard_name :</span></dt><dd>precipitation_flux</dd><dt><span>long_name :</span></dt><dd>Precipitation</dd><dt><span>comment :</span></dt><dd>at surface; includes both liquid and solid phases from all types of clouds (both large-scale and convective)</dd><dt><span>units :</span></dt><dd>kg m-2 s-1</dd><dt><span>original_name :</span></dt><dd>PRCP</dd><dt><span>original_units :</span></dt><dd>kg/m**2/s</dd><dt><span>history :</span></dt><dd>2011-10-04T11:32:54Z altered by CMOR: Converted units from &#x27;kg/m**2/s&#x27; to &#x27;kg m-2 s-1&#x27;. 2011-10-04T11:32:54Z altered by CMOR: replaced missing value flag (-999) with standard missing value (1e+20). 2011-10-04T11:32:55Z altered by CMOR: Inverted axis: lat.</dd><dt><span>cell_methods :</span></dt><dd>time: mean</dd><dt><span>cell_measures :</span></dt><dd>area: areacella</dd><dt><span>associated_files :</span></dt><dd>baseURL: http://cmip-pcmdi.llnl.gov/CMIP5/dataLocation gridspecFile: gridspec_atmos_fx_MIROC-ESM_historical_r0i0p0.nc areacella: areacella_fx_MIROC-ESM_historical_r0i0p0.nc</dd></dl></div><div class='xr-var-data'><pre>[315360 values with dtype=float32]</pre></div></li></ul></div></li><li class='xr-section-item'><input id='section-7eadc6a9-f37e-49e9-b3a9-7e3b9f3d362e' class='xr-section-summary-in' type='checkbox'  ><label for='section-7eadc6a9-f37e-49e9-b3a9-7e3b9f3d362e' class='xr-section-summary' >Attributes: <span>(27)</span></label><div class='xr-section-inline-details'></div><div class='xr-section-details'><dl class='xr-attrs'><dt><span>institution :</span></dt><dd>JAMSTEC (Japan Agency for Marine-Earth Science and Technology, Kanagawa, Japan), AORI (Atmosphere and Ocean Research Institute, The University of Tokyo, Chiba, Japan), and NIES (National Institute for Environmental Studies, Ibaraki, Japan)</dd><dt><span>institute_id :</span></dt><dd>MIROC</dd><dt><span>experiment_id :</span></dt><dd>historical</dd><dt><span>source :</span></dt><dd>MIROC-ESM 2010 atmosphere: MIROC-AGCM (MIROC-AGCM 2010, T42L80); ocean: COCO (COCO3.4, 256x192 L44); sea ice: COCO (COCO3.4); land: MATSIRO (MATSIRO, L6); aerosols: SPRINTARS (SPRINTARS 5.00, T42L80):ocean-biogeochemistry: NPZD ; land-biogeochemistry: SEIB-DGVM (SEIB-DGVM, T42)</dd><dt><span>model_id :</span></dt><dd>MIROC-ESM</dd><dt><span>forcing :</span></dt><dd>GHG, SA, Oz, LU, Sl, Vl, MD, BC, OC</dd><dt><span>parent_experiment_id :</span></dt><dd>piControl</dd><dt><span>parent_experiment_rip :</span></dt><dd>r1i1p1</dd><dt><span>branch_time :</span></dt><dd>29219.0</dd><dt><span>contact :</span></dt><dd>Michio Kawamiya (kawamiya@jamstec.go.jp) and Toru Nozawa (nozawa@nies.go.jp)</dd><dt><span>references :</span></dt><dd>Watanabe et al., : MIROC-ESM: model description and basic results of CMIP5-20c3m experiments, Geosci. Model Dev. Discuss., 4, 1063-1128, doi:10.5194/gmdd-4-1063-2011, 2011.</dd><dt><span>initialization_method :</span></dt><dd>1</dd><dt><span>physics_version :</span></dt><dd>1</dd><dt><span>tracking_id :</span></dt><dd>35ce430e-dfd4-457b-bfc6-421eff466148</dd><dt><span>product :</span></dt><dd>output</dd><dt><span>experiment :</span></dt><dd>historical</dd><dt><span>frequency :</span></dt><dd>day</dd><dt><span>creation_date :</span></dt><dd>2011-10-04T11:32:55Z</dd><dt><span>history :</span></dt><dd>2011-10-04T11:32:55Z CMOR rewrote data to comply with CF standards and CMIP5 requirements.</dd><dt><span>Conventions :</span></dt><dd>CF-1.4</dd><dt><span>project_id :</span></dt><dd>CMIP5</dd><dt><span>table_id :</span></dt><dd>Table day (26 July 2011) f21c16b785432e6bd3f72e80f2cade49</dd><dt><span>title :</span></dt><dd>MIROC-ESM model output prepared for CMIP5 historical</dd><dt><span>parent_experiment :</span></dt><dd>pre-industrial control</dd><dt><span>modeling_realm :</span></dt><dd>atmos</dd><dt><span>realization :</span></dt><dd>1</dd><dt><span>cmor_version :</span></dt><dd>2.7.1</dd></dl></div></li></ul></div></div>"
            ],
            "text/plain": [
              "<xarray.Dataset>\n",
              "Dimensions:    (time: 2190, bnds: 2, lat: 12, lon: 12)\n",
              "Coordinates:\n",
              "  * time       (time) datetime64[ns] 2000-01-01T12:00:00 ... 2005-12-31T12:00:00\n",
              "  * lat        (lat) float64 6.977 9.767 12.56 15.35 ... 29.3 32.09 34.88 37.67\n",
              "  * lon        (lon) float64 67.5 70.31 73.12 75.94 ... 90.0 92.81 95.62 98.44\n",
              "Dimensions without coordinates: bnds\n",
              "Data variables:\n",
              "    time_bnds  (time, bnds) datetime64[ns] ...\n",
              "    lat_bnds   (lat, bnds) float64 ...\n",
              "    lon_bnds   (lon, bnds) float64 ...\n",
              "    pr         (time, lat, lon) float32 ...\n",
              "Attributes: (12/27)\n",
              "    institution:            JAMSTEC (Japan Agency for Marine-Earth Science an...\n",
              "    institute_id:           MIROC\n",
              "    experiment_id:          historical\n",
              "    source:                 MIROC-ESM 2010 atmosphere: MIROC-AGCM (MIROC-AGCM...\n",
              "    model_id:               MIROC-ESM\n",
              "    forcing:                GHG, SA, Oz, LU, Sl, Vl, MD, BC, OC\n",
              "    ...                     ...\n",
              "    table_id:               Table day (26 July 2011) f21c16b785432e6bd3f72e80...\n",
              "    title:                  MIROC-ESM model output prepared for CMIP5 historical\n",
              "    parent_experiment:      pre-industrial control\n",
              "    modeling_realm:         atmos\n",
              "    realization:            1\n",
              "    cmor_version:           2.7.1"
            ]
          },
          "execution_count": 20,
          "metadata": {},
          "output_type": "execute_result"
        }
      ],
      "source": [
        "filepath = r'Data/01/MIROC-ESM.nc'\n",
        "ds = xr.open_dataset(filepath)\n",
        "ds"
      ]
    },
    {
      "cell_type": "code",
      "execution_count": null,
      "metadata": {
        "colab": {
          "base_uri": "https://localhost:8080/",
          "height": 335
        },
        "id": "FYO0-MKQKKey",
        "outputId": "04737b06-6b93-4539-fe9b-c04a0e402b39"
      },
      "outputs": [
        {
          "data": {
            "text/plain": [
              "<matplotlib.axes._subplots.AxesSubplot at 0x7fde68965e50>"
            ]
          },
          "execution_count": 21,
          "metadata": {},
          "output_type": "execute_result"
        },
        {
          "data": {
            "image/png": "[encoded data removed]",
            "text/plain": [
              "<Figure size 360x360 with 2 Axes>"
            ]
          },
          "metadata": {
            "needs_background": "light"
          },
          "output_type": "display_data"
        }
      ],
      "source": [
        "fig, ax = plt.subplots(1,1, figsize=(5,5))\n",
        "ds['pr'][0,:,:].plot(cmap = 'rainbow', ax = ax, vmin = np.min(ds['pr'][0,:,:].values), vmax = np.max(ds['pr'][0,:,:].values))\n",
        "map_df.plot(edgecolor=\"black\", facecolor=\"None\", ax = ax, linewidth = 0.1)"
      ]
    },
    {
      "cell_type": "code",
      "execution_count": null,
      "metadata": {
        "colab": {
          "base_uri": "https://localhost:8080/"
        },
        "id": "DCrxPaNZMXAb",
        "outputId": "8db553c5-f79c-4d45-a74b-b2a24410c9db"
      },
      "outputs": [
        {
          "name": "stdout",
          "output_type": "stream",
          "text": [
            "0.25 0.25\n",
            "129 135\n"
          ]
        }
      ],
      "source": [
        "projection_dimension = [129, 135]\n",
        "lat_bnds, lon_bnds = [6.5, 38.5], [66.5, 100]\n",
        "lat_lst = np.linspace(lat_bnds[0], lat_bnds[1], projection_dimension[0])\n",
        "lon_lst = np.linspace(lon_bnds[0], lon_bnds[1], projection_dimension[1])\n",
        "print(lat_lst[1]-lat_lst[0], lon_lst[1]-lon_lst[0])\n",
        "print(len(lat_lst), len(lon_lst))"
      ]
    },
    {
      "cell_type": "code",
      "execution_count": null,
      "metadata": {
        "colab": {
          "base_uri": "https://localhost:8080/",
          "height": 331
        },
        "id": "YECqtA9oMuRX",
        "outputId": "bae59ec9-6556-46d9-967d-b39e303fcbbc"
      },
      "outputs": [
        {
          "data": {
            "text/plain": [
              "<matplotlib.axes._subplots.AxesSubplot at 0x7fde688a7650>"
            ]
          },
          "execution_count": 23,
          "metadata": {},
          "output_type": "execute_result"
        },
        {
          "data": {
            "image/png": "[encoded data removed]",
            "text/plain": [
              "<Figure size 360x360 with 2 Axes>"
            ]
          },
          "metadata": {
            "needs_background": "light"
          },
          "output_type": "display_data"
        }
      ],
      "source": [
        "fig, ax = plt.subplots(1,1, figsize=(5,5))\n",
        "ds1 = ds.interp(lat = lat_lst, lon = lon_lst)\n",
        "ds1['pr'][0,:,:].plot(cmap = 'rainbow', ax = ax, vmin = np.min(ds['pr'][0,:,:].values), vmax = np.max(ds['pr'][0,:,:].values))\n",
        "map_df.plot(edgecolor=\"black\", facecolor=\"None\", ax = ax, linewidth = 0.1)"
      ]
    },
    {
      "cell_type": "code",
      "execution_count": null,
      "metadata": {
        "id": "-KTcPiw0M815"
      },
      "outputs": [],
      "source": [
        "ds.close()\n",
        "ds1.close()"
      ]
    },
    {
      "cell_type": "markdown",
      "metadata": {
        "id": "jZ63SIa8POxF"
      },
      "source": [
        "**Questions**:\n",
        "1. Is regridding the same as resizing?\n",
        "2. OpenCV only needed the new dimensions, but xarray asked for the lat-lon grid. Why so?\n",
        "3. How does this affect us? "
      ]
    },
    {
      "cell_type": "markdown",
      "metadata": {
        "id": "Bbe5AbwzPTma"
      },
      "source": [
        "# Single Image SR using interpolation schemes"
      ]
    },
    {
      "cell_type": "code",
      "execution_count": null,
      "metadata": {
        "id": "X0bt7SuIPKr9"
      },
      "outputs": [],
      "source": [
        "import tensorflow_hub as hub\n",
        "import tensorflow as tf\n",
        "model = hub.load(\"https://tfhub.dev/captain-pool/esrgan-tf2/1\")"
      ]
    },
    {
      "cell_type": "code",
      "execution_count": null,
      "metadata": {
        "colab": {
          "base_uri": "https://localhost:8080/"
        },
        "id": "8wucg4a-P7Lt",
        "outputId": "fc25cdab-6466-4b99-b907-632352f43ef2"
      },
      "outputs": [
        {
          "data": {
            "text/plain": [
              "(80, 227, 4)"
            ]
          },
          "execution_count": 26,
          "metadata": {},
          "output_type": "execute_result"
        }
      ],
      "source": [
        "filepath = r'https://www.acm.org/binaries/content/gallery/global/top-menu/acm_logo_tablet.svg'\n",
        "req = urllib.request.urlopen(filepath)\n",
        "arr = np.asarray(bytearray(req.read()), dtype=np.uint8)\n",
        "img = cv2.imdecode(arr, -1)\n",
        "img.shape"
      ]
    },
    {
      "cell_type": "code",
      "execution_count": null,
      "metadata": {
        "colab": {
          "base_uri": "https://localhost:8080/"
        },
        "id": "5-mwL7NuPYWY",
        "outputId": "2ce4600f-3cd2-432c-bb76-b284c57bb174"
      },
      "outputs": [
        {
          "data": {
            "text/plain": [
              "TensorShape([1, 320, 908, 3])"
            ]
          },
          "execution_count": 27,
          "metadata": {},
          "output_type": "execute_result"
        }
      ],
      "source": [
        "#load_image() # Low Resolution Image of shape [batch_size, height, width, 3]\n",
        "low_resolution_image = img.reshape(1,img.shape[0],img.shape[1],img.shape[2])[:,:,:,:-1] \n",
        "low_resolution_image = tf.cast(low_resolution_image, tf.float32)\n",
        "super_resolution = model(low_resolution_image) # Perform Super Resolution here\n",
        "super_resolution.shape"
      ]
    },
    {
      "cell_type": "code",
      "execution_count": null,
      "metadata": {
        "colab": {
          "base_uri": "https://localhost:8080/",
          "height": 97
        },
        "id": "8FgjRVWiRY3R",
        "outputId": "71fb3006-9297-4892-9126-74409cf0f644"
      },
      "outputs": [
        {
          "data": {
            "image/png": "[encoded data removed]",
            "text/plain": [
              "<PIL.Image.Image image mode=RGBA size=227x80 at 0x7FDE3685EE50>"
            ]
          },
          "metadata": {},
          "output_type": "display_data"
        }
      ],
      "source": [
        "cv2_imshow(img)\n",
        "# cv2_imshow(img[:,:,:-1])"
      ]
    },
    {
      "cell_type": "code",
      "execution_count": null,
      "metadata": {
        "colab": {
          "base_uri": "https://localhost:8080/",
          "height": 97
        },
        "id": "VsnXQ9dPQpDB",
        "outputId": "0dd1cc9f-b60f-44fb-b58a-976afc01c7b1"
      },
      "outputs": [
        {
          "data": {
            "image/png": "[encoded data removed]",
            "text/plain": [
              "<PIL.Image.Image image mode=RGB size=227x80 at 0x7FDE3680C410>"
            ]
          },
          "metadata": {},
          "output_type": "display_data"
        }
      ],
      "source": [
        "cv2_imshow(low_resolution_image.numpy().reshape(low_resolution_image.shape[1:]))"
      ]
    },
    {
      "cell_type": "code",
      "execution_count": null,
      "metadata": {
        "colab": {
          "base_uri": "https://localhost:8080/",
          "height": 337
        },
        "id": "9lQaoUdFQapC",
        "outputId": "b3b191d0-eda1-40d5-fd3a-8a8b80e48a4d"
      },
      "outputs": [
        {
          "data": {
            "image/png": "[encoded data removed]",
            "text/plain": [
              "<PIL.Image.Image image mode=RGB size=908x320 at 0x7FDE368CCF10>"
            ]
          },
          "metadata": {},
          "output_type": "display_data"
        }
      ],
      "source": [
        "cv2_imshow(super_resolution.numpy().reshape(super_resolution.shape[1:]))"
      ]
    },
    {
      "cell_type": "markdown",
      "metadata": {
        "id": "IsH1c-H-Rn9m"
      },
      "source": [
        "# Downscaling using [SRCNN](https://github.com/tegg89/SRCNN-Tensorflow)"
      ]
    },
    {
      "cell_type": "markdown",
      "metadata": {
        "id": "8YattBvl7W2w"
      },
      "source": [
        "The simplest CNN based architecture I came across which dealt with super-resolution."
      ]
    },
    {
      "cell_type": "code",
      "execution_count": null,
      "metadata": {
        "colab": {
          "base_uri": "https://localhost:8080/",
          "height": 35
        },
        "id": "yzYiI9R8Tr82",
        "outputId": "d973f28c-d2e2-4796-f205-34ec2070f37e"
      },
      "outputs": [
        {
          "data": {
            "application/vnd.google.colaboratory.intrinsic+json": {
              "type": "string"
            },
            "text/plain": [
              "'0.18.3'"
            ]
          },
          "execution_count": 31,
          "metadata": {},
          "output_type": "execute_result"
        }
      ],
      "source": [
        "import skimage\n",
        "skimage.__version__"
      ]
    },
    {
      "cell_type": "code",
      "execution_count": null,
      "metadata": {
        "id": "tZXMzZWUT0ZN"
      },
      "outputs": [],
      "source": [
        "from skimage.metrics import structural_similarity as ssim\n",
        "import math"
      ]
    },
    {
      "cell_type": "code",
      "execution_count": null,
      "metadata": {
        "id": "G4dVc6PqT6Pr"
      },
      "outputs": [],
      "source": [
        "'''\n",
        "The below defined metrics can be used to assess quality of super-resolution\n",
        "Not used here, but you are encouraged to play with it.\n",
        "'''\n",
        "def psnr(target, ref):         \n",
        "    # assume RGB image\n",
        "    target_data = target.astype(float)\n",
        "    ref_data = ref.astype(float)\n",
        "    print(target_data.shape)\n",
        "    print(ref_data.shape)\n",
        "    diff = ref_data - target_data\n",
        "    diff = diff.flatten('C')\n",
        "    rmse = math.sqrt(np.mean(diff ** 2.))\n",
        "    return 20 * math.log10(255. / rmse)\n",
        "\n",
        "def mse(target, ref):\n",
        "    # the MSE between the two images is the sum of the squared difference between the two images\n",
        "    err = np.sum((target.astype('float') - ref.astype('float')) ** 2)\n",
        "    err /= float(target.shape[0] * target.shape[1])    \n",
        "    return err\n",
        "\n",
        "def compare_images(target, ref):\n",
        "    scores = []\n",
        "    scores.append(psnr(target, ref))\n",
        "    scores.append(mse(target, ref))\n",
        "    scores.append(ssim(target, ref, multichannel =True))    \n",
        "    return scores\n"
      ]
    },
    {
      "cell_type": "code",
      "execution_count": null,
      "metadata": {
        "id": "WF8Ntgm3U9-b"
      },
      "outputs": [],
      "source": [
        "def model(height = 32, width = 32):\n",
        "    # define model type\n",
        "    SRCNN = keras.models.Sequential()\n",
        "    # add model layers\n",
        "    SRCNN.add(keras.layers.Conv2D(filters=128, kernel_size = (9, 9), kernel_initializer='glorot_uniform',\n",
        "                     activation='relu', padding='valid', use_bias=True, input_shape=(height, width, 1)))\n",
        "    SRCNN.add(keras.layers.Conv2D(filters=64, kernel_size = (3, 3), kernel_initializer='glorot_uniform',\n",
        "                     activation='relu', padding='same', use_bias=True))\n",
        "    SRCNN.add(keras.layers.Conv2D(filters=1, kernel_size = (5, 5), kernel_initializer='glorot_uniform',\n",
        "                     activation='linear', padding='valid', use_bias=True))\n",
        "    adam = tf.keras.optimizers.Adam(lr=0.0003)\n",
        "    SRCNN.compile(optimizer=adam, loss='mean_squared_error', metrics=['mean_squared_error'])\n",
        "    return SRCNN\n"
      ]
    },
    {
      "cell_type": "code",
      "execution_count": null,
      "metadata": {
        "colab": {
          "base_uri": "https://localhost:8080/"
        },
        "id": "TI4tOX8tV_tS",
        "outputId": "8434f150-e657-4663-e82b-b0ee04a76781"
      },
      "outputs": [
        {
          "name": "stdout",
          "output_type": "stream",
          "text": [
            "Model: \"sequential\"\n",
            "_________________________________________________________________\n",
            " Layer (type)                Output Shape              Param #   \n",
            "=================================================================\n",
            " conv2d (Conv2D)             (None, 24, 24, 128)       10496     \n",
            "                                                                 \n",
            " conv2d_1 (Conv2D)           (None, 24, 24, 64)        73792     \n",
            "                                                                 \n",
            " conv2d_2 (Conv2D)           (None, 20, 20, 1)         1601      \n",
            "                                                                 \n",
            "=================================================================\n",
            "Total params: 85,889\n",
            "Trainable params: 85,889\n",
            "Non-trainable params: 0\n",
            "_________________________________________________________________\n"
          ]
        },
        {
          "name": "stderr",
          "output_type": "stream",
          "text": [
            "/usr/local/lib/python3.7/dist-packages/keras/optimizer_v2/adam.py:105: UserWarning: The `lr` argument is deprecated, use `learning_rate` instead.\n",
            "  super(Adam, self).__init__(name, **kwargs)\n"
          ]
        }
      ],
      "source": [
        "srcnn_model = model()\n",
        "srcnn_model.summary()"
      ]
    },
    {
      "cell_type": "code",
      "execution_count": null,
      "metadata": {
        "colab": {
          "base_uri": "https://localhost:8080/",
          "height": 152
        },
        "id": "kypS25W5W51H",
        "outputId": "4dc892f2-960c-47aa-c1a8-58942c9c3f3a"
      },
      "outputs": [
        {
          "data": {
            "image/png": "[encoded data removed]",
            "text/plain": [
              "<IPython.core.display.Image object>"
            ]
          },
          "execution_count": 36,
          "metadata": {},
          "output_type": "execute_result"
        }
      ],
      "source": [
        "tf.keras.utils.plot_model(srcnn_model, show_shapes = True, rankdir='LR')"
      ]
    },
    {
      "cell_type": "code",
      "execution_count": null,
      "metadata": {
        "id": "KK38b0nLYJrT"
      },
      "outputs": [],
      "source": [
        "srcnn_model.load_weights(r'3051crop_weight_200.h5')"
      ]
    },
    {
      "cell_type": "code",
      "execution_count": null,
      "metadata": {
        "colab": {
          "base_uri": "https://localhost:8080/"
        },
        "id": "L9sCMaEeY_YH",
        "outputId": "f8c81acf-2cb2-42b5-c8f3-d0e1f7144960"
      },
      "outputs": [
        {
          "data": {
            "text/plain": [
              "(80, 227, 4)"
            ]
          },
          "execution_count": 38,
          "metadata": {},
          "output_type": "execute_result"
        }
      ],
      "source": [
        "filepath = r'https://www.acm.org/binaries/content/gallery/global/top-menu/acm_logo_tablet.svg'\n",
        "req = urllib.request.urlopen(filepath)\n",
        "arr = np.asarray(bytearray(req.read()), dtype=np.uint8)\n",
        "img = cv2.imdecode(arr, -1) # 'Load it as it is'\n",
        "img.shape"
      ]
    },
    {
      "cell_type": "code",
      "execution_count": null,
      "metadata": {
        "colab": {
          "base_uri": "https://localhost:8080/",
          "height": 97
        },
        "id": "faQfZU25bBjb",
        "outputId": "14113e79-1875-431a-d06f-d86ae7f2d265"
      },
      "outputs": [
        {
          "data": {
            "image/png": "[encoded data removed]",
            "text/plain": [
              "<PIL.Image.Image image mode=RGBA size=120x80 at 0x7FDE3672FC10>"
            ]
          },
          "metadata": {},
          "output_type": "display_data"
        }
      ],
      "source": [
        "cv2_imshow(img[:,:120,:])"
      ]
    },
    {
      "cell_type": "code",
      "execution_count": null,
      "metadata": {
        "colab": {
          "base_uri": "https://localhost:8080/",
          "height": 49
        },
        "id": "A5HNMEs8cZ5h",
        "outputId": "f763510f-bb6e-4509-93d7-1dbab8d0f958"
      },
      "outputs": [
        {
          "data": {
            "image/png": "[encoded data removed]",
            "text/plain": [
              "<PIL.Image.Image image mode=RGBA size=32x32 at 0x7FDE367E0150>"
            ]
          },
          "metadata": {},
          "output_type": "display_data"
        }
      ],
      "source": [
        "resized = cv2.resize(img[:,:120,:], (32,32), interpolation = cv2.INTER_AREA)\n",
        "cv2_imshow(resized)"
      ]
    },
    {
      "cell_type": "code",
      "execution_count": null,
      "metadata": {
        "colab": {
          "base_uri": "https://localhost:8080/",
          "height": 49
        },
        "id": "IGbKt-h4bgGj",
        "outputId": "8ec495ad-8985-4956-86aa-b23e895682c9"
      },
      "outputs": [
        {
          "data": {
            "image/png": "[encoded data removed]",
            "text/plain": [
              "<PIL.Image.Image image mode=L size=32x32 at 0x7FDE36816A50>"
            ]
          },
          "metadata": {},
          "output_type": "display_data"
        }
      ],
      "source": [
        "cv2_imshow(cv2.cvtColor(resized, cv2.COLOR_RGB2GRAY))\n",
        "temp = cv2.cvtColor(resized, cv2.COLOR_RGB2GRAY)\n",
        "Y = np.zeros((1, temp.shape[0], temp.shape[1], 1), dtype=float)\n",
        "Y[0, :, :, 0] = temp[:, :].astype(float) / 255\n",
        "pre = srcnn_model.predict(Y, batch_size=1)\n",
        "pre *= 255\n",
        "pre[pre[:] > 255] = 255\n",
        "pre[pre[:] < 0] = 0\n",
        "pre = pre.astype(np.uint8)"
      ]
    },
    {
      "cell_type": "code",
      "execution_count": null,
      "metadata": {
        "colab": {
          "base_uri": "https://localhost:8080/"
        },
        "id": "xIAd860ydMl3",
        "outputId": "5a23b488-35ce-4aeb-f8c6-564abebe0367"
      },
      "outputs": [
        {
          "name": "stdout",
          "output_type": "stream",
          "text": [
            "(32, 32) (1, 32, 32, 1) (1, 20, 20, 1)\n"
          ]
        }
      ],
      "source": [
        "print(temp.shape, Y.shape, pre.shape)"
      ]
    },
    {
      "cell_type": "code",
      "execution_count": null,
      "metadata": {
        "colab": {
          "base_uri": "https://localhost:8080/",
          "height": 49
        },
        "id": "-6kgZINodX7N",
        "outputId": "9f313059-f4cb-454f-e852-a6c79268fcf3"
      },
      "outputs": [
        {
          "data": {
            "image/png": "[encoded data removed]",
            "text/plain": [
              "<PIL.Image.Image image mode=L size=32x32 at 0x7FDE3686B6D0>"
            ]
          },
          "metadata": {},
          "output_type": "display_data"
        }
      ],
      "source": [
        "img_new = np.array(temp)\n",
        "img_new[:,:] = cv2.resize(pre.reshape(20,20), (32,32), interpolation = cv2.INTER_AREA)\n",
        "cv2_imshow(img_new)"
      ]
    },
    {
      "cell_type": "code",
      "execution_count": null,
      "metadata": {
        "colab": {
          "base_uri": "https://localhost:8080/",
          "height": 212
        },
        "id": "7OjFkeWJdvOc",
        "outputId": "ea3bae5e-7f81-45b5-d192-a0e33aab3857"
      },
      "outputs": [
        {
          "data": {
            "image/png": "[encoded data removed]",
            "text/plain": [
              "<PIL.Image.Image image mode=L size=120x80 at 0x7FDE368AE7D0>"
            ]
          },
          "metadata": {},
          "output_type": "display_data"
        },
        {
          "data": {
            "image/png": "[encoded data removed]",
            "text/plain": [
              "<PIL.Image.Image image mode=L size=120x80 at 0x7FDE3686BFD0>"
            ]
          },
          "metadata": {},
          "output_type": "display_data"
        },
        {
          "data": {
            "text/plain": [
              "<Figure size 720x720 with 0 Axes>"
            ]
          },
          "metadata": {},
          "output_type": "display_data"
        },
        {
          "data": {
            "text/plain": [
              "<Figure size 720x720 with 0 Axes>"
            ]
          },
          "metadata": {},
          "output_type": "display_data"
        }
      ],
      "source": [
        "plt.figure(figsize = (10,10))\n",
        "cv2_imshow(cv2.resize(temp, (120,80), interpolation = cv2.INTER_AREA))\n",
        "\n",
        "plt.figure(figsize = (10,10))\n",
        "cv2_imshow(cv2.resize(img_new, (120,80), interpolation = cv2.INTER_AREA))"
      ]
    },
    {
      "cell_type": "markdown",
      "metadata": {
        "id": "s5ju1AZ5ei67"
      },
      "source": [
        "# Downscaling Using [ConvLSTM](https://ieeexplore.ieee.org/document/9348885)\n"
      ]
    },
    {
      "cell_type": "markdown",
      "metadata": {
        "id": "6gkopbYQqeM4"
      },
      "source": [
        "## Study Region\n",
        "![](https://raw.githubusercontent.com/dubeysarth/Lab_Downscaling/main/Data/Study_region.png)"
      ]
    },
    {
      "cell_type": "code",
      "execution_count": null,
      "metadata": {
        "id": "EuClpFNfgz-f"
      },
      "outputs": [],
      "source": [
        "from ConvLSTM import *"
      ]
    },
    {
      "cell_type": "code",
      "execution_count": null,
      "metadata": {
        "colab": {
          "base_uri": "https://localhost:8080/"
        },
        "id": "NNBioBL9fT1v",
        "outputId": "604e9c95-8d78-43dd-a567-39509def1c03"
      },
      "outputs": [
        {
          "name": "stdout",
          "output_type": "stream",
          "text": [
            "['/device:GPU:0']\n"
          ]
        }
      ],
      "source": [
        "from tensorflow.python.client import device_lib\n",
        "\n",
        "def get_available_gpus():\n",
        "    local_device_protos = device_lib.list_local_devices()\n",
        "    print([x.name for x in local_device_protos if x.device_type == 'GPU'])\n",
        "get_available_gpus()"
      ]
    },
    {
      "cell_type": "code",
      "execution_count": null,
      "metadata": {
        "colab": {
          "base_uri": "https://localhost:8080/"
        },
        "id": "Af7OvLyqgIRi",
        "outputId": "e95fa59b-3c38-49c6-caf1-73b389a3f0a0"
      },
      "outputs": [
        {
          "name": "stdout",
          "output_type": "stream",
          "text": [
            "Model: \"model\"\n",
            "__________________________________________________________________________________________________\n",
            " Layer (type)                   Output Shape         Param #     Connected to                     \n",
            "==================================================================================================\n",
            " input_1 (InputLayer)           [(None, 4, 32, 32,   0           []                               \n",
            "                                7)]                                                               \n",
            "                                                                                                  \n",
            " conv_lstm2d (ConvLSTM2D)       (None, 4, 32, 32, 1  23616       ['input_1[0][0]']                \n",
            "                                6)                                                                \n",
            "                                                                                                  \n",
            " batch_normalization (BatchNorm  (None, 4, 32, 32, 1  64         ['conv_lstm2d[0][0]']            \n",
            " alization)                     6)                                                                \n",
            "                                                                                                  \n",
            " conv_lstm2d_1 (ConvLSTM2D)     (None, 4, 32, 32, 8  3104        ['batch_normalization[0][0]']    \n",
            "                                )                                                                 \n",
            "                                                                                                  \n",
            " batch_normalization_1 (BatchNo  (None, 4, 32, 32, 8  32         ['conv_lstm2d_1[0][0]']          \n",
            " rmalization)                   )                                                                 \n",
            "                                                                                                  \n",
            " conv_lstm2d_2 (ConvLSTM2D)     (None, 32, 32, 8)    544         ['batch_normalization_1[0][0]']  \n",
            "                                                                                                  \n",
            " conv2d_3 (Conv2D)              (None, 32, 32, 128)  83072       ['conv_lstm2d_2[0][0]']          \n",
            "                                                                                                  \n",
            " conv2d_4 (Conv2D)              (None, 32, 32, 64)   73792       ['conv2d_3[0][0]']               \n",
            "                                                                                                  \n",
            " conv2d_5 (Conv2D)              (None, 32, 32, 1)    1601        ['conv2d_4[0][0]']               \n",
            "                                                                                                  \n",
            " add (Add)                      (None, 32, 32, 8)    0           ['conv_lstm2d_2[0][0]',          \n",
            "                                                                  'conv2d_5[0][0]']               \n",
            "                                                                                                  \n",
            " conv2d_6 (Conv2D)              (None, 32, 32, 128)  83072       ['add[0][0]']                    \n",
            "                                                                                                  \n",
            " conv2d_7 (Conv2D)              (None, 32, 32, 64)   73792       ['conv2d_6[0][0]']               \n",
            "                                                                                                  \n",
            " conv2d_8 (Conv2D)              (None, 32, 32, 1)    1601        ['conv2d_7[0][0]']               \n",
            "                                                                                                  \n",
            " add_1 (Add)                    (None, 32, 32, 8)    0           ['add[0][0]',                    \n",
            "                                                                  'conv2d_8[0][0]']               \n",
            "                                                                                                  \n",
            " conv2d_9 (Conv2D)              (None, 32, 32, 8)    72          ['add_1[0][0]']                  \n",
            "                                                                                                  \n",
            " add_2 (Add)                    (None, 32, 32, 8)    0           ['conv_lstm2d_2[0][0]',          \n",
            "                                                                  'conv2d_9[0][0]']               \n",
            "                                                                                                  \n",
            " conv2d_10 (Conv2D)             (None, 32, 32, 1)    33          ['add_2[0][0]']                  \n",
            "                                                                                                  \n",
            "==================================================================================================\n",
            "Total params: 344,395\n",
            "Trainable params: 344,347\n",
            "Non-trainable params: 48\n",
            "__________________________________________________________________________________________________\n"
          ]
        }
      ],
      "source": [
        "Aug_ConvLSTM_model = AugementedConvLSTM(\n",
        "    projection_height = 32, \n",
        "    projection_width = 32,\n",
        "    timesteps=4\n",
        "    )\n",
        "model = Aug_ConvLSTM_model.model(\n",
        "    [16, 8, 8], \n",
        "    [4,2,1], \n",
        "    [32,16,1], \n",
        "    [4,1,2], \n",
        "    2\n",
        "    )\n",
        "model.summary()"
      ]
    },
    {
      "cell_type": "code",
      "execution_count": null,
      "metadata": {
        "colab": {
          "base_uri": "https://localhost:8080/"
        },
        "id": "1SWARsrv3P9C",
        "outputId": "3daaa817-24c7-499a-d293-67fd5b6e00e9"
      },
      "outputs": [
        {
          "name": "stdout",
          "output_type": "stream",
          "text": [
            "2190 2190\n"
          ]
        }
      ],
      "source": [
        "data = glob.glob(os.path.join('Data', '03', 'MIROC-ESM', \"[0-9]*.npy\"), recursive=True)\n",
        "sort_nicely(data)\n",
        "\n",
        "labels = glob.glob(os.path.join('Data', '03', 'IMD', \"[0-9]*.npy\"), recursive=True)\n",
        "sort_nicely(labels)\n",
        "print(len(data), len(labels))"
      ]
    },
    {
      "cell_type": "code",
      "execution_count": null,
      "metadata": {
        "id": "OznVxhak3axK"
      },
      "outputs": [],
      "source": [
        "split_ratio = 0.15"
      ]
    },
    {
      "cell_type": "code",
      "execution_count": null,
      "metadata": {
        "colab": {
          "base_uri": "https://localhost:8080/"
        },
        "id": "rrASf0lu3cIB",
        "outputId": "63a6fbbe-bb20-4eda-bf73-48d82ab24c49"
      },
      "outputs": [
        {
          "data": {
            "text/plain": [
              "1862"
            ]
          },
          "execution_count": 50,
          "metadata": {},
          "output_type": "execute_result"
        }
      ],
      "source": [
        "partition = {}\n",
        "split_idx = len(labels) - int(len(data)*0.15)\n",
        "split_idx"
      ]
    },
    {
      "cell_type": "code",
      "execution_count": null,
      "metadata": {
        "id": "YzCT_jOI3dra"
      },
      "outputs": [],
      "source": [
        "train_examples = [(data[i], labels[i]) for i in itertools.islice(range(len(data)), 0, split_idx, 1)]\n",
        "partition['train'] = train_examples"
      ]
    },
    {
      "cell_type": "code",
      "execution_count": null,
      "metadata": {
        "id": "jGfTBhsy3fJ3"
      },
      "outputs": [],
      "source": [
        "val_examples = [(data[i], labels[i]) for i in itertools.islice(range(len(data)), split_idx, None, 1)]\n",
        "partition['val'] = val_examples"
      ]
    },
    {
      "cell_type": "code",
      "execution_count": null,
      "metadata": {
        "colab": {
          "base_uri": "https://localhost:8080/"
        },
        "id": "d5Egez1agPBX",
        "outputId": "62e9527d-1d55-487a-ce34-84a60fe69fe0"
      },
      "outputs": [
        {
          "name": "stdout",
          "output_type": "stream",
          "text": [
            "(15, 4, 32, 32, 7) (15, 32, 32, 1)\n"
          ]
        }
      ],
      "source": [
        "params = {'dim': (32, 32),\n",
        "          'batch_size': 15,\n",
        "          'timesteps' : 4,\n",
        "          'shuffle': False}\n",
        "# Define the generators\n",
        "training_generator = DataGenerator(partition['train'], **params)\n",
        "validation_generator = DataGenerator(partition['val'], **params)\n",
        "\n",
        "import itertools\n",
        "for xx, yy in itertools.islice(training_generator, 0, 1, 1):\n",
        "    print(xx.shape, yy.shape)\n",
        "# (15, 4, 129, 135, 7) (15, 129, 135, 1)\n",
        "# (15, 4, 32, 32, 7) (15, 32, 32, 1) "
      ]
    },
    {
      "cell_type": "code",
      "execution_count": null,
      "metadata": {
        "colab": {
          "base_uri": "https://localhost:8080/"
        },
        "id": "AVIEU0KJhBnP",
        "outputId": "a27fd723-d16b-4fd1-f9bf-dab604e5071c"
      },
      "outputs": [
        {
          "name": "stdout",
          "output_type": "stream",
          "text": [
            "Epoch 1/128\n",
            "31/31 [==============================] - ETA: 0s - loss: 0.8649 - root_mean_squared_error: 0.8649 - actual_rmse_loss: 8.6486\n",
            "Epoch 1: val_loss improved from inf to 0.87533, saving model to convlstm_weights_pr_toy.h5\n",
            "31/31 [==============================] - 14s 162ms/step - loss: 0.8649 - root_mean_squared_error: 0.8649 - actual_rmse_loss: 8.6486 - val_loss: 0.8753 - val_root_mean_squared_error: 0.8753 - val_actual_rmse_loss: 8.7533 - lr: 3.0000e-04\n",
            "Epoch 2/128\n",
            "31/31 [==============================] - ETA: 0s - loss: 0.8197 - root_mean_squared_error: 0.8197 - actual_rmse_loss: 8.1970\n",
            "Epoch 2: val_loss improved from 0.87533 to 0.87082, saving model to convlstm_weights_pr_toy.h5\n",
            "31/31 [==============================] - 5s 148ms/step - loss: 0.8197 - root_mean_squared_error: 0.8197 - actual_rmse_loss: 8.1970 - val_loss: 0.8708 - val_root_mean_squared_error: 0.8708 - val_actual_rmse_loss: 8.7082 - lr: 3.0000e-04\n",
            "Epoch 3/128\n",
            "31/31 [==============================] - ETA: 0s - loss: 0.7901 - root_mean_squared_error: 0.7901 - actual_rmse_loss: 7.9008\n",
            "Epoch 3: val_loss improved from 0.87082 to 0.86826, saving model to convlstm_weights_pr_toy.h5\n",
            "31/31 [==============================] - 4s 140ms/step - loss: 0.7901 - root_mean_squared_error: 0.7901 - actual_rmse_loss: 7.9008 - val_loss: 0.8683 - val_root_mean_squared_error: 0.8683 - val_actual_rmse_loss: 8.6826 - lr: 3.0000e-04\n",
            "Epoch 4/128\n",
            "31/31 [==============================] - ETA: 0s - loss: 0.7833 - root_mean_squared_error: 0.7833 - actual_rmse_loss: 7.8335\n",
            "Epoch 4: val_loss improved from 0.86826 to 0.85836, saving model to convlstm_weights_pr_toy.h5\n",
            "31/31 [==============================] - 4s 143ms/step - loss: 0.7833 - root_mean_squared_error: 0.7833 - actual_rmse_loss: 7.8335 - val_loss: 0.8584 - val_root_mean_squared_error: 0.8584 - val_actual_rmse_loss: 8.5836 - lr: 3.0000e-04\n",
            "Epoch 5/128\n",
            "31/31 [==============================] - ETA: 0s - loss: 0.7672 - root_mean_squared_error: 0.7672 - actual_rmse_loss: 7.6718\n",
            "Epoch 5: val_loss did not improve from 0.85836\n",
            "31/31 [==============================] - 4s 137ms/step - loss: 0.7672 - root_mean_squared_error: 0.7672 - actual_rmse_loss: 7.6718 - val_loss: 0.8587 - val_root_mean_squared_error: 0.8587 - val_actual_rmse_loss: 8.5866 - lr: 3.0000e-04\n",
            "Epoch 6/128\n",
            "31/31 [==============================] - ETA: 0s - loss: 0.7647 - root_mean_squared_error: 0.7647 - actual_rmse_loss: 7.6469\n",
            "Epoch 6: val_loss improved from 0.85836 to 0.85311, saving model to convlstm_weights_pr_toy.h5\n",
            "31/31 [==============================] - 5s 148ms/step - loss: 0.7647 - root_mean_squared_error: 0.7647 - actual_rmse_loss: 7.6469 - val_loss: 0.8531 - val_root_mean_squared_error: 0.8531 - val_actual_rmse_loss: 8.5311 - lr: 3.0000e-04\n",
            "Epoch 7/128\n",
            "31/31 [==============================] - ETA: 0s - loss: 0.7524 - root_mean_squared_error: 0.7524 - actual_rmse_loss: 7.5238\n",
            "Epoch 7: val_loss did not improve from 0.85311\n",
            "31/31 [==============================] - 4s 140ms/step - loss: 0.7524 - root_mean_squared_error: 0.7524 - actual_rmse_loss: 7.5238 - val_loss: 0.8563 - val_root_mean_squared_error: 0.8563 - val_actual_rmse_loss: 8.5631 - lr: 3.0000e-04\n",
            "Epoch 8/128\n",
            "31/31 [==============================] - ETA: 0s - loss: 0.7626 - root_mean_squared_error: 0.7626 - actual_rmse_loss: 7.6255\n",
            "Epoch 8: val_loss improved from 0.85311 to 0.84616, saving model to convlstm_weights_pr_toy.h5\n",
            "31/31 [==============================] - 4s 140ms/step - loss: 0.7626 - root_mean_squared_error: 0.7626 - actual_rmse_loss: 7.6255 - val_loss: 0.8462 - val_root_mean_squared_error: 0.8462 - val_actual_rmse_loss: 8.4616 - lr: 3.0000e-04\n",
            "Epoch 9/128\n",
            "31/31 [==============================] - ETA: 0s - loss: 0.7435 - root_mean_squared_error: 0.7435 - actual_rmse_loss: 7.4355\n",
            "Epoch 9: val_loss improved from 0.84616 to 0.82824, saving model to convlstm_weights_pr_toy.h5\n",
            "31/31 [==============================] - 4s 144ms/step - loss: 0.7435 - root_mean_squared_error: 0.7435 - actual_rmse_loss: 7.4355 - val_loss: 0.8282 - val_root_mean_squared_error: 0.8282 - val_actual_rmse_loss: 8.2824 - lr: 3.0000e-04\n",
            "Epoch 10/128\n",
            "31/31 [==============================] - ETA: 0s - loss: 0.7503 - root_mean_squared_error: 0.7503 - actual_rmse_loss: 7.5025\n",
            "Epoch 10: val_loss did not improve from 0.82824\n",
            "31/31 [==============================] - 4s 138ms/step - loss: 0.7503 - root_mean_squared_error: 0.7503 - actual_rmse_loss: 7.5025 - val_loss: 0.8432 - val_root_mean_squared_error: 0.8432 - val_actual_rmse_loss: 8.4323 - lr: 3.0000e-04\n",
            "Epoch 11/128\n",
            "31/31 [==============================] - ETA: 0s - loss: 0.7571 - root_mean_squared_error: 0.7571 - actual_rmse_loss: 7.5710\n",
            "Epoch 11: val_loss improved from 0.82824 to 0.82598, saving model to convlstm_weights_pr_toy.h5\n",
            "31/31 [==============================] - 4s 140ms/step - loss: 0.7571 - root_mean_squared_error: 0.7571 - actual_rmse_loss: 7.5710 - val_loss: 0.8260 - val_root_mean_squared_error: 0.8260 - val_actual_rmse_loss: 8.2598 - lr: 3.0000e-04\n",
            "Epoch 12/128\n",
            "31/31 [==============================] - ETA: 0s - loss: 0.7405 - root_mean_squared_error: 0.7405 - actual_rmse_loss: 7.4048\n",
            "Epoch 12: val_loss did not improve from 0.82598\n",
            "31/31 [==============================] - 5s 160ms/step - loss: 0.7405 - root_mean_squared_error: 0.7405 - actual_rmse_loss: 7.4048 - val_loss: 0.8309 - val_root_mean_squared_error: 0.8309 - val_actual_rmse_loss: 8.3094 - lr: 3.0000e-04\n",
            "Epoch 13/128\n",
            "31/31 [==============================] - ETA: 0s - loss: 0.7327 - root_mean_squared_error: 0.7327 - actual_rmse_loss: 7.3273\n",
            "Epoch 13: val_loss improved from 0.82598 to 0.80400, saving model to convlstm_weights_pr_toy.h5\n",
            "31/31 [==============================] - 5s 145ms/step - loss: 0.7327 - root_mean_squared_error: 0.7327 - actual_rmse_loss: 7.3273 - val_loss: 0.8040 - val_root_mean_squared_error: 0.8040 - val_actual_rmse_loss: 8.0400 - lr: 3.0000e-04\n",
            "Epoch 14/128\n",
            "31/31 [==============================] - ETA: 0s - loss: 0.7194 - root_mean_squared_error: 0.7194 - actual_rmse_loss: 7.1944\n",
            "Epoch 14: val_loss did not improve from 0.80400\n",
            "31/31 [==============================] - 4s 139ms/step - loss: 0.7194 - root_mean_squared_error: 0.7194 - actual_rmse_loss: 7.1944 - val_loss: 0.8118 - val_root_mean_squared_error: 0.8118 - val_actual_rmse_loss: 8.1178 - lr: 3.0000e-04\n",
            "Epoch 15/128\n",
            "31/31 [==============================] - ETA: 0s - loss: 0.7045 - root_mean_squared_error: 0.7045 - actual_rmse_loss: 7.0447\n",
            "Epoch 15: val_loss did not improve from 0.80400\n",
            "31/31 [==============================] - 4s 134ms/step - loss: 0.7045 - root_mean_squared_error: 0.7045 - actual_rmse_loss: 7.0447 - val_loss: 0.8215 - val_root_mean_squared_error: 0.8215 - val_actual_rmse_loss: 8.2147 - lr: 3.0000e-04\n",
            "Epoch 16/128\n",
            "31/31 [==============================] - ETA: 0s - loss: 0.7169 - root_mean_squared_error: 0.7169 - actual_rmse_loss: 7.1687\n",
            "Epoch 16: val_loss did not improve from 0.80400\n",
            "31/31 [==============================] - 5s 162ms/step - loss: 0.7169 - root_mean_squared_error: 0.7169 - actual_rmse_loss: 7.1687 - val_loss: 0.8398 - val_root_mean_squared_error: 0.8398 - val_actual_rmse_loss: 8.3977 - lr: 3.0000e-04\n",
            "Epoch 17/128\n",
            "31/31 [==============================] - ETA: 0s - loss: 0.7154 - root_mean_squared_error: 0.7154 - actual_rmse_loss: 7.1540\n",
            "Epoch 17: val_loss did not improve from 0.80400\n",
            "31/31 [==============================] - 4s 138ms/step - loss: 0.7154 - root_mean_squared_error: 0.7154 - actual_rmse_loss: 7.1540 - val_loss: 0.8200 - val_root_mean_squared_error: 0.8200 - val_actual_rmse_loss: 8.1996 - lr: 3.0000e-04\n",
            "Epoch 18/128\n",
            "31/31 [==============================] - ETA: 0s - loss: 0.7181 - root_mean_squared_error: 0.7181 - actual_rmse_loss: 7.1805\n",
            "Epoch 18: val_loss did not improve from 0.80400\n",
            "31/31 [==============================] - 4s 142ms/step - loss: 0.7181 - root_mean_squared_error: 0.7181 - actual_rmse_loss: 7.1805 - val_loss: 0.8272 - val_root_mean_squared_error: 0.8272 - val_actual_rmse_loss: 8.2718 - lr: 3.0000e-04\n",
            "Epoch 19/128\n",
            "31/31 [==============================] - ETA: 0s - loss: 0.7023 - root_mean_squared_error: 0.7023 - actual_rmse_loss: 7.0230\n",
            "Epoch 19: val_loss did not improve from 0.80400\n",
            "31/31 [==============================] - 4s 138ms/step - loss: 0.7023 - root_mean_squared_error: 0.7023 - actual_rmse_loss: 7.0230 - val_loss: 0.8135 - val_root_mean_squared_error: 0.8135 - val_actual_rmse_loss: 8.1345 - lr: 3.0000e-04\n",
            "Epoch 20/128\n",
            "31/31 [==============================] - ETA: 0s - loss: 0.7056 - root_mean_squared_error: 0.7056 - actual_rmse_loss: 7.0556\n",
            "Epoch 20: val_loss did not improve from 0.80400\n",
            "31/31 [==============================] - 4s 137ms/step - loss: 0.7056 - root_mean_squared_error: 0.7056 - actual_rmse_loss: 7.0556 - val_loss: 0.8263 - val_root_mean_squared_error: 0.8263 - val_actual_rmse_loss: 8.2629 - lr: 3.0000e-04\n",
            "Epoch 21/128\n",
            "31/31 [==============================] - ETA: 0s - loss: 0.6810 - root_mean_squared_error: 0.6810 - actual_rmse_loss: 6.8103\n",
            "Epoch 21: val_loss did not improve from 0.80400\n",
            "31/31 [==============================] - 4s 132ms/step - loss: 0.6810 - root_mean_squared_error: 0.6810 - actual_rmse_loss: 6.8103 - val_loss: 0.8435 - val_root_mean_squared_error: 0.8435 - val_actual_rmse_loss: 8.4355 - lr: 3.0000e-04\n",
            "Epoch 22/128\n",
            "31/31 [==============================] - ETA: 0s - loss: 0.6971 - root_mean_squared_error: 0.6971 - actual_rmse_loss: 6.9709\n",
            "Epoch 22: val_loss did not improve from 0.80400\n",
            "31/31 [==============================] - 4s 140ms/step - loss: 0.6971 - root_mean_squared_error: 0.6971 - actual_rmse_loss: 6.9709 - val_loss: 0.8049 - val_root_mean_squared_error: 0.8049 - val_actual_rmse_loss: 8.0491 - lr: 3.0000e-04\n",
            "Epoch 23/128\n",
            "31/31 [==============================] - ETA: 0s - loss: 0.6956 - root_mean_squared_error: 0.6956 - actual_rmse_loss: 6.9564\n",
            "Epoch 23: val_loss did not improve from 0.80400\n",
            "31/31 [==============================] - 4s 141ms/step - loss: 0.6956 - root_mean_squared_error: 0.6956 - actual_rmse_loss: 6.9564 - val_loss: 0.8165 - val_root_mean_squared_error: 0.8165 - val_actual_rmse_loss: 8.1649 - lr: 3.0000e-04\n",
            "Epoch 24/128\n",
            "31/31 [==============================] - ETA: 0s - loss: 0.6897 - root_mean_squared_error: 0.6897 - actual_rmse_loss: 6.8967\n",
            "Epoch 24: val_loss did not improve from 0.80400\n",
            "31/31 [==============================] - 4s 142ms/step - loss: 0.6897 - root_mean_squared_error: 0.6897 - actual_rmse_loss: 6.8967 - val_loss: 0.8204 - val_root_mean_squared_error: 0.8204 - val_actual_rmse_loss: 8.2040 - lr: 3.0000e-04\n",
            "Epoch 25/128\n",
            "31/31 [==============================] - ETA: 0s - loss: 0.6812 - root_mean_squared_error: 0.6812 - actual_rmse_loss: 6.8116\n",
            "Epoch 25: val_loss did not improve from 0.80400\n",
            "31/31 [==============================] - 4s 139ms/step - loss: 0.6812 - root_mean_squared_error: 0.6812 - actual_rmse_loss: 6.8116 - val_loss: 0.8170 - val_root_mean_squared_error: 0.8170 - val_actual_rmse_loss: 8.1696 - lr: 3.0000e-04\n",
            "Epoch 26/128\n",
            "31/31 [==============================] - ETA: 0s - loss: 0.6866 - root_mean_squared_error: 0.6866 - actual_rmse_loss: 6.8656\n",
            "Epoch 26: val_loss did not improve from 0.80400\n",
            "31/31 [==============================] - 4s 142ms/step - loss: 0.6866 - root_mean_squared_error: 0.6866 - actual_rmse_loss: 6.8656 - val_loss: 0.8449 - val_root_mean_squared_error: 0.8449 - val_actual_rmse_loss: 8.4490 - lr: 3.0000e-04\n",
            "Epoch 27/128\n",
            "31/31 [==============================] - ETA: 0s - loss: 0.6775 - root_mean_squared_error: 0.6775 - actual_rmse_loss: 6.7746\n",
            "Epoch 27: val_loss did not improve from 0.80400\n",
            "31/31 [==============================] - 4s 140ms/step - loss: 0.6775 - root_mean_squared_error: 0.6775 - actual_rmse_loss: 6.7746 - val_loss: 0.9090 - val_root_mean_squared_error: 0.9090 - val_actual_rmse_loss: 9.0896 - lr: 3.0000e-04\n",
            "Epoch 28/128\n",
            "31/31 [==============================] - ETA: 0s - loss: 0.6653 - root_mean_squared_error: 0.6653 - actual_rmse_loss: 6.6532\n",
            "Epoch 28: val_loss did not improve from 0.80400\n",
            "\n",
            "Epoch 28: ReduceLROnPlateau reducing learning rate to 6.000000284984708e-05.\n",
            "31/31 [==============================] - 4s 136ms/step - loss: 0.6653 - root_mean_squared_error: 0.6653 - actual_rmse_loss: 6.6532 - val_loss: 0.8389 - val_root_mean_squared_error: 0.8389 - val_actual_rmse_loss: 8.3886 - lr: 3.0000e-04\n",
            "Epoch 29/128\n",
            "31/31 [==============================] - ETA: 0s - loss: 0.6580 - root_mean_squared_error: 0.6580 - actual_rmse_loss: 6.5797\n",
            "Epoch 29: val_loss did not improve from 0.80400\n",
            "31/31 [==============================] - 4s 141ms/step - loss: 0.6580 - root_mean_squared_error: 0.6580 - actual_rmse_loss: 6.5797 - val_loss: 0.8111 - val_root_mean_squared_error: 0.8111 - val_actual_rmse_loss: 8.1111 - lr: 6.0000e-05\n",
            "Epoch 30/128\n",
            "31/31 [==============================] - ETA: 0s - loss: 0.6393 - root_mean_squared_error: 0.6393 - actual_rmse_loss: 6.3930\n",
            "Epoch 30: val_loss did not improve from 0.80400\n",
            "31/31 [==============================] - 4s 141ms/step - loss: 0.6393 - root_mean_squared_error: 0.6393 - actual_rmse_loss: 6.3930 - val_loss: 0.8116 - val_root_mean_squared_error: 0.8116 - val_actual_rmse_loss: 8.1162 - lr: 6.0000e-05\n",
            "Epoch 31/128\n",
            "31/31 [==============================] - ETA: 0s - loss: 0.6342 - root_mean_squared_error: 0.6342 - actual_rmse_loss: 6.3416\n",
            "Epoch 31: val_loss did not improve from 0.80400\n",
            "31/31 [==============================] - 4s 140ms/step - loss: 0.6342 - root_mean_squared_error: 0.6342 - actual_rmse_loss: 6.3416 - val_loss: 0.8242 - val_root_mean_squared_error: 0.8242 - val_actual_rmse_loss: 8.2419 - lr: 6.0000e-05\n",
            "Epoch 32/128\n",
            "31/31 [==============================] - ETA: 0s - loss: 0.6322 - root_mean_squared_error: 0.6322 - actual_rmse_loss: 6.3216\n",
            "Epoch 32: val_loss did not improve from 0.80400\n",
            "31/31 [==============================] - 5s 165ms/step - loss: 0.6322 - root_mean_squared_error: 0.6322 - actual_rmse_loss: 6.3216 - val_loss: 0.8154 - val_root_mean_squared_error: 0.8154 - val_actual_rmse_loss: 8.1543 - lr: 6.0000e-05\n",
            "Epoch 33/128\n",
            "31/31 [==============================] - ETA: 0s - loss: 0.6298 - root_mean_squared_error: 0.6298 - actual_rmse_loss: 6.2984\n",
            "Epoch 33: val_loss did not improve from 0.80400\n",
            "31/31 [==============================] - 5s 147ms/step - loss: 0.6298 - root_mean_squared_error: 0.6298 - actual_rmse_loss: 6.2984 - val_loss: 0.8191 - val_root_mean_squared_error: 0.8191 - val_actual_rmse_loss: 8.1907 - lr: 6.0000e-05\n",
            "Epoch 34/128\n",
            "31/31 [==============================] - ETA: 0s - loss: 0.6283 - root_mean_squared_error: 0.6283 - actual_rmse_loss: 6.2833\n",
            "Epoch 34: val_loss did not improve from 0.80400\n",
            "31/31 [==============================] - 4s 136ms/step - loss: 0.6283 - root_mean_squared_error: 0.6283 - actual_rmse_loss: 6.2833 - val_loss: 0.8208 - val_root_mean_squared_error: 0.8208 - val_actual_rmse_loss: 8.2076 - lr: 6.0000e-05\n",
            "Epoch 35/128\n",
            "31/31 [==============================] - ETA: 0s - loss: 0.6268 - root_mean_squared_error: 0.6268 - actual_rmse_loss: 6.2678\n",
            "Epoch 35: val_loss did not improve from 0.80400\n",
            "31/31 [==============================] - 4s 141ms/step - loss: 0.6268 - root_mean_squared_error: 0.6268 - actual_rmse_loss: 6.2678 - val_loss: 0.8121 - val_root_mean_squared_error: 0.8121 - val_actual_rmse_loss: 8.1206 - lr: 6.0000e-05\n",
            "Epoch 36/128\n",
            "31/31 [==============================] - ETA: 0s - loss: 0.6280 - root_mean_squared_error: 0.6280 - actual_rmse_loss: 6.2798\n",
            "Epoch 36: val_loss did not improve from 0.80400\n",
            "31/31 [==============================] - 4s 136ms/step - loss: 0.6280 - root_mean_squared_error: 0.6280 - actual_rmse_loss: 6.2798 - val_loss: 0.8329 - val_root_mean_squared_error: 0.8329 - val_actual_rmse_loss: 8.3289 - lr: 6.0000e-05\n",
            "Epoch 37/128\n",
            "31/31 [==============================] - ETA: 0s - loss: 0.6236 - root_mean_squared_error: 0.6236 - actual_rmse_loss: 6.2356\n",
            "Epoch 37: val_loss did not improve from 0.80400\n",
            "31/31 [==============================] - 4s 138ms/step - loss: 0.6236 - root_mean_squared_error: 0.6236 - actual_rmse_loss: 6.2356 - val_loss: 0.8099 - val_root_mean_squared_error: 0.8099 - val_actual_rmse_loss: 8.0987 - lr: 6.0000e-05\n",
            "Epoch 38/128\n",
            "31/31 [==============================] - ETA: 0s - loss: 0.6219 - root_mean_squared_error: 0.6219 - actual_rmse_loss: 6.2185\n",
            "Epoch 38: val_loss did not improve from 0.80400\n",
            "31/31 [==============================] - 4s 137ms/step - loss: 0.6219 - root_mean_squared_error: 0.6219 - actual_rmse_loss: 6.2185 - val_loss: 0.8156 - val_root_mean_squared_error: 0.8156 - val_actual_rmse_loss: 8.1555 - lr: 6.0000e-05\n",
            "Epoch 39/128\n",
            "31/31 [==============================] - ETA: 0s - loss: 0.6207 - root_mean_squared_error: 0.6207 - actual_rmse_loss: 6.2067\n",
            "Epoch 39: val_loss did not improve from 0.80400\n",
            "31/31 [==============================] - 5s 158ms/step - loss: 0.6207 - root_mean_squared_error: 0.6207 - actual_rmse_loss: 6.2067 - val_loss: 0.8143 - val_root_mean_squared_error: 0.8143 - val_actual_rmse_loss: 8.1429 - lr: 6.0000e-05\n",
            "Epoch 40/128\n",
            "31/31 [==============================] - ETA: 0s - loss: 0.6191 - root_mean_squared_error: 0.6191 - actual_rmse_loss: 6.1913\n",
            "Epoch 40: val_loss did not improve from 0.80400\n",
            "31/31 [==============================] - 4s 140ms/step - loss: 0.6191 - root_mean_squared_error: 0.6191 - actual_rmse_loss: 6.1913 - val_loss: 0.8104 - val_root_mean_squared_error: 0.8104 - val_actual_rmse_loss: 8.1043 - lr: 6.0000e-05\n",
            "Epoch 41/128\n",
            "31/31 [==============================] - ETA: 0s - loss: 0.6178 - root_mean_squared_error: 0.6178 - actual_rmse_loss: 6.1783\n",
            "Epoch 41: val_loss did not improve from 0.80400\n",
            "31/31 [==============================] - 5s 145ms/step - loss: 0.6178 - root_mean_squared_error: 0.6178 - actual_rmse_loss: 6.1783 - val_loss: 0.8153 - val_root_mean_squared_error: 0.8153 - val_actual_rmse_loss: 8.1534 - lr: 6.0000e-05\n",
            "Epoch 42/128\n",
            "31/31 [==============================] - ETA: 0s - loss: 0.6149 - root_mean_squared_error: 0.6149 - actual_rmse_loss: 6.1490\n",
            "Epoch 42: val_loss did not improve from 0.80400\n",
            "31/31 [==============================] - 4s 143ms/step - loss: 0.6149 - root_mean_squared_error: 0.6149 - actual_rmse_loss: 6.1490 - val_loss: 0.8136 - val_root_mean_squared_error: 0.8136 - val_actual_rmse_loss: 8.1359 - lr: 6.0000e-05\n",
            "Epoch 43/128\n",
            "31/31 [==============================] - ETA: 0s - loss: 0.6127 - root_mean_squared_error: 0.6127 - actual_rmse_loss: 6.1268\n",
            "Epoch 43: val_loss did not improve from 0.80400\n",
            "\n",
            "Epoch 43: ReduceLROnPlateau reducing learning rate to 1.2000000424450263e-05.\n",
            "31/31 [==============================] - 4s 139ms/step - loss: 0.6127 - root_mean_squared_error: 0.6127 - actual_rmse_loss: 6.1268 - val_loss: 0.8160 - val_root_mean_squared_error: 0.8160 - val_actual_rmse_loss: 8.1597 - lr: 6.0000e-05\n",
            "Epoch 44/128\n",
            "31/31 [==============================] - ETA: 0s - loss: 0.6099 - root_mean_squared_error: 0.6099 - actual_rmse_loss: 6.0986\n",
            "Epoch 44: val_loss did not improve from 0.80400\n",
            "31/31 [==============================] - 4s 139ms/step - loss: 0.6099 - root_mean_squared_error: 0.6099 - actual_rmse_loss: 6.0986 - val_loss: 0.8144 - val_root_mean_squared_error: 0.8144 - val_actual_rmse_loss: 8.1437 - lr: 1.2000e-05\n",
            "Epoch 45/128\n",
            "31/31 [==============================] - ETA: 0s - loss: 0.6092 - root_mean_squared_error: 0.6092 - actual_rmse_loss: 6.0916\n",
            "Epoch 45: val_loss did not improve from 0.80400\n",
            "31/31 [==============================] - 4s 139ms/step - loss: 0.6092 - root_mean_squared_error: 0.6092 - actual_rmse_loss: 6.0916 - val_loss: 0.8135 - val_root_mean_squared_error: 0.8135 - val_actual_rmse_loss: 8.1353 - lr: 1.2000e-05\n",
            "Epoch 46/128\n",
            "31/31 [==============================] - ETA: 0s - loss: 0.6083 - root_mean_squared_error: 0.6083 - actual_rmse_loss: 6.0832\n",
            "Epoch 46: val_loss did not improve from 0.80400\n",
            "31/31 [==============================] - 4s 144ms/step - loss: 0.6083 - root_mean_squared_error: 0.6083 - actual_rmse_loss: 6.0832 - val_loss: 0.8142 - val_root_mean_squared_error: 0.8142 - val_actual_rmse_loss: 8.1420 - lr: 1.2000e-05\n",
            "Epoch 47/128\n",
            "31/31 [==============================] - ETA: 0s - loss: 0.6081 - root_mean_squared_error: 0.6081 - actual_rmse_loss: 6.0812\n",
            "Epoch 47: val_loss did not improve from 0.80400\n",
            "31/31 [==============================] - 4s 140ms/step - loss: 0.6081 - root_mean_squared_error: 0.6081 - actual_rmse_loss: 6.0812 - val_loss: 0.8136 - val_root_mean_squared_error: 0.8136 - val_actual_rmse_loss: 8.1361 - lr: 1.2000e-05\n",
            "Epoch 48/128\n",
            "31/31 [==============================] - ETA: 0s - loss: 0.6077 - root_mean_squared_error: 0.6077 - actual_rmse_loss: 6.0771\n",
            "Epoch 48: val_loss did not improve from 0.80400\n",
            "31/31 [==============================] - 4s 134ms/step - loss: 0.6077 - root_mean_squared_error: 0.6077 - actual_rmse_loss: 6.0771 - val_loss: 0.8141 - val_root_mean_squared_error: 0.8141 - val_actual_rmse_loss: 8.1415 - lr: 1.2000e-05\n",
            "Epoch 49/128\n",
            "31/31 [==============================] - ETA: 0s - loss: 0.6074 - root_mean_squared_error: 0.6074 - actual_rmse_loss: 6.0742\n",
            "Epoch 49: val_loss did not improve from 0.80400\n",
            "31/31 [==============================] - 4s 138ms/step - loss: 0.6074 - root_mean_squared_error: 0.6074 - actual_rmse_loss: 6.0742 - val_loss: 0.8144 - val_root_mean_squared_error: 0.8144 - val_actual_rmse_loss: 8.1439 - lr: 1.2000e-05\n",
            "Epoch 50/128\n",
            "31/31 [==============================] - ETA: 0s - loss: 0.6078 - root_mean_squared_error: 0.6078 - actual_rmse_loss: 6.0776\n",
            "Epoch 50: val_loss did not improve from 0.80400\n",
            "31/31 [==============================] - 4s 139ms/step - loss: 0.6078 - root_mean_squared_error: 0.6078 - actual_rmse_loss: 6.0776 - val_loss: 0.8156 - val_root_mean_squared_error: 0.8156 - val_actual_rmse_loss: 8.1558 - lr: 1.2000e-05\n",
            "Epoch 51/128\n",
            "31/31 [==============================] - ETA: 0s - loss: 0.6066 - root_mean_squared_error: 0.6066 - actual_rmse_loss: 6.0656\n",
            "Epoch 51: val_loss did not improve from 0.80400\n",
            "31/31 [==============================] - 4s 139ms/step - loss: 0.6066 - root_mean_squared_error: 0.6066 - actual_rmse_loss: 6.0656 - val_loss: 0.8134 - val_root_mean_squared_error: 0.8134 - val_actual_rmse_loss: 8.1336 - lr: 1.2000e-05\n",
            "Epoch 52/128\n",
            "31/31 [==============================] - ETA: 0s - loss: 0.6066 - root_mean_squared_error: 0.6066 - actual_rmse_loss: 6.0657\n",
            "Epoch 52: val_loss did not improve from 0.80400\n",
            "31/31 [==============================] - 4s 141ms/step - loss: 0.6066 - root_mean_squared_error: 0.6066 - actual_rmse_loss: 6.0657 - val_loss: 0.8143 - val_root_mean_squared_error: 0.8143 - val_actual_rmse_loss: 8.1425 - lr: 1.2000e-05\n",
            "Epoch 53/128\n",
            "31/31 [==============================] - ETA: 0s - loss: 0.6058 - root_mean_squared_error: 0.6058 - actual_rmse_loss: 6.0580\n",
            "Epoch 53: val_loss did not improve from 0.80400\n",
            "31/31 [==============================] - 4s 138ms/step - loss: 0.6058 - root_mean_squared_error: 0.6058 - actual_rmse_loss: 6.0580 - val_loss: 0.8146 - val_root_mean_squared_error: 0.8146 - val_actual_rmse_loss: 8.1456 - lr: 1.2000e-05\n",
            "Epoch 54/128\n",
            "31/31 [==============================] - ETA: 0s - loss: 0.6054 - root_mean_squared_error: 0.6054 - actual_rmse_loss: 6.0537\n",
            "Epoch 54: val_loss did not improve from 0.80400\n",
            "31/31 [==============================] - 4s 141ms/step - loss: 0.6054 - root_mean_squared_error: 0.6054 - actual_rmse_loss: 6.0537 - val_loss: 0.8130 - val_root_mean_squared_error: 0.8130 - val_actual_rmse_loss: 8.1302 - lr: 1.2000e-05\n",
            "Epoch 55/128\n",
            "31/31 [==============================] - ETA: 0s - loss: 0.6051 - root_mean_squared_error: 0.6051 - actual_rmse_loss: 6.0510\n",
            "Epoch 55: val_loss did not improve from 0.80400\n",
            "31/31 [==============================] - 4s 141ms/step - loss: 0.6051 - root_mean_squared_error: 0.6051 - actual_rmse_loss: 6.0510 - val_loss: 0.8126 - val_root_mean_squared_error: 0.8126 - val_actual_rmse_loss: 8.1256 - lr: 1.2000e-05\n",
            "Epoch 56/128\n",
            "31/31 [==============================] - ETA: 0s - loss: 0.6047 - root_mean_squared_error: 0.6047 - actual_rmse_loss: 6.0473\n",
            "Epoch 56: val_loss did not improve from 0.80400\n",
            "31/31 [==============================] - 4s 139ms/step - loss: 0.6047 - root_mean_squared_error: 0.6047 - actual_rmse_loss: 6.0473 - val_loss: 0.8133 - val_root_mean_squared_error: 0.8133 - val_actual_rmse_loss: 8.1325 - lr: 1.2000e-05\n",
            "Epoch 57/128\n",
            "31/31 [==============================] - ETA: 0s - loss: 0.6045 - root_mean_squared_error: 0.6045 - actual_rmse_loss: 6.0452\n",
            "Epoch 57: val_loss did not improve from 0.80400\n",
            "31/31 [==============================] - 4s 136ms/step - loss: 0.6045 - root_mean_squared_error: 0.6045 - actual_rmse_loss: 6.0452 - val_loss: 0.8139 - val_root_mean_squared_error: 0.8139 - val_actual_rmse_loss: 8.1391 - lr: 1.2000e-05\n",
            "Epoch 58/128\n",
            "31/31 [==============================] - ETA: 0s - loss: 0.6039 - root_mean_squared_error: 0.6039 - actual_rmse_loss: 6.0392\n",
            "Epoch 58: val_loss did not improve from 0.80400\n",
            "\n",
            "Epoch 58: ReduceLROnPlateau reducing learning rate to 4e-06.\n",
            "31/31 [==============================] - 4s 134ms/step - loss: 0.6039 - root_mean_squared_error: 0.6039 - actual_rmse_loss: 6.0392 - val_loss: 0.8137 - val_root_mean_squared_error: 0.8137 - val_actual_rmse_loss: 8.1365 - lr: 1.2000e-05\n",
            "Epoch 59/128\n",
            "31/31 [==============================] - ETA: 0s - loss: 0.6032 - root_mean_squared_error: 0.6032 - actual_rmse_loss: 6.0324\n",
            "Epoch 59: val_loss did not improve from 0.80400\n",
            "31/31 [==============================] - 4s 137ms/step - loss: 0.6032 - root_mean_squared_error: 0.6032 - actual_rmse_loss: 6.0324 - val_loss: 0.8133 - val_root_mean_squared_error: 0.8133 - val_actual_rmse_loss: 8.1327 - lr: 4.0000e-06\n",
            "Epoch 60/128\n",
            "31/31 [==============================] - ETA: 0s - loss: 0.6031 - root_mean_squared_error: 0.6031 - actual_rmse_loss: 6.0309\n",
            "Epoch 60: val_loss did not improve from 0.80400\n",
            "31/31 [==============================] - 4s 139ms/step - loss: 0.6031 - root_mean_squared_error: 0.6031 - actual_rmse_loss: 6.0309 - val_loss: 0.8138 - val_root_mean_squared_error: 0.8138 - val_actual_rmse_loss: 8.1379 - lr: 4.0000e-06\n",
            "Epoch 61/128\n",
            "31/31 [==============================] - ETA: 0s - loss: 0.6029 - root_mean_squared_error: 0.6029 - actual_rmse_loss: 6.0292\n",
            "Epoch 61: val_loss did not improve from 0.80400\n",
            "31/31 [==============================] - 4s 139ms/step - loss: 0.6029 - root_mean_squared_error: 0.6029 - actual_rmse_loss: 6.0292 - val_loss: 0.8141 - val_root_mean_squared_error: 0.8141 - val_actual_rmse_loss: 8.1413 - lr: 4.0000e-06\n",
            "Epoch 62/128\n",
            "31/31 [==============================] - ETA: 0s - loss: 0.6029 - root_mean_squared_error: 0.6029 - actual_rmse_loss: 6.0288\n",
            "Epoch 62: val_loss did not improve from 0.80400\n",
            "31/31 [==============================] - 4s 138ms/step - loss: 0.6029 - root_mean_squared_error: 0.6029 - actual_rmse_loss: 6.0288 - val_loss: 0.8143 - val_root_mean_squared_error: 0.8143 - val_actual_rmse_loss: 8.1429 - lr: 4.0000e-06\n",
            "Epoch 63/128\n",
            "31/31 [==============================] - ETA: 0s - loss: 0.6027 - root_mean_squared_error: 0.6027 - actual_rmse_loss: 6.0274\n",
            "Epoch 63: val_loss did not improve from 0.80400\n",
            "31/31 [==============================] - 4s 141ms/step - loss: 0.6027 - root_mean_squared_error: 0.6027 - actual_rmse_loss: 6.0274 - val_loss: 0.8140 - val_root_mean_squared_error: 0.8140 - val_actual_rmse_loss: 8.1397 - lr: 4.0000e-06\n",
            "Epoch 64/128\n",
            "31/31 [==============================] - ETA: 0s - loss: 0.6027 - root_mean_squared_error: 0.6027 - actual_rmse_loss: 6.0268\n",
            "Epoch 64: val_loss did not improve from 0.80400\n",
            "31/31 [==============================] - 4s 133ms/step - loss: 0.6027 - root_mean_squared_error: 0.6027 - actual_rmse_loss: 6.0268 - val_loss: 0.8137 - val_root_mean_squared_error: 0.8137 - val_actual_rmse_loss: 8.1367 - lr: 4.0000e-06\n",
            "Epoch 65/128\n",
            "31/31 [==============================] - ETA: 0s - loss: 0.6024 - root_mean_squared_error: 0.6024 - actual_rmse_loss: 6.0243\n",
            "Epoch 65: val_loss did not improve from 0.80400\n",
            "31/31 [==============================] - 4s 135ms/step - loss: 0.6024 - root_mean_squared_error: 0.6024 - actual_rmse_loss: 6.0243 - val_loss: 0.8139 - val_root_mean_squared_error: 0.8139 - val_actual_rmse_loss: 8.1394 - lr: 4.0000e-06\n",
            "Epoch 66/128\n",
            "31/31 [==============================] - ETA: 0s - loss: 0.6023 - root_mean_squared_error: 0.6023 - actual_rmse_loss: 6.0230\n",
            "Epoch 66: val_loss did not improve from 0.80400\n",
            "31/31 [==============================] - 4s 136ms/step - loss: 0.6023 - root_mean_squared_error: 0.6023 - actual_rmse_loss: 6.0230 - val_loss: 0.8139 - val_root_mean_squared_error: 0.8139 - val_actual_rmse_loss: 8.1387 - lr: 4.0000e-06\n",
            "Epoch 67/128\n",
            "31/31 [==============================] - ETA: 0s - loss: 0.6022 - root_mean_squared_error: 0.6022 - actual_rmse_loss: 6.0217\n",
            "Epoch 67: val_loss did not improve from 0.80400\n",
            "31/31 [==============================] - 4s 137ms/step - loss: 0.6022 - root_mean_squared_error: 0.6022 - actual_rmse_loss: 6.0217 - val_loss: 0.8137 - val_root_mean_squared_error: 0.8137 - val_actual_rmse_loss: 8.1365 - lr: 4.0000e-06\n",
            "Epoch 68/128\n",
            "31/31 [==============================] - ETA: 0s - loss: 0.6021 - root_mean_squared_error: 0.6021 - actual_rmse_loss: 6.0209\n",
            "Epoch 68: val_loss did not improve from 0.80400\n",
            "31/31 [==============================] - 4s 137ms/step - loss: 0.6021 - root_mean_squared_error: 0.6021 - actual_rmse_loss: 6.0209 - val_loss: 0.8136 - val_root_mean_squared_error: 0.8136 - val_actual_rmse_loss: 8.1364 - lr: 4.0000e-06\n",
            "Epoch 69/128\n",
            "31/31 [==============================] - ETA: 0s - loss: 0.6020 - root_mean_squared_error: 0.6020 - actual_rmse_loss: 6.0198\n",
            "Epoch 69: val_loss did not improve from 0.80400\n",
            "31/31 [==============================] - 5s 146ms/step - loss: 0.6020 - root_mean_squared_error: 0.6020 - actual_rmse_loss: 6.0198 - val_loss: 0.8132 - val_root_mean_squared_error: 0.8132 - val_actual_rmse_loss: 8.1320 - lr: 4.0000e-06\n",
            "Epoch 70/128\n",
            "31/31 [==============================] - ETA: 0s - loss: 0.6019 - root_mean_squared_error: 0.6019 - actual_rmse_loss: 6.0186\n",
            "Epoch 70: val_loss did not improve from 0.80400\n",
            "31/31 [==============================] - 4s 142ms/step - loss: 0.6019 - root_mean_squared_error: 0.6019 - actual_rmse_loss: 6.0186 - val_loss: 0.8134 - val_root_mean_squared_error: 0.8134 - val_actual_rmse_loss: 8.1338 - lr: 4.0000e-06\n",
            "Epoch 71/128\n",
            "31/31 [==============================] - ETA: 0s - loss: 0.6018 - root_mean_squared_error: 0.6018 - actual_rmse_loss: 6.0185\n",
            "Epoch 71: val_loss did not improve from 0.80400\n",
            "31/31 [==============================] - 4s 139ms/step - loss: 0.6018 - root_mean_squared_error: 0.6018 - actual_rmse_loss: 6.0185 - val_loss: 0.8136 - val_root_mean_squared_error: 0.8136 - val_actual_rmse_loss: 8.1360 - lr: 4.0000e-06\n",
            "Epoch 72/128\n",
            "31/31 [==============================] - ETA: 0s - loss: 0.6015 - root_mean_squared_error: 0.6015 - actual_rmse_loss: 6.0153\n",
            "Epoch 72: val_loss did not improve from 0.80400\n",
            "31/31 [==============================] - 4s 143ms/step - loss: 0.6015 - root_mean_squared_error: 0.6015 - actual_rmse_loss: 6.0153 - val_loss: 0.8142 - val_root_mean_squared_error: 0.8142 - val_actual_rmse_loss: 8.1419 - lr: 4.0000e-06\n",
            "Epoch 73/128\n",
            "31/31 [==============================] - ETA: 0s - loss: 0.6014 - root_mean_squared_error: 0.6014 - actual_rmse_loss: 6.0144\n",
            "Epoch 73: val_loss did not improve from 0.80400\n",
            "31/31 [==============================] - 4s 143ms/step - loss: 0.6014 - root_mean_squared_error: 0.6014 - actual_rmse_loss: 6.0144 - val_loss: 0.8137 - val_root_mean_squared_error: 0.8137 - val_actual_rmse_loss: 8.1365 - lr: 4.0000e-06\n",
            "Epoch 74/128\n",
            "31/31 [==============================] - ETA: 0s - loss: 0.6013 - root_mean_squared_error: 0.6013 - actual_rmse_loss: 6.0133\n",
            "Epoch 74: val_loss did not improve from 0.80400\n",
            "31/31 [==============================] - 4s 136ms/step - loss: 0.6013 - root_mean_squared_error: 0.6013 - actual_rmse_loss: 6.0133 - val_loss: 0.8130 - val_root_mean_squared_error: 0.8130 - val_actual_rmse_loss: 8.1304 - lr: 4.0000e-06\n",
            "Epoch 75/128\n",
            "31/31 [==============================] - ETA: 0s - loss: 0.6012 - root_mean_squared_error: 0.6012 - actual_rmse_loss: 6.0120\n",
            "Epoch 75: val_loss did not improve from 0.80400\n",
            "31/31 [==============================] - 4s 142ms/step - loss: 0.6012 - root_mean_squared_error: 0.6012 - actual_rmse_loss: 6.0120 - val_loss: 0.8131 - val_root_mean_squared_error: 0.8131 - val_actual_rmse_loss: 8.1309 - lr: 4.0000e-06\n",
            "Epoch 76/128\n",
            "31/31 [==============================] - ETA: 0s - loss: 0.6010 - root_mean_squared_error: 0.6010 - actual_rmse_loss: 6.0101\n",
            "Epoch 76: val_loss did not improve from 0.80400\n",
            "31/31 [==============================] - 4s 140ms/step - loss: 0.6010 - root_mean_squared_error: 0.6010 - actual_rmse_loss: 6.0101 - val_loss: 0.8137 - val_root_mean_squared_error: 0.8137 - val_actual_rmse_loss: 8.1368 - lr: 4.0000e-06\n",
            "Epoch 77/128\n",
            "31/31 [==============================] - ETA: 0s - loss: 0.6009 - root_mean_squared_error: 0.6009 - actual_rmse_loss: 6.0094\n",
            "Epoch 77: val_loss did not improve from 0.80400\n",
            "31/31 [==============================] - 4s 142ms/step - loss: 0.6009 - root_mean_squared_error: 0.6009 - actual_rmse_loss: 6.0094 - val_loss: 0.8133 - val_root_mean_squared_error: 0.8133 - val_actual_rmse_loss: 8.1329 - lr: 4.0000e-06\n",
            "Epoch 78/128\n",
            "31/31 [==============================] - ETA: 0s - loss: 0.6008 - root_mean_squared_error: 0.6008 - actual_rmse_loss: 6.0084\n",
            "Epoch 78: val_loss did not improve from 0.80400\n",
            "31/31 [==============================] - 4s 140ms/step - loss: 0.6008 - root_mean_squared_error: 0.6008 - actual_rmse_loss: 6.0084 - val_loss: 0.8135 - val_root_mean_squared_error: 0.8135 - val_actual_rmse_loss: 8.1353 - lr: 4.0000e-06\n",
            "Epoch 79/128\n",
            "31/31 [==============================] - ETA: 0s - loss: 0.6007 - root_mean_squared_error: 0.6007 - actual_rmse_loss: 6.0071\n",
            "Epoch 79: val_loss did not improve from 0.80400\n",
            "31/31 [==============================] - 4s 143ms/step - loss: 0.6007 - root_mean_squared_error: 0.6007 - actual_rmse_loss: 6.0071 - val_loss: 0.8135 - val_root_mean_squared_error: 0.8135 - val_actual_rmse_loss: 8.1352 - lr: 4.0000e-06\n",
            "Epoch 80/128\n",
            "31/31 [==============================] - ETA: 0s - loss: 0.6006 - root_mean_squared_error: 0.6006 - actual_rmse_loss: 6.0060\n",
            "Epoch 80: val_loss did not improve from 0.80400\n",
            "31/31 [==============================] - 4s 139ms/step - loss: 0.6006 - root_mean_squared_error: 0.6006 - actual_rmse_loss: 6.0060 - val_loss: 0.8130 - val_root_mean_squared_error: 0.8130 - val_actual_rmse_loss: 8.1303 - lr: 4.0000e-06\n",
            "Epoch 81/128\n",
            "31/31 [==============================] - ETA: 0s - loss: 0.6006 - root_mean_squared_error: 0.6006 - actual_rmse_loss: 6.0057\n",
            "Epoch 81: val_loss did not improve from 0.80400\n",
            "31/31 [==============================] - 4s 140ms/step - loss: 0.6006 - root_mean_squared_error: 0.6006 - actual_rmse_loss: 6.0057 - val_loss: 0.8137 - val_root_mean_squared_error: 0.8137 - val_actual_rmse_loss: 8.1367 - lr: 4.0000e-06\n",
            "Epoch 82/128\n",
            "31/31 [==============================] - ETA: 0s - loss: 0.6003 - root_mean_squared_error: 0.6003 - actual_rmse_loss: 6.0034\n",
            "Epoch 82: val_loss did not improve from 0.80400\n",
            "31/31 [==============================] - 4s 141ms/step - loss: 0.6003 - root_mean_squared_error: 0.6003 - actual_rmse_loss: 6.0034 - val_loss: 0.8136 - val_root_mean_squared_error: 0.8136 - val_actual_rmse_loss: 8.1361 - lr: 4.0000e-06\n",
            "Epoch 83/128\n",
            "31/31 [==============================] - ETA: 0s - loss: 0.6001 - root_mean_squared_error: 0.6001 - actual_rmse_loss: 6.0012\n",
            "Epoch 83: val_loss did not improve from 0.80400\n",
            "31/31 [==============================] - 4s 137ms/step - loss: 0.6001 - root_mean_squared_error: 0.6001 - actual_rmse_loss: 6.0012 - val_loss: 0.8138 - val_root_mean_squared_error: 0.8138 - val_actual_rmse_loss: 8.1382 - lr: 4.0000e-06\n",
            "Epoch 84/128\n",
            "31/31 [==============================] - ETA: 0s - loss: 0.6000 - root_mean_squared_error: 0.6000 - actual_rmse_loss: 6.0004\n",
            "Epoch 84: val_loss did not improve from 0.80400\n",
            "31/31 [==============================] - 4s 139ms/step - loss: 0.6000 - root_mean_squared_error: 0.6000 - actual_rmse_loss: 6.0004 - val_loss: 0.8137 - val_root_mean_squared_error: 0.8137 - val_actual_rmse_loss: 8.1369 - lr: 4.0000e-06\n",
            "Epoch 85/128\n",
            "31/31 [==============================] - ETA: 0s - loss: 0.6000 - root_mean_squared_error: 0.6000 - actual_rmse_loss: 5.9997\n",
            "Epoch 85: val_loss did not improve from 0.80400\n",
            "31/31 [==============================] - 4s 143ms/step - loss: 0.6000 - root_mean_squared_error: 0.6000 - actual_rmse_loss: 5.9997 - val_loss: 0.8136 - val_root_mean_squared_error: 0.8136 - val_actual_rmse_loss: 8.1365 - lr: 4.0000e-06\n",
            "Epoch 86/128\n",
            "31/31 [==============================] - ETA: 0s - loss: 0.5998 - root_mean_squared_error: 0.5998 - actual_rmse_loss: 5.9978\n",
            "Epoch 86: val_loss did not improve from 0.80400\n",
            "31/31 [==============================] - 5s 145ms/step - loss: 0.5998 - root_mean_squared_error: 0.5998 - actual_rmse_loss: 5.9978 - val_loss: 0.8136 - val_root_mean_squared_error: 0.8136 - val_actual_rmse_loss: 8.1362 - lr: 4.0000e-06\n",
            "Epoch 87/128\n",
            "31/31 [==============================] - ETA: 0s - loss: 0.5996 - root_mean_squared_error: 0.5996 - actual_rmse_loss: 5.9964\n",
            "Epoch 87: val_loss did not improve from 0.80400\n",
            "31/31 [==============================] - 4s 141ms/step - loss: 0.5996 - root_mean_squared_error: 0.5996 - actual_rmse_loss: 5.9964 - val_loss: 0.8135 - val_root_mean_squared_error: 0.8135 - val_actual_rmse_loss: 8.1350 - lr: 4.0000e-06\n",
            "Epoch 88/128\n",
            "31/31 [==============================] - ETA: 0s - loss: 0.5995 - root_mean_squared_error: 0.5995 - actual_rmse_loss: 5.9953\n",
            "Epoch 88: val_loss did not improve from 0.80400\n",
            "31/31 [==============================] - 4s 140ms/step - loss: 0.5995 - root_mean_squared_error: 0.5995 - actual_rmse_loss: 5.9953 - val_loss: 0.8137 - val_root_mean_squared_error: 0.8137 - val_actual_rmse_loss: 8.1370 - lr: 4.0000e-06\n",
            "Epoch 89/128\n",
            "31/31 [==============================] - ETA: 0s - loss: 0.5995 - root_mean_squared_error: 0.5995 - actual_rmse_loss: 5.9946\n",
            "Epoch 89: val_loss did not improve from 0.80400\n",
            "31/31 [==============================] - 4s 140ms/step - loss: 0.5995 - root_mean_squared_error: 0.5995 - actual_rmse_loss: 5.9946 - val_loss: 0.8140 - val_root_mean_squared_error: 0.8139 - val_actual_rmse_loss: 8.1395 - lr: 4.0000e-06\n",
            "Epoch 90/128\n",
            "31/31 [==============================] - ETA: 0s - loss: 0.5993 - root_mean_squared_error: 0.5993 - actual_rmse_loss: 5.9933\n",
            "Epoch 90: val_loss did not improve from 0.80400\n",
            "31/31 [==============================] - 4s 141ms/step - loss: 0.5993 - root_mean_squared_error: 0.5993 - actual_rmse_loss: 5.9933 - val_loss: 0.8131 - val_root_mean_squared_error: 0.8131 - val_actual_rmse_loss: 8.1310 - lr: 4.0000e-06\n",
            "Epoch 91/128\n",
            "31/31 [==============================] - ETA: 0s - loss: 0.5992 - root_mean_squared_error: 0.5992 - actual_rmse_loss: 5.9921\n",
            "Epoch 91: val_loss did not improve from 0.80400\n",
            "31/31 [==============================] - 4s 141ms/step - loss: 0.5992 - root_mean_squared_error: 0.5992 - actual_rmse_loss: 5.9921 - val_loss: 0.8139 - val_root_mean_squared_error: 0.8139 - val_actual_rmse_loss: 8.1389 - lr: 4.0000e-06\n",
            "Epoch 92/128\n",
            "31/31 [==============================] - ETA: 0s - loss: 0.5990 - root_mean_squared_error: 0.5990 - actual_rmse_loss: 5.9898\n",
            "Epoch 92: val_loss did not improve from 0.80400\n",
            "31/31 [==============================] - 4s 144ms/step - loss: 0.5990 - root_mean_squared_error: 0.5990 - actual_rmse_loss: 5.9898 - val_loss: 0.8136 - val_root_mean_squared_error: 0.8136 - val_actual_rmse_loss: 8.1357 - lr: 4.0000e-06\n",
            "Epoch 93/128\n",
            "31/31 [==============================] - ETA: 0s - loss: 0.5990 - root_mean_squared_error: 0.5990 - actual_rmse_loss: 5.9897\n",
            "Epoch 93: val_loss did not improve from 0.80400\n",
            "31/31 [==============================] - 4s 142ms/step - loss: 0.5990 - root_mean_squared_error: 0.5990 - actual_rmse_loss: 5.9897 - val_loss: 0.8138 - val_root_mean_squared_error: 0.8138 - val_actual_rmse_loss: 8.1378 - lr: 4.0000e-06\n",
            "Epoch 94/128\n",
            "31/31 [==============================] - ETA: 0s - loss: 0.5988 - root_mean_squared_error: 0.5988 - actual_rmse_loss: 5.9876\n",
            "Epoch 94: val_loss did not improve from 0.80400\n",
            "31/31 [==============================] - 4s 139ms/step - loss: 0.5988 - root_mean_squared_error: 0.5988 - actual_rmse_loss: 5.9876 - val_loss: 0.8137 - val_root_mean_squared_error: 0.8137 - val_actual_rmse_loss: 8.1372 - lr: 4.0000e-06\n",
            "Epoch 95/128\n",
            "31/31 [==============================] - ETA: 0s - loss: 0.5986 - root_mean_squared_error: 0.5986 - actual_rmse_loss: 5.9862\n",
            "Epoch 95: val_loss did not improve from 0.80400\n",
            "31/31 [==============================] - 4s 141ms/step - loss: 0.5986 - root_mean_squared_error: 0.5986 - actual_rmse_loss: 5.9862 - val_loss: 0.8134 - val_root_mean_squared_error: 0.8134 - val_actual_rmse_loss: 8.1343 - lr: 4.0000e-06\n",
            "Epoch 96/128\n",
            "31/31 [==============================] - ETA: 0s - loss: 0.5985 - root_mean_squared_error: 0.5985 - actual_rmse_loss: 5.9855\n",
            "Epoch 96: val_loss did not improve from 0.80400\n",
            "31/31 [==============================] - 5s 145ms/step - loss: 0.5985 - root_mean_squared_error: 0.5985 - actual_rmse_loss: 5.9855 - val_loss: 0.8135 - val_root_mean_squared_error: 0.8135 - val_actual_rmse_loss: 8.1349 - lr: 4.0000e-06\n",
            "Epoch 97/128\n",
            "31/31 [==============================] - ETA: 0s - loss: 0.5983 - root_mean_squared_error: 0.5983 - actual_rmse_loss: 5.9834\n",
            "Epoch 97: val_loss did not improve from 0.80400\n",
            "31/31 [==============================] - 5s 144ms/step - loss: 0.5983 - root_mean_squared_error: 0.5983 - actual_rmse_loss: 5.9834 - val_loss: 0.8137 - val_root_mean_squared_error: 0.8137 - val_actual_rmse_loss: 8.1369 - lr: 4.0000e-06\n",
            "Epoch 98/128\n",
            "31/31 [==============================] - ETA: 0s - loss: 0.5982 - root_mean_squared_error: 0.5982 - actual_rmse_loss: 5.9823\n",
            "Epoch 98: val_loss did not improve from 0.80400\n",
            "31/31 [==============================] - 4s 145ms/step - loss: 0.5982 - root_mean_squared_error: 0.5982 - actual_rmse_loss: 5.9823 - val_loss: 0.8135 - val_root_mean_squared_error: 0.8135 - val_actual_rmse_loss: 8.1350 - lr: 4.0000e-06\n",
            "Epoch 99/128\n",
            "31/31 [==============================] - ETA: 0s - loss: 0.5982 - root_mean_squared_error: 0.5982 - actual_rmse_loss: 5.9822\n",
            "Epoch 99: val_loss did not improve from 0.80400\n",
            "31/31 [==============================] - 4s 141ms/step - loss: 0.5982 - root_mean_squared_error: 0.5982 - actual_rmse_loss: 5.9822 - val_loss: 0.8133 - val_root_mean_squared_error: 0.8133 - val_actual_rmse_loss: 8.1328 - lr: 4.0000e-06\n",
            "Epoch 100/128\n",
            "31/31 [==============================] - ETA: 0s - loss: 0.5982 - root_mean_squared_error: 0.5982 - actual_rmse_loss: 5.9822\n",
            "Epoch 100: val_loss did not improve from 0.80400\n",
            "31/31 [==============================] - 4s 143ms/step - loss: 0.5982 - root_mean_squared_error: 0.5982 - actual_rmse_loss: 5.9822 - val_loss: 0.8132 - val_root_mean_squared_error: 0.8132 - val_actual_rmse_loss: 8.1317 - lr: 4.0000e-06\n",
            "Epoch 101/128\n",
            "31/31 [==============================] - ETA: 0s - loss: 0.5979 - root_mean_squared_error: 0.5979 - actual_rmse_loss: 5.9786\n",
            "Epoch 101: val_loss did not improve from 0.80400\n",
            "31/31 [==============================] - 4s 145ms/step - loss: 0.5979 - root_mean_squared_error: 0.5979 - actual_rmse_loss: 5.9786 - val_loss: 0.8140 - val_root_mean_squared_error: 0.8140 - val_actual_rmse_loss: 8.1398 - lr: 4.0000e-06\n",
            "Epoch 102/128\n",
            "31/31 [==============================] - ETA: 0s - loss: 0.5977 - root_mean_squared_error: 0.5977 - actual_rmse_loss: 5.9769\n",
            "Epoch 102: val_loss did not improve from 0.80400\n",
            "31/31 [==============================] - 5s 144ms/step - loss: 0.5977 - root_mean_squared_error: 0.5977 - actual_rmse_loss: 5.9769 - val_loss: 0.8135 - val_root_mean_squared_error: 0.8135 - val_actual_rmse_loss: 8.1349 - lr: 4.0000e-06\n",
            "Epoch 103/128\n",
            "31/31 [==============================] - ETA: 0s - loss: 0.5976 - root_mean_squared_error: 0.5976 - actual_rmse_loss: 5.9758\n",
            "Epoch 103: val_loss did not improve from 0.80400\n",
            "31/31 [==============================] - 4s 142ms/step - loss: 0.5976 - root_mean_squared_error: 0.5976 - actual_rmse_loss: 5.9758 - val_loss: 0.8134 - val_root_mean_squared_error: 0.8134 - val_actual_rmse_loss: 8.1338 - lr: 4.0000e-06\n",
            "Epoch 104/128\n",
            "31/31 [==============================] - ETA: 0s - loss: 0.5975 - root_mean_squared_error: 0.5975 - actual_rmse_loss: 5.9746\n",
            "Epoch 104: val_loss did not improve from 0.80400\n",
            "31/31 [==============================] - 5s 145ms/step - loss: 0.5975 - root_mean_squared_error: 0.5975 - actual_rmse_loss: 5.9746 - val_loss: 0.8133 - val_root_mean_squared_error: 0.8133 - val_actual_rmse_loss: 8.1329 - lr: 4.0000e-06\n",
            "Epoch 105/128\n",
            "31/31 [==============================] - ETA: 0s - loss: 0.5974 - root_mean_squared_error: 0.5974 - actual_rmse_loss: 5.9735\n",
            "Epoch 105: val_loss did not improve from 0.80400\n",
            "31/31 [==============================] - 5s 147ms/step - loss: 0.5974 - root_mean_squared_error: 0.5974 - actual_rmse_loss: 5.9735 - val_loss: 0.8134 - val_root_mean_squared_error: 0.8134 - val_actual_rmse_loss: 8.1345 - lr: 4.0000e-06\n",
            "Epoch 106/128\n",
            "31/31 [==============================] - ETA: 0s - loss: 0.5971 - root_mean_squared_error: 0.5971 - actual_rmse_loss: 5.9715\n",
            "Epoch 106: val_loss did not improve from 0.80400\n",
            "31/31 [==============================] - 5s 146ms/step - loss: 0.5971 - root_mean_squared_error: 0.5971 - actual_rmse_loss: 5.9715 - val_loss: 0.8135 - val_root_mean_squared_error: 0.8135 - val_actual_rmse_loss: 8.1348 - lr: 4.0000e-06\n",
            "Epoch 107/128\n",
            "31/31 [==============================] - ETA: 0s - loss: 0.5970 - root_mean_squared_error: 0.5970 - actual_rmse_loss: 5.9704\n",
            "Epoch 107: val_loss did not improve from 0.80400\n",
            "31/31 [==============================] - 4s 139ms/step - loss: 0.5970 - root_mean_squared_error: 0.5970 - actual_rmse_loss: 5.9704 - val_loss: 0.8140 - val_root_mean_squared_error: 0.8140 - val_actual_rmse_loss: 8.1403 - lr: 4.0000e-06\n",
            "Epoch 108/128\n",
            "31/31 [==============================] - ETA: 0s - loss: 0.5969 - root_mean_squared_error: 0.5969 - actual_rmse_loss: 5.9692\n",
            "Epoch 108: val_loss did not improve from 0.80400\n",
            "31/31 [==============================] - 5s 145ms/step - loss: 0.5969 - root_mean_squared_error: 0.5969 - actual_rmse_loss: 5.9692 - val_loss: 0.8136 - val_root_mean_squared_error: 0.8136 - val_actual_rmse_loss: 8.1357 - lr: 4.0000e-06\n",
            "Epoch 109/128\n",
            "31/31 [==============================] - ETA: 0s - loss: 0.5967 - root_mean_squared_error: 0.5967 - actual_rmse_loss: 5.9673\n",
            "Epoch 109: val_loss did not improve from 0.80400\n",
            "31/31 [==============================] - 4s 140ms/step - loss: 0.5967 - root_mean_squared_error: 0.5967 - actual_rmse_loss: 5.9673 - val_loss: 0.8137 - val_root_mean_squared_error: 0.8137 - val_actual_rmse_loss: 8.1368 - lr: 4.0000e-06\n",
            "Epoch 110/128\n",
            "31/31 [==============================] - ETA: 0s - loss: 0.5967 - root_mean_squared_error: 0.5967 - actual_rmse_loss: 5.9669\n",
            "Epoch 110: val_loss did not improve from 0.80400\n",
            "31/31 [==============================] - 4s 144ms/step - loss: 0.5967 - root_mean_squared_error: 0.5967 - actual_rmse_loss: 5.9669 - val_loss: 0.8136 - val_root_mean_squared_error: 0.8136 - val_actual_rmse_loss: 8.1364 - lr: 4.0000e-06\n",
            "Epoch 111/128\n",
            "31/31 [==============================] - ETA: 0s - loss: 0.5965 - root_mean_squared_error: 0.5965 - actual_rmse_loss: 5.9653\n",
            "Epoch 111: val_loss did not improve from 0.80400\n",
            "31/31 [==============================] - 4s 143ms/step - loss: 0.5965 - root_mean_squared_error: 0.5965 - actual_rmse_loss: 5.9653 - val_loss: 0.8135 - val_root_mean_squared_error: 0.8135 - val_actual_rmse_loss: 8.1347 - lr: 4.0000e-06\n",
            "Epoch 112/128\n",
            "31/31 [==============================] - ETA: 0s - loss: 0.5964 - root_mean_squared_error: 0.5964 - actual_rmse_loss: 5.9637\n",
            "Epoch 112: val_loss did not improve from 0.80400\n",
            "31/31 [==============================] - 4s 144ms/step - loss: 0.5964 - root_mean_squared_error: 0.5964 - actual_rmse_loss: 5.9637 - val_loss: 0.8136 - val_root_mean_squared_error: 0.8136 - val_actual_rmse_loss: 8.1363 - lr: 4.0000e-06\n",
            "Epoch 113/128\n",
            "31/31 [==============================] - ETA: 0s - loss: 0.5963 - root_mean_squared_error: 0.5963 - actual_rmse_loss: 5.9631\n",
            "Epoch 113: val_loss did not improve from 0.80400\n",
            "31/31 [==============================] - 4s 143ms/step - loss: 0.5963 - root_mean_squared_error: 0.5963 - actual_rmse_loss: 5.9631 - val_loss: 0.8141 - val_root_mean_squared_error: 0.8141 - val_actual_rmse_loss: 8.1408 - lr: 4.0000e-06\n",
            "Epoch 114/128\n",
            "31/31 [==============================] - ETA: 0s - loss: 0.5962 - root_mean_squared_error: 0.5962 - actual_rmse_loss: 5.9615\n",
            "Epoch 114: val_loss did not improve from 0.80400\n",
            "31/31 [==============================] - 5s 145ms/step - loss: 0.5962 - root_mean_squared_error: 0.5962 - actual_rmse_loss: 5.9615 - val_loss: 0.8138 - val_root_mean_squared_error: 0.8138 - val_actual_rmse_loss: 8.1377 - lr: 4.0000e-06\n",
            "Epoch 115/128\n",
            "31/31 [==============================] - ETA: 0s - loss: 0.5960 - root_mean_squared_error: 0.5960 - actual_rmse_loss: 5.9595\n",
            "Epoch 115: val_loss did not improve from 0.80400\n",
            "31/31 [==============================] - 4s 143ms/step - loss: 0.5960 - root_mean_squared_error: 0.5960 - actual_rmse_loss: 5.9595 - val_loss: 0.8135 - val_root_mean_squared_error: 0.8135 - val_actual_rmse_loss: 8.1348 - lr: 4.0000e-06\n",
            "Epoch 116/128\n",
            "31/31 [==============================] - ETA: 0s - loss: 0.5959 - root_mean_squared_error: 0.5959 - actual_rmse_loss: 5.9590\n",
            "Epoch 116: val_loss did not improve from 0.80400\n",
            "31/31 [==============================] - 5s 149ms/step - loss: 0.5959 - root_mean_squared_error: 0.5959 - actual_rmse_loss: 5.9590 - val_loss: 0.8139 - val_root_mean_squared_error: 0.8139 - val_actual_rmse_loss: 8.1385 - lr: 4.0000e-06\n",
            "Epoch 117/128\n",
            "31/31 [==============================] - ETA: 0s - loss: 0.5957 - root_mean_squared_error: 0.5957 - actual_rmse_loss: 5.9573\n",
            "Epoch 117: val_loss did not improve from 0.80400\n",
            "31/31 [==============================] - 5s 146ms/step - loss: 0.5957 - root_mean_squared_error: 0.5957 - actual_rmse_loss: 5.9573 - val_loss: 0.8134 - val_root_mean_squared_error: 0.8134 - val_actual_rmse_loss: 8.1340 - lr: 4.0000e-06\n",
            "Epoch 118/128\n",
            "31/31 [==============================] - ETA: 0s - loss: 0.5956 - root_mean_squared_error: 0.5956 - actual_rmse_loss: 5.9556\n",
            "Epoch 118: val_loss did not improve from 0.80400\n",
            "31/31 [==============================] - 4s 144ms/step - loss: 0.5956 - root_mean_squared_error: 0.5956 - actual_rmse_loss: 5.9556 - val_loss: 0.8136 - val_root_mean_squared_error: 0.8136 - val_actual_rmse_loss: 8.1364 - lr: 4.0000e-06\n",
            "Epoch 119/128\n",
            "31/31 [==============================] - ETA: 0s - loss: 0.5955 - root_mean_squared_error: 0.5955 - actual_rmse_loss: 5.9552\n",
            "Epoch 119: val_loss did not improve from 0.80400\n",
            "31/31 [==============================] - 5s 150ms/step - loss: 0.5955 - root_mean_squared_error: 0.5955 - actual_rmse_loss: 5.9552 - val_loss: 0.8131 - val_root_mean_squared_error: 0.8131 - val_actual_rmse_loss: 8.1314 - lr: 4.0000e-06\n",
            "Epoch 120/128\n",
            "31/31 [==============================] - ETA: 0s - loss: 0.5954 - root_mean_squared_error: 0.5954 - actual_rmse_loss: 5.9536\n",
            "Epoch 120: val_loss did not improve from 0.80400\n",
            "31/31 [==============================] - 5s 145ms/step - loss: 0.5954 - root_mean_squared_error: 0.5954 - actual_rmse_loss: 5.9536 - val_loss: 0.8138 - val_root_mean_squared_error: 0.8138 - val_actual_rmse_loss: 8.1376 - lr: 4.0000e-06\n",
            "Epoch 121/128\n",
            "31/31 [==============================] - ETA: 0s - loss: 0.5953 - root_mean_squared_error: 0.5953 - actual_rmse_loss: 5.9530\n",
            "Epoch 121: val_loss did not improve from 0.80400\n",
            "31/31 [==============================] - 4s 143ms/step - loss: 0.5953 - root_mean_squared_error: 0.5953 - actual_rmse_loss: 5.9530 - val_loss: 0.8135 - val_root_mean_squared_error: 0.8135 - val_actual_rmse_loss: 8.1353 - lr: 4.0000e-06\n",
            "Epoch 122/128\n",
            "31/31 [==============================] - ETA: 0s - loss: 0.5950 - root_mean_squared_error: 0.5950 - actual_rmse_loss: 5.9504\n",
            "Epoch 122: val_loss did not improve from 0.80400\n",
            "31/31 [==============================] - 4s 141ms/step - loss: 0.5950 - root_mean_squared_error: 0.5950 - actual_rmse_loss: 5.9504 - val_loss: 0.8132 - val_root_mean_squared_error: 0.8132 - val_actual_rmse_loss: 8.1323 - lr: 4.0000e-06\n",
            "Epoch 123/128\n",
            "31/31 [==============================] - ETA: 0s - loss: 0.5949 - root_mean_squared_error: 0.5949 - actual_rmse_loss: 5.9494\n",
            "Epoch 123: val_loss did not improve from 0.80400\n",
            "31/31 [==============================] - 4s 143ms/step - loss: 0.5949 - root_mean_squared_error: 0.5949 - actual_rmse_loss: 5.9494 - val_loss: 0.8134 - val_root_mean_squared_error: 0.8134 - val_actual_rmse_loss: 8.1344 - lr: 4.0000e-06\n",
            "Epoch 124/128\n",
            "31/31 [==============================] - ETA: 0s - loss: 0.5948 - root_mean_squared_error: 0.5948 - actual_rmse_loss: 5.9483\n",
            "Epoch 124: val_loss did not improve from 0.80400\n",
            "31/31 [==============================] - 5s 145ms/step - loss: 0.5948 - root_mean_squared_error: 0.5948 - actual_rmse_loss: 5.9483 - val_loss: 0.8140 - val_root_mean_squared_error: 0.8140 - val_actual_rmse_loss: 8.1399 - lr: 4.0000e-06\n",
            "Epoch 125/128\n",
            "31/31 [==============================] - ETA: 0s - loss: 0.5946 - root_mean_squared_error: 0.5946 - actual_rmse_loss: 5.9457\n",
            "Epoch 125: val_loss did not improve from 0.80400\n",
            "31/31 [==============================] - 4s 144ms/step - loss: 0.5946 - root_mean_squared_error: 0.5946 - actual_rmse_loss: 5.9457 - val_loss: 0.8135 - val_root_mean_squared_error: 0.8135 - val_actual_rmse_loss: 8.1354 - lr: 4.0000e-06\n",
            "Epoch 126/128\n",
            "31/31 [==============================] - ETA: 0s - loss: 0.5945 - root_mean_squared_error: 0.5945 - actual_rmse_loss: 5.9448\n",
            "Epoch 126: val_loss did not improve from 0.80400\n",
            "31/31 [==============================] - 4s 141ms/step - loss: 0.5945 - root_mean_squared_error: 0.5945 - actual_rmse_loss: 5.9448 - val_loss: 0.8133 - val_root_mean_squared_error: 0.8133 - val_actual_rmse_loss: 8.1330 - lr: 4.0000e-06\n",
            "Epoch 127/128\n",
            "31/31 [==============================] - ETA: 0s - loss: 0.5944 - root_mean_squared_error: 0.5944 - actual_rmse_loss: 5.9438\n",
            "Epoch 127: val_loss did not improve from 0.80400\n",
            "31/31 [==============================] - 4s 142ms/step - loss: 0.5944 - root_mean_squared_error: 0.5944 - actual_rmse_loss: 5.9438 - val_loss: 0.8137 - val_root_mean_squared_error: 0.8137 - val_actual_rmse_loss: 8.1373 - lr: 4.0000e-06\n",
            "Epoch 128/128\n",
            "31/31 [==============================] - ETA: 0s - loss: 0.5943 - root_mean_squared_error: 0.5943 - actual_rmse_loss: 5.9434\n",
            "Epoch 128: val_loss did not improve from 0.80400\n",
            "31/31 [==============================] - 4s 142ms/step - loss: 0.5943 - root_mean_squared_error: 0.5943 - actual_rmse_loss: 5.9434 - val_loss: 0.8134 - val_root_mean_squared_error: 0.8134 - val_actual_rmse_loss: 8.1338 - lr: 4.0000e-06\n"
          ]
        }
      ],
      "source": [
        "history = train(\n",
        "    model,\n",
        "    training_generator, \n",
        "    validation_generator,\n",
        "    std_observed = 10,\n",
        "    epochs = 128\n",
        "    )"
      ]
    },
    {
      "cell_type": "code",
      "execution_count": null,
      "metadata": {
        "colab": {
          "base_uri": "https://localhost:8080/"
        },
        "id": "ih3501HNvAyT",
        "outputId": "64955d75-7cff-4705-9b0c-02e16c66f61a"
      },
      "outputs": [
        {
          "name": "stdout",
          "output_type": "stream",
          "text": [
            "(15, 4, 32, 32, 7) (15, 32, 32, 1)\n"
          ]
        }
      ],
      "source": [
        "for xx, yy in itertools.islice(training_generator, 0, 1, 1):\n",
        "    print(xx.shape, yy.shape)\n",
        "    temp = model.predict(xx)\n",
        "\n",
        "# std: 11.080416833336841; Mean: 2.924777858185797\n",
        "pr_mean = 3\n",
        "pr_std = 11"
      ]
    },
    {
      "cell_type": "code",
      "execution_count": null,
      "metadata": {
        "colab": {
          "base_uri": "https://localhost:8080/",
          "height": 282
        },
        "id": "uymD5JxYvoUX",
        "outputId": "07593427-1c6f-4df4-fd8f-ab19ab95a564"
      },
      "outputs": [
        {
          "data": {
            "text/plain": [
              "<matplotlib.axes._subplots.AxesSubplot at 0x7fde37b0a590>"
            ]
          },
          "execution_count": 56,
          "metadata": {},
          "output_type": "execute_result"
        },
        {
          "data": {
            "image/png": "[encoded data removed]",
            "text/plain": [
              "<Figure size 432x288 with 2 Axes>"
            ]
          },
          "metadata": {
            "needs_background": "light"
          },
          "output_type": "display_data"
        }
      ],
      "source": [
        "# xx[0,-1,:,:,0].shape\n",
        "sns.heatmap(xx[3,-1,:,:,0], cmap = 'rainbow', cbar = True)"
      ]
    },
    {
      "cell_type": "code",
      "execution_count": null,
      "metadata": {
        "colab": {
          "base_uri": "https://localhost:8080/",
          "height": 282
        },
        "id": "I_LVik9kwiD-",
        "outputId": "42ed9507-c5b9-4403-9330-c45d52b24ebe"
      },
      "outputs": [
        {
          "data": {
            "text/plain": [
              "<matplotlib.axes._subplots.AxesSubplot at 0x7fde3724d5d0>"
            ]
          },
          "execution_count": 57,
          "metadata": {},
          "output_type": "execute_result"
        },
        {
          "data": {
            "image/png": "[encoded data removed]",
            "text/plain": [
              "<Figure size 432x288 with 2 Axes>"
            ]
          },
          "metadata": {
            "needs_background": "light"
          },
          "output_type": "display_data"
        }
      ],
      "source": [
        "# yy[-1,:,:,0].shape\n",
        "sns.heatmap((yy[3,:,:,0]*pr_std) + pr_mean, cmap = 'rainbow', cbar = True)"
      ]
    },
    {
      "cell_type": "code",
      "execution_count": null,
      "metadata": {
        "colab": {
          "base_uri": "https://localhost:8080/",
          "height": 282
        },
        "id": "7medTvP1vVbA",
        "outputId": "cbd589c7-72c8-4ff2-b57b-53b02ecfa5ee"
      },
      "outputs": [
        {
          "data": {
            "text/plain": [
              "<matplotlib.axes._subplots.AxesSubplot at 0x7fde371dbe50>"
            ]
          },
          "execution_count": 58,
          "metadata": {},
          "output_type": "execute_result"
        },
        {
          "data": {
            "image/png": "[encoded data removed]",
            "text/plain": [
              "<Figure size 432x288 with 2 Axes>"
            ]
          },
          "metadata": {
            "needs_background": "light"
          },
          "output_type": "display_data"
        }
      ],
      "source": [
        "sns.heatmap((temp[3,:,:,0]*pr_std) + pr_mean, cmap = 'rainbow', cbar = True)"
      ]
    },
    {
      "cell_type": "markdown",
      "metadata": {
        "id": "NZVzbWRatjUC"
      },
      "source": [
        "# At-Scale Downscaling Results from ConvLSTM"
      ]
    },
    {
      "cell_type": "markdown",
      "metadata": {
        "id": "qzpq5UvDvbM-"
      },
      "source": [
        "## Downscaled outputs for MIROC-ESM \n",
        "![](https://raw.githubusercontent.com/dubeysarth/Lab_Downscaling/main/Data/MIROC-ESM_Downscaled.gif)"
      ]
    },
    {
      "cell_type": "markdown",
      "metadata": {
        "id": "-E37fI-muNES"
      },
      "source": [
        "![](https://raw.githubusercontent.com/dubeysarth/Lab_Downscaling/main/Data/02/MIROC-ESM_rmse.png)"
      ]
    },
    {
      "cell_type": "markdown",
      "metadata": {
        "id": "klFjEuHXuu7y"
      },
      "source": [
        "![](https://raw.githubusercontent.com/dubeysarth/Lab_Downscaling/main/Data/02/MIROC-ESM_rmse99.png)"
      ]
    },
    {
      "cell_type": "code",
      "execution_count": null,
      "metadata": {
        "id": "qgVq6P4WmvJt"
      },
      "outputs": [],
      "source": []
    }
  ],
  "metadata": {
    "accelerator": "GPU",
    "colab": {
      "collapsed_sections": [],
      "name": "Downscaling.ipynb",
      "provenance": [],
      "toc_visible": true
    },
    "gpuClass": "standard",
    "kernelspec": {
      "display_name": "Python 3",
      "name": "python3"
    },
    "language_info": {
      "name": "python"
    }
  },
  "nbformat": 4,
  "nbformat_minor": 0
}
